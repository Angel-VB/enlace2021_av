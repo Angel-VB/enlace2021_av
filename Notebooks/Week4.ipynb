{
 "cells": [
  {
   "cell_type": "markdown",
   "id": "a4b305cc-142a-4f05-ba41-53ea4bb5b1b3",
   "metadata": {},
   "source": [
    "# Population Density of Mexican States and Municipalities\n",
    "\n",
    "This Notebook downloads Geopandas GeoDataFrames for States (admin1) and Municipalities (admin2) derived from the 2020 Mexican Census: [INEGI](https://www.inegi.org.mx/temas/mg/).\n",
    "\n",
    "For details how these dataframe were created, see the [mexican-boundaries](https://github.com/sbl-sdsc/mexico-boundaries) GitHub project."
   ]
  },
  {
   "cell_type": "code",
   "execution_count": 1,
   "id": "f351c5d3-22c6-4644-a8e5-76aff5b5ca51",
   "metadata": {},
   "outputs": [
    {
     "name": "stdout",
     "output_type": "stream",
     "text": [
      "{'commit_hash': '30cd45eb7',\n",
      " 'commit_source': 'installation',\n",
      " 'default_encoding': 'cp1252',\n",
      " 'ipython_path': 'D:\\\\Users\\\\angel\\\\miniconda3\\\\Lib\\\\site-packages\\\\IPython',\n",
      " 'ipython_version': '7.24.1',\n",
      " 'os_name': 'nt',\n",
      " 'platform': 'Windows-10-10.0.19041-SP0',\n",
      " 'sys_executable': 'D:\\\\Users\\\\angel\\\\miniconda3\\\\python.exe',\n",
      " 'sys_platform': 'win32',\n",
      " 'sys_version': '3.9.5 (default, May 18 2021, 14:42:02) [MSC v.1916 64 bit '\n",
      "                '(AMD64)]'}\n"
     ]
    }
   ],
   "source": [
    "from io import BytesIO\n",
    "from urllib.request import urlopen\n",
    "import pandas as pd\n",
    "import geopandas as gpd\n",
    "import matplotlib.pyplot as plt\n",
    "import ipywidgets as widgets\n",
    "import IPython\n",
    "print(IPython.sys_info())\n",
    "from IPython import get_ipython\n",
    "get_ipython().run_line_magic('matplotlib', 'inline')\n",
    "%matplotlib inline\n",
    "%reload_ext autoreload\n",
    "%autoreload 2\n"
   ]
  },
  {
   "cell_type": "code",
   "execution_count": 2,
   "id": "9ab7f145-ac0b-499b-9f89-8591f343c05a",
   "metadata": {},
   "outputs": [],
   "source": [
    "pd.options.display.max_rows = None  # display all rows\n",
    "pd.options.display.max_columns = None  # display all columsns"
   ]
  },
  {
   "cell_type": "markdown",
   "id": "583b8ecd-adcc-41a6-a1f9-13ee35eea81d",
   "metadata": {},
   "source": [
    "## Boundaries of Mexican States"
   ]
  },
  {
   "cell_type": "markdown",
   "id": "44b7bcd8-0320-439b-961f-de0d391b8bfb",
   "metadata": {},
   "source": [
    "Read boundary polygons for Mexican states from shapefile"
   ]
  },
  {
   "cell_type": "code",
   "execution_count": 3,
   "id": "ced43c74-8a25-4d80-933e-e84ecea69c1e",
   "metadata": {},
   "outputs": [],
   "source": [
    "admin1_url = 'https://raw.githubusercontent.com/sbl-sdsc/mexico-boundaries/main/data/mexico_admin1.parquet'"
   ]
  },
  {
   "cell_type": "code",
   "execution_count": 4,
   "id": "bd441820-5603-451e-8800-e4f9432ba22a",
   "metadata": {},
   "outputs": [],
   "source": [
    "resp = urlopen(admin1_url)\n",
    "admin1 = gpd.read_parquet(BytesIO(resp.read()))"
   ]
  },
  {
   "cell_type": "markdown",
   "id": "9e9438fc-38cf-40b2-8be6-8d631aa726e0",
   "metadata": {},
   "source": [
    "Calculate the area of each state (convert area from m^2 to km^2"
   ]
  },
  {
   "cell_type": "code",
   "execution_count": 5,
   "id": "537fbe2e-d6d8-449b-80d1-df1dc6451d25",
   "metadata": {},
   "outputs": [
    {
     "data": {
      "text/plain": [
       "<Projected CRS: PROJCRS[\"MEXICO_ITRF_2008_LCC\",BASEGEOGCRS[\"MEXICO ...>\n",
       "Name: MEXICO_ITRF_2008_LCC\n",
       "Axis Info [cartesian]:\n",
       "- [east]: Easting (metre)\n",
       "- [north]: Northing (metre)\n",
       "Area of Use:\n",
       "- undefined\n",
       "Coordinate Operation:\n",
       "- name: unnamed\n",
       "- method: Lambert Conic Conformal (2SP)\n",
       "Datum: International Terrestrial Reference Frame 2008\n",
       "- Ellipsoid: GRS 1980\n",
       "- Prime Meridian: Greenwich"
      ]
     },
     "execution_count": 5,
     "metadata": {},
     "output_type": "execute_result"
    }
   ],
   "source": [
    "admin1.crs"
   ]
  },
  {
   "cell_type": "code",
   "execution_count": 6,
   "id": "7719a5bd-a0d7-46c4-a549-d706efb327c7",
   "metadata": {},
   "outputs": [],
   "source": [
    "admin1['area_sqkm'] = admin1['geometry'].area/ 10**6"
   ]
  },
  {
   "cell_type": "code",
   "execution_count": 7,
   "id": "fcdfcd4e-506e-499e-9115-44d030621b98",
   "metadata": {},
   "outputs": [
    {
     "data": {
      "text/html": [
       "<div>\n",
       "<style scoped>\n",
       "    .dataframe tbody tr th:only-of-type {\n",
       "        vertical-align: middle;\n",
       "    }\n",
       "\n",
       "    .dataframe tbody tr th {\n",
       "        vertical-align: top;\n",
       "    }\n",
       "\n",
       "    .dataframe thead th {\n",
       "        text-align: right;\n",
       "    }\n",
       "</style>\n",
       "<table border=\"1\" class=\"dataframe\">\n",
       "  <thead>\n",
       "    <tr style=\"text-align: right;\">\n",
       "      <th></th>\n",
       "      <th>CVEGEO</th>\n",
       "      <th>CVE_ENT</th>\n",
       "      <th>NOMGEO</th>\n",
       "      <th>geometry</th>\n",
       "      <th>area_sqkm</th>\n",
       "    </tr>\n",
       "  </thead>\n",
       "  <tbody>\n",
       "    <tr>\n",
       "      <th>0</th>\n",
       "      <td>01</td>\n",
       "      <td>01</td>\n",
       "      <td>Aguascalientes</td>\n",
       "      <td>POLYGON ((2470517.824 1155028.588, 2470552.248...</td>\n",
       "      <td>5558.673843</td>\n",
       "    </tr>\n",
       "    <tr>\n",
       "      <th>1</th>\n",
       "      <td>02</td>\n",
       "      <td>02</td>\n",
       "      <td>Baja California</td>\n",
       "      <td>MULTIPOLYGON (((1493197.166 1849625.247, 14934...</td>\n",
       "      <td>73516.697324</td>\n",
       "    </tr>\n",
       "    <tr>\n",
       "      <th>2</th>\n",
       "      <td>03</td>\n",
       "      <td>03</td>\n",
       "      <td>Baja California Sur</td>\n",
       "      <td>MULTIPOLYGON (((1694656.344 1227647.637, 16946...</td>\n",
       "      <td>73970.687326</td>\n",
       "    </tr>\n",
       "    <tr>\n",
       "      <th>3</th>\n",
       "      <td>04</td>\n",
       "      <td>04</td>\n",
       "      <td>Campeche</td>\n",
       "      <td>MULTIPOLYGON (((3544897.199 946994.621, 354491...</td>\n",
       "      <td>57254.511636</td>\n",
       "    </tr>\n",
       "    <tr>\n",
       "      <th>4</th>\n",
       "      <td>05</td>\n",
       "      <td>05</td>\n",
       "      <td>Coahuila de Zaragoza</td>\n",
       "      <td>POLYGON ((2469954.193 1978522.993, 2469982.807...</td>\n",
       "      <td>150671.222986</td>\n",
       "    </tr>\n",
       "  </tbody>\n",
       "</table>\n",
       "</div>"
      ],
      "text/plain": [
       "  CVEGEO CVE_ENT                NOMGEO  \\\n",
       "0     01      01        Aguascalientes   \n",
       "1     02      02       Baja California   \n",
       "2     03      03   Baja California Sur   \n",
       "3     04      04              Campeche   \n",
       "4     05      05  Coahuila de Zaragoza   \n",
       "\n",
       "                                            geometry      area_sqkm  \n",
       "0  POLYGON ((2470517.824 1155028.588, 2470552.248...    5558.673843  \n",
       "1  MULTIPOLYGON (((1493197.166 1849625.247, 14934...   73516.697324  \n",
       "2  MULTIPOLYGON (((1694656.344 1227647.637, 16946...   73970.687326  \n",
       "3  MULTIPOLYGON (((3544897.199 946994.621, 354491...   57254.511636  \n",
       "4  POLYGON ((2469954.193 1978522.993, 2469982.807...  150671.222986  "
      ]
     },
     "execution_count": 7,
     "metadata": {},
     "output_type": "execute_result"
    }
   ],
   "source": [
    "admin1.head()"
   ]
  },
  {
   "cell_type": "code",
   "execution_count": 8,
   "id": "9b910d60-db7e-493d-b449-e9823291a40a",
   "metadata": {},
   "outputs": [
    {
     "data": {
      "image/png": "[encoded data removed]",
      "text/plain": [
       "<Figure size 432x288 with 1 Axes>"
      ]
     },
     "metadata": {
      "needs_background": "light"
     },
     "output_type": "display_data"
    }
   ],
   "source": [
    "admin1.plot();"
   ]
  },
  {
   "cell_type": "markdown",
   "id": "87283d90-e32e-416d-baed-540793090ac2",
   "metadata": {},
   "source": [
    "## Map of Population by State"
   ]
  },
  {
   "cell_type": "markdown",
   "id": "61ee7d39-0ba2-4377-aeea-e99daf2866b8",
   "metadata": {},
   "source": [
    "Get population from COVID-19 data files"
   ]
  },
  {
   "cell_type": "code",
   "execution_count": 9,
   "id": "036ac035-1019-46a6-a01e-c41d4d522785",
   "metadata": {},
   "outputs": [],
   "source": [
    "population_admin1 = pd.read_csv('../Data/Casos_Diarios_Estado_Nacional_Defunciones_20210621.csv', \n",
    "                                usecols=['cve_ent', 'poblacion', 'nombre'])"
   ]
  },
  {
   "cell_type": "code",
   "execution_count": 10,
   "id": "4d953b75-edb4-48ec-98a9-c476078fd5c3",
   "metadata": {},
   "outputs": [
    {
     "data": {
      "text/html": [
       "<div>\n",
       "<style scoped>\n",
       "    .dataframe tbody tr th:only-of-type {\n",
       "        vertical-align: middle;\n",
       "    }\n",
       "\n",
       "    .dataframe tbody tr th {\n",
       "        vertical-align: top;\n",
       "    }\n",
       "\n",
       "    .dataframe thead th {\n",
       "        text-align: right;\n",
       "    }\n",
       "</style>\n",
       "<table border=\"1\" class=\"dataframe\">\n",
       "  <thead>\n",
       "    <tr style=\"text-align: right;\">\n",
       "      <th></th>\n",
       "      <th>cve_ent</th>\n",
       "      <th>poblacion</th>\n",
       "      <th>nombre</th>\n",
       "    </tr>\n",
       "  </thead>\n",
       "  <tbody>\n",
       "    <tr>\n",
       "      <th>0</th>\n",
       "      <td>1</td>\n",
       "      <td>1434635</td>\n",
       "      <td>AGUASCALIENTES</td>\n",
       "    </tr>\n",
       "    <tr>\n",
       "      <th>1</th>\n",
       "      <td>2</td>\n",
       "      <td>3634868</td>\n",
       "      <td>BAJA CALIFORNIA</td>\n",
       "    </tr>\n",
       "    <tr>\n",
       "      <th>2</th>\n",
       "      <td>3</td>\n",
       "      <td>804708</td>\n",
       "      <td>BAJA CALIFORNIA SUR</td>\n",
       "    </tr>\n",
       "    <tr>\n",
       "      <th>3</th>\n",
       "      <td>4</td>\n",
       "      <td>1000617</td>\n",
       "      <td>CAMPECHE</td>\n",
       "    </tr>\n",
       "    <tr>\n",
       "      <th>4</th>\n",
       "      <td>7</td>\n",
       "      <td>5730367</td>\n",
       "      <td>CHIAPAS</td>\n",
       "    </tr>\n",
       "  </tbody>\n",
       "</table>\n",
       "</div>"
      ],
      "text/plain": [
       "   cve_ent  poblacion               nombre\n",
       "0        1    1434635       AGUASCALIENTES\n",
       "1        2    3634868      BAJA CALIFORNIA\n",
       "2        3     804708  BAJA CALIFORNIA SUR\n",
       "3        4    1000617             CAMPECHE\n",
       "4        7    5730367              CHIAPAS"
      ]
     },
     "execution_count": 10,
     "metadata": {},
     "output_type": "execute_result"
    }
   ],
   "source": [
    "population_admin1.head()"
   ]
  },
  {
   "cell_type": "markdown",
   "id": "a868954e-4476-4560-8eb8-ccb742d85755",
   "metadata": {},
   "source": [
    "Add CVE_ENT state code column (example: convert 1 -> 01)"
   ]
  },
  {
   "cell_type": "code",
   "execution_count": 11,
   "id": "be10e8cb-f9b2-4d83-90ce-60a498c52f4b",
   "metadata": {},
   "outputs": [],
   "source": [
    "population_admin1['CVE_ENT'] = population_admin1['cve_ent'].apply(lambda i: f'{i:02d}')"
   ]
  },
  {
   "cell_type": "code",
   "execution_count": 12,
   "id": "905cd9ec-8ef0-46ac-818f-7931f1c57f32",
   "metadata": {},
   "outputs": [
    {
     "data": {
      "text/html": [
       "<div>\n",
       "<style scoped>\n",
       "    .dataframe tbody tr th:only-of-type {\n",
       "        vertical-align: middle;\n",
       "    }\n",
       "\n",
       "    .dataframe tbody tr th {\n",
       "        vertical-align: top;\n",
       "    }\n",
       "\n",
       "    .dataframe thead th {\n",
       "        text-align: right;\n",
       "    }\n",
       "</style>\n",
       "<table border=\"1\" class=\"dataframe\">\n",
       "  <thead>\n",
       "    <tr style=\"text-align: right;\">\n",
       "      <th></th>\n",
       "      <th>cve_ent</th>\n",
       "      <th>poblacion</th>\n",
       "      <th>nombre</th>\n",
       "      <th>CVE_ENT</th>\n",
       "    </tr>\n",
       "  </thead>\n",
       "  <tbody>\n",
       "    <tr>\n",
       "      <th>0</th>\n",
       "      <td>1</td>\n",
       "      <td>1434635</td>\n",
       "      <td>AGUASCALIENTES</td>\n",
       "      <td>01</td>\n",
       "    </tr>\n",
       "    <tr>\n",
       "      <th>1</th>\n",
       "      <td>2</td>\n",
       "      <td>3634868</td>\n",
       "      <td>BAJA CALIFORNIA</td>\n",
       "      <td>02</td>\n",
       "    </tr>\n",
       "    <tr>\n",
       "      <th>2</th>\n",
       "      <td>3</td>\n",
       "      <td>804708</td>\n",
       "      <td>BAJA CALIFORNIA SUR</td>\n",
       "      <td>03</td>\n",
       "    </tr>\n",
       "    <tr>\n",
       "      <th>3</th>\n",
       "      <td>4</td>\n",
       "      <td>1000617</td>\n",
       "      <td>CAMPECHE</td>\n",
       "      <td>04</td>\n",
       "    </tr>\n",
       "    <tr>\n",
       "      <th>4</th>\n",
       "      <td>7</td>\n",
       "      <td>5730367</td>\n",
       "      <td>CHIAPAS</td>\n",
       "      <td>07</td>\n",
       "    </tr>\n",
       "  </tbody>\n",
       "</table>\n",
       "</div>"
      ],
      "text/plain": [
       "   cve_ent  poblacion               nombre CVE_ENT\n",
       "0        1    1434635       AGUASCALIENTES      01\n",
       "1        2    3634868      BAJA CALIFORNIA      02\n",
       "2        3     804708  BAJA CALIFORNIA SUR      03\n",
       "3        4    1000617             CAMPECHE      04\n",
       "4        7    5730367              CHIAPAS      07"
      ]
     },
     "execution_count": 12,
     "metadata": {},
     "output_type": "execute_result"
    }
   ],
   "source": [
    "population_admin1.head()"
   ]
  },
  {
   "cell_type": "markdown",
   "id": "5f1bf65e-b3d5-4833-b1eb-d26d945b0b9c",
   "metadata": {},
   "source": [
    "Merge the geo dataframe with the population dataframe using the common CVE_ENT column"
   ]
  },
  {
   "cell_type": "code",
   "execution_count": 13,
   "id": "7afd2eef-3849-4adb-aa8a-c136749a572b",
   "metadata": {},
   "outputs": [],
   "source": [
    "df_admin1 = admin1.merge(population_admin1, on='CVE_ENT')"
   ]
  },
  {
   "cell_type": "code",
   "execution_count": 14,
   "id": "e41cfcd3-6100-4507-92a7-885151414d68",
   "metadata": {},
   "outputs": [
    {
     "data": {
      "text/html": [
       "<div>\n",
       "<style scoped>\n",
       "    .dataframe tbody tr th:only-of-type {\n",
       "        vertical-align: middle;\n",
       "    }\n",
       "\n",
       "    .dataframe tbody tr th {\n",
       "        vertical-align: top;\n",
       "    }\n",
       "\n",
       "    .dataframe thead th {\n",
       "        text-align: right;\n",
       "    }\n",
       "</style>\n",
       "<table border=\"1\" class=\"dataframe\">\n",
       "  <thead>\n",
       "    <tr style=\"text-align: right;\">\n",
       "      <th></th>\n",
       "      <th>CVEGEO</th>\n",
       "      <th>CVE_ENT</th>\n",
       "      <th>NOMGEO</th>\n",
       "      <th>geometry</th>\n",
       "      <th>area_sqkm</th>\n",
       "      <th>cve_ent</th>\n",
       "      <th>poblacion</th>\n",
       "      <th>nombre</th>\n",
       "    </tr>\n",
       "  </thead>\n",
       "  <tbody>\n",
       "    <tr>\n",
       "      <th>0</th>\n",
       "      <td>01</td>\n",
       "      <td>01</td>\n",
       "      <td>Aguascalientes</td>\n",
       "      <td>POLYGON ((2470517.824 1155028.588, 2470552.248...</td>\n",
       "      <td>5558.673843</td>\n",
       "      <td>1</td>\n",
       "      <td>1434635</td>\n",
       "      <td>AGUASCALIENTES</td>\n",
       "    </tr>\n",
       "    <tr>\n",
       "      <th>1</th>\n",
       "      <td>02</td>\n",
       "      <td>02</td>\n",
       "      <td>Baja California</td>\n",
       "      <td>MULTIPOLYGON (((1493197.166 1849625.247, 14934...</td>\n",
       "      <td>73516.697324</td>\n",
       "      <td>2</td>\n",
       "      <td>3634868</td>\n",
       "      <td>BAJA CALIFORNIA</td>\n",
       "    </tr>\n",
       "    <tr>\n",
       "      <th>2</th>\n",
       "      <td>03</td>\n",
       "      <td>03</td>\n",
       "      <td>Baja California Sur</td>\n",
       "      <td>MULTIPOLYGON (((1694656.344 1227647.637, 16946...</td>\n",
       "      <td>73970.687326</td>\n",
       "      <td>3</td>\n",
       "      <td>804708</td>\n",
       "      <td>BAJA CALIFORNIA SUR</td>\n",
       "    </tr>\n",
       "    <tr>\n",
       "      <th>3</th>\n",
       "      <td>04</td>\n",
       "      <td>04</td>\n",
       "      <td>Campeche</td>\n",
       "      <td>MULTIPOLYGON (((3544897.199 946994.621, 354491...</td>\n",
       "      <td>57254.511636</td>\n",
       "      <td>4</td>\n",
       "      <td>1000617</td>\n",
       "      <td>CAMPECHE</td>\n",
       "    </tr>\n",
       "    <tr>\n",
       "      <th>4</th>\n",
       "      <td>05</td>\n",
       "      <td>05</td>\n",
       "      <td>Coahuila de Zaragoza</td>\n",
       "      <td>POLYGON ((2469954.193 1978522.993, 2469982.807...</td>\n",
       "      <td>150671.222986</td>\n",
       "      <td>5</td>\n",
       "      <td>3218720</td>\n",
       "      <td>COAHUILA</td>\n",
       "    </tr>\n",
       "  </tbody>\n",
       "</table>\n",
       "</div>"
      ],
      "text/plain": [
       "  CVEGEO CVE_ENT                NOMGEO  \\\n",
       "0     01      01        Aguascalientes   \n",
       "1     02      02       Baja California   \n",
       "2     03      03   Baja California Sur   \n",
       "3     04      04              Campeche   \n",
       "4     05      05  Coahuila de Zaragoza   \n",
       "\n",
       "                                            geometry      area_sqkm  cve_ent  \\\n",
       "0  POLYGON ((2470517.824 1155028.588, 2470552.248...    5558.673843        1   \n",
       "1  MULTIPOLYGON (((1493197.166 1849625.247, 14934...   73516.697324        2   \n",
       "2  MULTIPOLYGON (((1694656.344 1227647.637, 16946...   73970.687326        3   \n",
       "3  MULTIPOLYGON (((3544897.199 946994.621, 354491...   57254.511636        4   \n",
       "4  POLYGON ((2469954.193 1978522.993, 2469982.807...  150671.222986        5   \n",
       "\n",
       "   poblacion               nombre  \n",
       "0    1434635       AGUASCALIENTES  \n",
       "1    3634868      BAJA CALIFORNIA  \n",
       "2     804708  BAJA CALIFORNIA SUR  \n",
       "3    1000617             CAMPECHE  \n",
       "4    3218720             COAHUILA  "
      ]
     },
     "execution_count": 14,
     "metadata": {},
     "output_type": "execute_result"
    }
   ],
   "source": [
    "df_admin1.head()"
   ]
  },
  {
   "cell_type": "markdown",
   "id": "13eb1129-6db3-42d2-a051-e06b6074ac0b",
   "metadata": {},
   "source": [
    "Plot population data"
   ]
  },
  {
   "cell_type": "code",
   "execution_count": 15,
   "id": "ddf33c25-d32f-4dbb-ae83-5f100b3389b7",
   "metadata": {},
   "outputs": [
    {
     "data": {
      "image/png": "[encoded data removed]",
      "text/plain": [
       "<Figure size 1152x792 with 2 Axes>"
      ]
     },
     "metadata": {
      "needs_background": "light"
     },
     "output_type": "display_data"
    }
   ],
   "source": [
    "title = 'Population of Mexico by State'\n",
    "ax1 = df_admin1.plot(column='poblacion', \n",
    "                     cmap='OrRd',\n",
    "                     legend=True, \n",
    "                     legend_kwds={'label': 'Population by State', \n",
    "                                  'orientation': 'horizontal'},\n",
    "                     figsize=(16, 11));\n",
    "ax1.set_title(title, fontsize=15);"
   ]
  },
  {
   "cell_type": "code",
   "execution_count": null,
   "id": "e0c59343-7b2a-4ff4-963a-dd2f5c530b0e",
   "metadata": {},
   "outputs": [],
   "source": []
  }
 ],
 "metadata": {
  "kernelspec": {
   "display_name": "Python 3",
   "language": "python",
   "name": "python3"
  },
  "language_info": {
   "codemirror_mode": {
    "name": "ipython",
    "version": 3
   },
   "file_extension": ".py",
   "mimetype": "text/x-python",
   "name": "python",
   "nbconvert_exporter": "python",
   "pygments_lexer": "ipython3",
   "version": "3.9.5"
  }
 },
 "nbformat": 4,
 "nbformat_minor": 5
}
