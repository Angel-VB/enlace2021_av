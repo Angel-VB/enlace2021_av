{
 "cells": [
  {
   "cell_type": "markdown",
   "id": "c8d8c405-9bb9-4900-97df-3218e11e047b",
   "metadata": {},
   "source": [
    "# Correlation analyzes of case/death rate with multiple variables in municipality level (admin2)\n",
    "\n",
    "\n",
    "This Notebook read the collection of variables at state level collected in this week ([variables](Week3_variables_municipalities.ipynb), [population density](Week3_population_density_states.ipynb) and [comorbidities](Week3_comorbidities.ipynb)) and shows the correlation between those variables and the case/death rate through specific areas viewpoints."
   ]
  },
  {
   "cell_type": "code",
   "execution_count": 1,
   "id": "f05d0737-5800-47d2-85c1-92cacc8eaf5d",
   "metadata": {},
   "outputs": [],
   "source": [
    "import pandas as pd\n",
    "import matplotlib.pyplot as plt\n",
    "import seaborn as sns\n",
    "from string import ascii_letters\n",
    "import numpy as np\n",
    "\n",
    "%matplotlib inline\n",
    "%reload_ext autoreload\n",
    "%autoreload 2"
   ]
  },
  {
   "cell_type": "markdown",
   "id": "e24543b7-92c1-4eda-82ae-b2972742d99a",
   "metadata": {},
   "source": [
    "The collection of variables is read"
   ]
  },
  {
   "cell_type": "code",
   "execution_count": 2,
   "id": "31f30c01-c377-4d53-950b-3f4c860bbb25",
   "metadata": {},
   "outputs": [],
   "source": [
    "dfVar=pd.read_csv('../data/week3_variables_municipalities.csv')\n",
    "dfPopDens=pd.read_csv('../data/week3_population_density_municipalities.csv')\n",
    "dfComorbidities=pd.read_csv('../data/week3_comorbidities_municipalities.csv')"
   ]
  },
  {
   "cell_type": "code",
   "execution_count": 3,
   "id": "31714372-9203-412e-a2c8-d77bc3cbad1e",
   "metadata": {},
   "outputs": [
    {
     "data": {
      "text/html": [
       "<div>\n",
       "<style scoped>\n",
       "    .dataframe tbody tr th:only-of-type {\n",
       "        vertical-align: middle;\n",
       "    }\n",
       "\n",
       "    .dataframe tbody tr th {\n",
       "        vertical-align: top;\n",
       "    }\n",
       "\n",
       "    .dataframe thead th {\n",
       "        text-align: right;\n",
       "    }\n",
       "</style>\n",
       "<table border=\"1\" class=\"dataframe\">\n",
       "  <thead>\n",
       "    <tr style=\"text-align: right;\">\n",
       "      <th></th>\n",
       "      <th>cve_ent</th>\n",
       "      <th>municipality</th>\n",
       "      <th>case_rate</th>\n",
       "      <th>case_rate_last_60_days</th>\n",
       "      <th>death_rate</th>\n",
       "      <th>death_rate_last_60_days</th>\n",
       "      <th>population</th>\n",
       "      <th>pct_disability</th>\n",
       "      <th>pct_limitation</th>\n",
       "      <th>pct_mental_problem</th>\n",
       "      <th>pct_no_problems</th>\n",
       "      <th>average_years_finish</th>\n",
       "      <th>pct_no_med_insurance</th>\n",
       "      <th>pct_med_insurance</th>\n",
       "      <th>average_household_size</th>\n",
       "      <th>pct_household_tics</th>\n",
       "      <th>pct_household_no_tics</th>\n",
       "      <th>pct_pop_0_14_years_old</th>\n",
       "      <th>pct_pop_15_64_years_old</th>\n",
       "      <th>pct_pop_65_more_years_old</th>\n",
       "    </tr>\n",
       "  </thead>\n",
       "  <tbody>\n",
       "    <tr>\n",
       "      <th>0</th>\n",
       "      <td>1001</td>\n",
       "      <td>Aguascalientes</td>\n",
       "      <td>2488.417083</td>\n",
       "      <td>192.832053</td>\n",
       "      <td>228.487791</td>\n",
       "      <td>4.262056</td>\n",
       "      <td>961977</td>\n",
       "      <td>4.940347</td>\n",
       "      <td>12.131787</td>\n",
       "      <td>1.449619</td>\n",
       "      <td>80.812119</td>\n",
       "      <td>10.84</td>\n",
       "      <td>18.004485</td>\n",
       "      <td>80.497039</td>\n",
       "      <td>3.54</td>\n",
       "      <td>99.725989</td>\n",
       "      <td>0.274011</td>\n",
       "      <td>25.009226</td>\n",
       "      <td>66.481007</td>\n",
       "      <td>7.062643</td>\n",
       "    </tr>\n",
       "    <tr>\n",
       "      <th>1</th>\n",
       "      <td>1002</td>\n",
       "      <td>Asientos</td>\n",
       "      <td>933.862850</td>\n",
       "      <td>21.626298</td>\n",
       "      <td>72.743001</td>\n",
       "      <td>0.000000</td>\n",
       "      <td>50864</td>\n",
       "      <td>5.673954</td>\n",
       "      <td>8.947389</td>\n",
       "      <td>1.360491</td>\n",
       "      <td>85.929144</td>\n",
       "      <td>8.54</td>\n",
       "      <td>14.922145</td>\n",
       "      <td>86.351840</td>\n",
       "      <td>4.10</td>\n",
       "      <td>98.588742</td>\n",
       "      <td>1.411258</td>\n",
       "      <td>31.979396</td>\n",
       "      <td>62.753617</td>\n",
       "      <td>6.548836</td>\n",
       "    </tr>\n",
       "    <tr>\n",
       "      <th>2</th>\n",
       "      <td>1003</td>\n",
       "      <td>Calvillo</td>\n",
       "      <td>1688.610928</td>\n",
       "      <td>72.416063</td>\n",
       "      <td>42.791310</td>\n",
       "      <td>0.000000</td>\n",
       "      <td>60760</td>\n",
       "      <td>6.728111</td>\n",
       "      <td>11.125741</td>\n",
       "      <td>1.960171</td>\n",
       "      <td>77.080316</td>\n",
       "      <td>8.05</td>\n",
       "      <td>19.473338</td>\n",
       "      <td>76.316656</td>\n",
       "      <td>3.74</td>\n",
       "      <td>99.112312</td>\n",
       "      <td>0.887688</td>\n",
       "      <td>27.518104</td>\n",
       "      <td>59.009217</td>\n",
       "      <td>9.284068</td>\n",
       "    </tr>\n",
       "    <tr>\n",
       "      <th>3</th>\n",
       "      <td>1004</td>\n",
       "      <td>Cosio</td>\n",
       "      <td>786.144934</td>\n",
       "      <td>23.643457</td>\n",
       "      <td>70.930370</td>\n",
       "      <td>0.000000</td>\n",
       "      <td>16918</td>\n",
       "      <td>4.758246</td>\n",
       "      <td>11.425700</td>\n",
       "      <td>1.217638</td>\n",
       "      <td>83.733302</td>\n",
       "      <td>9.08</td>\n",
       "      <td>13.872798</td>\n",
       "      <td>86.600071</td>\n",
       "      <td>4.32</td>\n",
       "      <td>98.729997</td>\n",
       "      <td>1.270003</td>\n",
       "      <td>30.636009</td>\n",
       "      <td>63.240336</td>\n",
       "      <td>6.608346</td>\n",
       "    </tr>\n",
       "    <tr>\n",
       "      <th>4</th>\n",
       "      <td>1005</td>\n",
       "      <td>Jesus Maria</td>\n",
       "      <td>643.704295</td>\n",
       "      <td>45.320469</td>\n",
       "      <td>47.624900</td>\n",
       "      <td>0.000000</td>\n",
       "      <td>130184</td>\n",
       "      <td>3.868371</td>\n",
       "      <td>9.143981</td>\n",
       "      <td>1.261292</td>\n",
       "      <td>86.048209</td>\n",
       "      <td>10.22</td>\n",
       "      <td>20.969551</td>\n",
       "      <td>78.679408</td>\n",
       "      <td>3.91</td>\n",
       "      <td>99.554405</td>\n",
       "      <td>0.445595</td>\n",
       "      <td>29.422202</td>\n",
       "      <td>65.253026</td>\n",
       "      <td>5.022123</td>\n",
       "    </tr>\n",
       "  </tbody>\n",
       "</table>\n",
       "</div>"
      ],
      "text/plain": [
       "   cve_ent    municipality    case_rate  case_rate_last_60_days  death_rate  \\\n",
       "0     1001  Aguascalientes  2488.417083              192.832053  228.487791   \n",
       "1     1002        Asientos   933.862850               21.626298   72.743001   \n",
       "2     1003        Calvillo  1688.610928               72.416063   42.791310   \n",
       "3     1004           Cosio   786.144934               23.643457   70.930370   \n",
       "4     1005     Jesus Maria   643.704295               45.320469   47.624900   \n",
       "\n",
       "   death_rate_last_60_days  population  pct_disability  pct_limitation  \\\n",
       "0                 4.262056      961977        4.940347       12.131787   \n",
       "1                 0.000000       50864        5.673954        8.947389   \n",
       "2                 0.000000       60760        6.728111       11.125741   \n",
       "3                 0.000000       16918        4.758246       11.425700   \n",
       "4                 0.000000      130184        3.868371        9.143981   \n",
       "\n",
       "   pct_mental_problem  pct_no_problems  average_years_finish  \\\n",
       "0            1.449619        80.812119                 10.84   \n",
       "1            1.360491        85.929144                  8.54   \n",
       "2            1.960171        77.080316                  8.05   \n",
       "3            1.217638        83.733302                  9.08   \n",
       "4            1.261292        86.048209                 10.22   \n",
       "\n",
       "   pct_no_med_insurance  pct_med_insurance  average_household_size  \\\n",
       "0             18.004485          80.497039                    3.54   \n",
       "1             14.922145          86.351840                    4.10   \n",
       "2             19.473338          76.316656                    3.74   \n",
       "3             13.872798          86.600071                    4.32   \n",
       "4             20.969551          78.679408                    3.91   \n",
       "\n",
       "   pct_household_tics  pct_household_no_tics  pct_pop_0_14_years_old  \\\n",
       "0           99.725989               0.274011               25.009226   \n",
       "1           98.588742               1.411258               31.979396   \n",
       "2           99.112312               0.887688               27.518104   \n",
       "3           98.729997               1.270003               30.636009   \n",
       "4           99.554405               0.445595               29.422202   \n",
       "\n",
       "   pct_pop_15_64_years_old  pct_pop_65_more_years_old  \n",
       "0                66.481007                   7.062643  \n",
       "1                62.753617                   6.548836  \n",
       "2                59.009217                   9.284068  \n",
       "3                63.240336                   6.608346  \n",
       "4                65.253026                   5.022123  "
      ]
     },
     "execution_count": 3,
     "metadata": {},
     "output_type": "execute_result"
    }
   ],
   "source": [
    "dfVar.head()"
   ]
  },
  {
   "cell_type": "code",
   "execution_count": 4,
   "id": "558eed6b-ec45-4f11-8d80-23e4d5f533ec",
   "metadata": {},
   "outputs": [
    {
     "data": {
      "text/html": [
       "<div>\n",
       "<style scoped>\n",
       "    .dataframe tbody tr th:only-of-type {\n",
       "        vertical-align: middle;\n",
       "    }\n",
       "\n",
       "    .dataframe tbody tr th {\n",
       "        vertical-align: top;\n",
       "    }\n",
       "\n",
       "    .dataframe thead th {\n",
       "        text-align: right;\n",
       "    }\n",
       "</style>\n",
       "<table border=\"1\" class=\"dataframe\">\n",
       "  <thead>\n",
       "    <tr style=\"text-align: right;\">\n",
       "      <th></th>\n",
       "      <th>Unnamed: 0</th>\n",
       "      <th>cve_ent</th>\n",
       "      <th>population/sqkm</th>\n",
       "    </tr>\n",
       "  </thead>\n",
       "  <tbody>\n",
       "    <tr>\n",
       "      <th>0</th>\n",
       "      <td>0</td>\n",
       "      <td>1001</td>\n",
       "      <td>824.769043</td>\n",
       "    </tr>\n",
       "    <tr>\n",
       "      <th>1</th>\n",
       "      <td>1</td>\n",
       "      <td>1002</td>\n",
       "      <td>93.607672</td>\n",
       "    </tr>\n",
       "    <tr>\n",
       "      <th>2</th>\n",
       "      <td>2</td>\n",
       "      <td>1003</td>\n",
       "      <td>65.803308</td>\n",
       "    </tr>\n",
       "    <tr>\n",
       "      <th>3</th>\n",
       "      <td>3</td>\n",
       "      <td>1004</td>\n",
       "      <td>131.777013</td>\n",
       "    </tr>\n",
       "    <tr>\n",
       "      <th>4</th>\n",
       "      <td>4</td>\n",
       "      <td>1005</td>\n",
       "      <td>260.422641</td>\n",
       "    </tr>\n",
       "  </tbody>\n",
       "</table>\n",
       "</div>"
      ],
      "text/plain": [
       "   Unnamed: 0  cve_ent  population/sqkm\n",
       "0           0     1001       824.769043\n",
       "1           1     1002        93.607672\n",
       "2           2     1003        65.803308\n",
       "3           3     1004       131.777013\n",
       "4           4     1005       260.422641"
      ]
     },
     "execution_count": 4,
     "metadata": {},
     "output_type": "execute_result"
    }
   ],
   "source": [
    "dfPopDens.head()"
   ]
  },
  {
   "cell_type": "code",
   "execution_count": 5,
   "id": "5dfbed9f-524c-4b36-bfbd-cdab21b9b14a",
   "metadata": {},
   "outputs": [
    {
     "data": {
      "text/html": [
       "<div>\n",
       "<style scoped>\n",
       "    .dataframe tbody tr th:only-of-type {\n",
       "        vertical-align: middle;\n",
       "    }\n",
       "\n",
       "    .dataframe tbody tr th {\n",
       "        vertical-align: top;\n",
       "    }\n",
       "\n",
       "    .dataframe thead th {\n",
       "        text-align: right;\n",
       "    }\n",
       "</style>\n",
       "<table border=\"1\" class=\"dataframe\">\n",
       "  <thead>\n",
       "    <tr style=\"text-align: right;\">\n",
       "      <th></th>\n",
       "      <th>cve_ent</th>\n",
       "      <th>municipality</th>\n",
       "      <th>pct_pop_obesity</th>\n",
       "      <th>pct_pop_hypertension</th>\n",
       "      <th>pct_pop_diabetes</th>\n",
       "    </tr>\n",
       "  </thead>\n",
       "  <tbody>\n",
       "    <tr>\n",
       "      <th>0</th>\n",
       "      <td>1001</td>\n",
       "      <td>Aguascalientes</td>\n",
       "      <td>31.486541</td>\n",
       "      <td>14.942242</td>\n",
       "      <td>7.495861</td>\n",
       "    </tr>\n",
       "    <tr>\n",
       "      <th>1</th>\n",
       "      <td>1002</td>\n",
       "      <td>Asientos</td>\n",
       "      <td>32.282284</td>\n",
       "      <td>15.320425</td>\n",
       "      <td>7.953634</td>\n",
       "    </tr>\n",
       "    <tr>\n",
       "      <th>2</th>\n",
       "      <td>1003</td>\n",
       "      <td>Calvillo</td>\n",
       "      <td>40.004293</td>\n",
       "      <td>13.751906</td>\n",
       "      <td>9.172624</td>\n",
       "    </tr>\n",
       "    <tr>\n",
       "      <th>3</th>\n",
       "      <td>1004</td>\n",
       "      <td>Cosío</td>\n",
       "      <td>32.596450</td>\n",
       "      <td>16.431493</td>\n",
       "      <td>7.383116</td>\n",
       "    </tr>\n",
       "    <tr>\n",
       "      <th>4</th>\n",
       "      <td>1005</td>\n",
       "      <td>Jesús María</td>\n",
       "      <td>34.731715</td>\n",
       "      <td>12.356755</td>\n",
       "      <td>6.745819</td>\n",
       "    </tr>\n",
       "  </tbody>\n",
       "</table>\n",
       "</div>"
      ],
      "text/plain": [
       "   cve_ent    municipality  pct_pop_obesity  pct_pop_hypertension  \\\n",
       "0     1001  Aguascalientes        31.486541             14.942242   \n",
       "1     1002        Asientos        32.282284             15.320425   \n",
       "2     1003        Calvillo        40.004293             13.751906   \n",
       "3     1004           Cosío        32.596450             16.431493   \n",
       "4     1005     Jesús María        34.731715             12.356755   \n",
       "\n",
       "   pct_pop_diabetes  \n",
       "0          7.495861  \n",
       "1          7.953634  \n",
       "2          9.172624  \n",
       "3          7.383116  \n",
       "4          6.745819  "
      ]
     },
     "execution_count": 5,
     "metadata": {},
     "output_type": "execute_result"
    }
   ],
   "source": [
    "dfComorbidities.head()"
   ]
  },
  {
   "cell_type": "markdown",
   "id": "6a52fb64-ff22-4387-b658-41bde6a8b760",
   "metadata": {},
   "source": [
    "All the variables are merged into one dataframe"
   ]
  },
  {
   "cell_type": "code",
   "execution_count": 6,
   "id": "7c0a5728-5a32-4b37-bce1-80f23b9825a9",
   "metadata": {},
   "outputs": [],
   "source": [
    "dfAll = pd.merge(dfVar,dfPopDens,on=['cve_ent'])"
   ]
  },
  {
   "cell_type": "code",
   "execution_count": 7,
   "id": "79df4574-41a9-43f6-b7ce-18863900489f",
   "metadata": {},
   "outputs": [],
   "source": [
    "dfAll = pd.merge(dfAll,dfComorbidities,on=['cve_ent'])"
   ]
  },
  {
   "cell_type": "markdown",
   "id": "3ae81269-e8e0-4655-9375-5ab466a9e7cd",
   "metadata": {},
   "source": [
    "## Heatmap of health variables correlation with case/death rate "
   ]
  },
  {
   "cell_type": "markdown",
   "id": "94b988b7-1fb5-4a52-b8b6-0211752575ae",
   "metadata": {},
   "source": [
    "All the variables related to health and the case/death rate are selected"
   ]
  },
  {
   "cell_type": "code",
   "execution_count": 8,
   "id": "4f212cab-5dae-4f99-9c6c-0b4385757b38",
   "metadata": {},
   "outputs": [],
   "source": [
    "dfHealth = dfAll[['case_rate', 'case_rate_last_60_days',\n",
    "       'death_rate', 'death_rate_last_60_days',\n",
    "       'pct_disability', 'pct_limitation', 'pct_mental_problem',\n",
    "       'pct_no_problems', 'pct_pop_obesity', 'pct_pop_hypertension',\n",
    "       'pct_pop_diabetes']].copy()"
   ]
  },
  {
   "cell_type": "markdown",
   "id": "c5c33d32-8726-4ad6-bbf4-1da9a6810623",
   "metadata": {},
   "source": [
    "The correlation between the health and the case/death rate is as following"
   ]
  },
  {
   "cell_type": "code",
   "execution_count": 9,
   "id": "c9b9f6eb-c338-4b66-b951-0b90fe7f6f72",
   "metadata": {},
   "outputs": [
    {
     "data": {
      "image/png": "[encoded data removed]",
      "text/plain": [
       "<Figure size 792x648 with 2 Axes>"
      ]
     },
     "metadata": {
      "needs_background": "light"
     },
     "output_type": "display_data"
    }
   ],
   "source": [
    "corr = dfHealth.corr()\n",
    "mask = np.triu(np.ones_like(corr, dtype=bool))\n",
    "f, ax = plt.subplots(figsize=(11, 9))\n",
    "cmap = sns.diverging_palette(230, 20, as_cmap=True)\n",
    "heatmap=sns.heatmap(corr, mask=mask, cmap=cmap, vmax=.3, center=0,\n",
    "            square=True, linewidths=.5, cbar_kws={\"shrink\": .5})\n",
    "heatmap = heatmap.get_figure()"
   ]
  },
  {
   "cell_type": "markdown",
   "id": "ad581734-97f7-4eba-94d1-8474ed936a1f",
   "metadata": {},
   "source": [
    "As mention on the state health correlation people with mental problems, no health problems, comorbidities mostly obesity have a higher probability of contracting the virus and dying from it, the use of the municipality data reaffirms this because there is more data to correlate and the correlation is still positive."
   ]
  },
  {
   "cell_type": "markdown",
   "id": "458556b3-9ac3-40ef-8fa6-d3bdff173683",
   "metadata": {},
   "source": [
    "## Heatmap of Socioeconomic and Education variables correlation with case/death rate"
   ]
  },
  {
   "cell_type": "markdown",
   "id": "5cb0b8ef-5584-49e2-8ce8-53bb2e529388",
   "metadata": {},
   "source": [
    "All the variables related to socioeconomic and education factors and the case/death rate are selected"
   ]
  },
  {
   "cell_type": "code",
   "execution_count": 10,
   "id": "8589353c-9499-43c7-8b4c-9da568936c5d",
   "metadata": {},
   "outputs": [],
   "source": [
    "dfSocioeconomicEducation = dfAll[['case_rate', 'case_rate_last_60_days',\n",
    "       'death_rate', 'death_rate_last_60_days','pct_no_med_insurance',\n",
    "       'pct_med_insurance','average_years_finish','average_household_size', \n",
    "       'pct_household_tics','pct_household_no_tics']].copy()"
   ]
  },
  {
   "cell_type": "markdown",
   "id": "72061424-51b2-4b15-a297-88b5b4e8d018",
   "metadata": {},
   "source": [
    "The correlation between the socioeconomic and education factors and the case/death rate is as following"
   ]
  },
  {
   "cell_type": "code",
   "execution_count": 11,
   "id": "a19605e3-f9fc-47cb-a8df-41da7f59306d",
   "metadata": {},
   "outputs": [
    {
     "data": {
      "image/png": "[encoded data removed]",
      "text/plain": [
       "<Figure size 792x648 with 2 Axes>"
      ]
     },
     "metadata": {
      "needs_background": "light"
     },
     "output_type": "display_data"
    }
   ],
   "source": [
    "corr = dfSocioeconomicEducation.corr()\n",
    "mask = np.triu(np.ones_like(corr, dtype=bool))\n",
    "f, ax = plt.subplots(figsize=(11, 9))\n",
    "cmap = sns.diverging_palette(230, 20, as_cmap=True)\n",
    "heatmap=sns.heatmap(corr, mask=mask, cmap=cmap, vmax=.3, center=0,\n",
    "            square=True, linewidths=.5, cbar_kws={\"shrink\": .5})\n",
    "heatmap = heatmap.get_figure()"
   ]
  },
  {
   "cell_type": "markdown",
   "id": "48b56ca4-a932-4659-89a8-308332edf88e",
   "metadata": {},
   "source": [
    "The same behaviour occurs in the municipality level as the state level where the people with medical insurance, househouseholds with TIC's and high level of education which are all on urban areas which are highly transited meaning they have a high probability of infection and in the case of people with no medical insurance and households wit no TIC's is viceversa because they are located on urban areas which have a low transit meaning they have a low probability of infection."
   ]
  },
  {
   "cell_type": "markdown",
   "id": "d3f28ca2-c3b9-4f26-836f-98bf744ce300",
   "metadata": {},
   "source": [
    "## Heatmap of population variables correlation with case/death rate"
   ]
  },
  {
   "cell_type": "markdown",
   "id": "e07accfd-1caf-46a5-9256-e7a0191f4e1e",
   "metadata": {},
   "source": [
    "All the variables related to population factors and the case/death rate are selected"
   ]
  },
  {
   "cell_type": "code",
   "execution_count": 12,
   "id": "1855b521-4da2-4aa4-8b97-19a2550aee18",
   "metadata": {},
   "outputs": [],
   "source": [
    "dfPopulation = dfAll[['case_rate','case_rate_last_60_days',\n",
    "       'death_rate', 'death_rate_last_60_days',\n",
    "       'population/sqkm']].copy()"
   ]
  },
  {
   "cell_type": "markdown",
   "id": "ac95a6f9-e547-418e-b4ae-41a23f950776",
   "metadata": {},
   "source": [
    "The correlation between the population factors and the case/death rate is as following"
   ]
  },
  {
   "cell_type": "code",
   "execution_count": 13,
   "id": "e60caa36-3888-464a-9829-cb4f62acefc4",
   "metadata": {
    "tags": []
   },
   "outputs": [
    {
     "data": {
      "image/png": "[encoded data removed]",
      "text/plain": [
       "<Figure size 792x648 with 2 Axes>"
      ]
     },
     "metadata": {
      "needs_background": "light"
     },
     "output_type": "display_data"
    }
   ],
   "source": [
    "corr = dfPopulation.corr()\n",
    "mask = np.triu(np.ones_like(corr, dtype=bool))\n",
    "f, ax = plt.subplots(figsize=(11, 9))\n",
    "cmap = sns.diverging_palette(230, 20, as_cmap=True)\n",
    "heatmap=sns.heatmap(corr, mask=mask, cmap=cmap, vmax=.3, center=0,\n",
    "            square=True, linewidths=.5, cbar_kws={\"shrink\": .5})\n",
    "heatmap = heatmap.get_figure()"
   ]
  },
  {
   "cell_type": "markdown",
   "id": "b04d70be-2926-4124-ae07-cac901d2ec3a",
   "metadata": {},
   "source": [
    "In this case the mobility was not one of the variables because there was not a data source that provided this variables, but even tough the population density also corroborated that the state analyzes is correct mening that where is a high poulation density area there is a high probability of getting infected and dying on it due the high transit."
   ]
  },
  {
   "cell_type": "markdown",
   "id": "48ebc7a0-e1a2-4c9d-b384-51865a347ccd",
   "metadata": {},
   "source": [
    "The variables and the region codes are selected of the dataframe for future storage"
   ]
  },
  {
   "cell_type": "code",
   "execution_count": 14,
   "id": "c953b17b-da78-462c-aa5b-a9be35ffefa7",
   "metadata": {
    "tags": []
   },
   "outputs": [],
   "source": [
    "dfFinal = dfAll[['cve_ent', 'case_rate', 'case_rate_last_60_days',\n",
    "       'death_rate', 'death_rate_last_60_days',\n",
    "       'pct_disability', 'pct_limitation', 'pct_mental_problem',\n",
    "       'pct_no_problems', 'pct_no_med_insurance','pct_med_insurance',\n",
    "        'pct_pop_obesity', 'pct_pop_hypertension',\n",
    "       'pct_pop_diabetes',\n",
    "       'average_years_finish','average_household_size', 'pct_household_tics','pct_household_no_tics', \n",
    "       'population/sqkm']].copy()"
   ]
  },
  {
   "cell_type": "markdown",
   "id": "50d7afc1-05fd-43b3-864c-e8098dfd225a",
   "metadata": {},
   "source": [
    "The dataframe is stored"
   ]
  },
  {
   "cell_type": "code",
   "execution_count": 15,
   "id": "c4129d43-108e-4e61-b0f6-43c1acda8341",
   "metadata": {},
   "outputs": [],
   "source": [
    "dfFinal.to_csv('../data/week3analyzesMunicipalities.csv',index=False)"
   ]
  },
  {
   "cell_type": "markdown",
   "id": "07e36177-29bd-4eb6-9e6f-98bf5298ddaa",
   "metadata": {},
   "source": [
    "Data for other variables that were correlated on the state level were not found which presented a limitation to the reaffirmation of the state analyzes but even tough since the available variables did this purpose it is possible to assume that the state analyzes is correct."
   ]
  }
 ],
 "metadata": {
  "kernelspec": {
   "display_name": "Python 3",
   "language": "python",
   "name": "python3"
  },
  "language_info": {
   "codemirror_mode": {
    "name": "ipython",
    "version": 3
   },
   "file_extension": ".py",
   "mimetype": "text/x-python",
   "name": "python",
   "nbconvert_exporter": "python",
   "pygments_lexer": "ipython3",
   "version": "3.9.5"
  }
 },
 "nbformat": 4,
 "nbformat_minor": 5
}
