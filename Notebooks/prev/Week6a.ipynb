{
 "cells": [
  {
   "cell_type": "markdown",
   "id": "a4b305cc-142a-4f05-ba41-53ea4bb5b1b3",
   "metadata": {},
   "source": [
    "# Population Density of Mexican States and Municipalities\n",
    "\n",
    "This Notebook downloads Geopandas GeoDataFrames for States (admin1) and Municipalities (admin2) derived from the 2020 Mexican Census: [INEGI](https://www.inegi.org.mx/temas/mg/).\n",
    "\n",
    "For details how these dataframe were created, see the [mexican-boundaries](https://github.com/sbl-sdsc/mexico-boundaries) GitHub project."
   ]
  },
  {
   "cell_type": "code",
   "execution_count": 1,
   "id": "f351c5d3-22c6-4644-a8e5-76aff5b5ca51",
   "metadata": {},
   "outputs": [],
   "source": [
    "from io import BytesIO\n",
    "from urllib.request import urlopen\n",
    "import pandas as pd\n",
    "import geopandas as gpd\n",
    "import matplotlib.pyplot as plt\n",
    "import ipywidgets as widgets\n",
    "import numpy as np\n",
    "\n",
    "%matplotlib inline\n",
    "%reload_ext autoreload\n",
    "%autoreload 2\n",
    "\n",
    "from sklearn.cluster import DBSCAN\n",
    "from sklearn import metrics\n",
    "from sklearn.preprocessing import StandardScaler"
   ]
  },
  {
   "cell_type": "code",
   "execution_count": 2,
   "id": "9ab7f145-ac0b-499b-9f89-8591f343c05a",
   "metadata": {},
   "outputs": [],
   "source": [
    "pd.options.display.max_rows = None  # display all rows\n",
    "pd.options.display.max_columns = None  # display all columsns"
   ]
  },
  {
   "cell_type": "markdown",
   "id": "583b8ecd-adcc-41a6-a1f9-13ee35eea81d",
   "metadata": {},
   "source": [
    "## Boundaries of Mexican Municipalities"
   ]
  },
  {
   "cell_type": "markdown",
   "id": "44b7bcd8-0320-439b-961f-de0d391b8bfb",
   "metadata": {},
   "source": [
    "Read boundary polygons for Mexican states from shapefile"
   ]
  },
  {
   "cell_type": "code",
   "execution_count": 3,
   "id": "ced43c74-8a25-4d80-933e-e84ecea69c1e",
   "metadata": {},
   "outputs": [],
   "source": [
    "admin2_url = 'https://raw.githubusercontent.com/sbl-sdsc/mexico-boundaries/main/data/mexico_admin2.parquet'"
   ]
  },
  {
   "cell_type": "code",
   "execution_count": 4,
   "id": "bd441820-5603-451e-8800-e4f9432ba22a",
   "metadata": {},
   "outputs": [],
   "source": [
    "resp = urlopen(admin2_url)\n",
    "admin2 = gpd.read_parquet(BytesIO(resp.read()))"
   ]
  },
  {
   "cell_type": "markdown",
   "id": "9e9438fc-38cf-40b2-8be6-8d631aa726e0",
   "metadata": {},
   "source": [
    "Calculate the area of each state (convert area from m^2 to km^2"
   ]
  },
  {
   "cell_type": "code",
   "execution_count": 5,
   "id": "537fbe2e-d6d8-449b-80d1-df1dc6451d25",
   "metadata": {},
   "outputs": [
    {
     "data": {
      "text/plain": [
       "<Projected CRS: PROJCRS[\"MEXICO_ITRF_2008_LCC\",BASEGEOGCRS[\"MEXICO ...>\n",
       "Name: MEXICO_ITRF_2008_LCC\n",
       "Axis Info [cartesian]:\n",
       "- [east]: Easting (metre)\n",
       "- [north]: Northing (metre)\n",
       "Area of Use:\n",
       "- undefined\n",
       "Coordinate Operation:\n",
       "- name: unnamed\n",
       "- method: Lambert Conic Conformal (2SP)\n",
       "Datum: International Terrestrial Reference Frame 2008\n",
       "- Ellipsoid: GRS 1980\n",
       "- Prime Meridian: Greenwich"
      ]
     },
     "execution_count": 5,
     "metadata": {},
     "output_type": "execute_result"
    }
   ],
   "source": [
    "admin2.crs"
   ]
  },
  {
   "cell_type": "code",
   "execution_count": 6,
   "id": "7719a5bd-a0d7-46c4-a549-d706efb327c7",
   "metadata": {},
   "outputs": [],
   "source": [
    "admin2['area_sqkm'] = admin2['geometry'].area/ 10**6"
   ]
  },
  {
   "cell_type": "code",
   "execution_count": 7,
   "id": "6b9949d4-846e-424d-b4b7-1e5dc9f318a2",
   "metadata": {},
   "outputs": [],
   "source": [
    "admin2['CVE_MUNI'] = admin2['CVE_ENT'] + admin2['CVE_MUN']"
   ]
  },
  {
   "cell_type": "code",
   "execution_count": 8,
   "id": "fcdfcd4e-506e-499e-9115-44d030621b98",
   "metadata": {},
   "outputs": [
    {
     "data": {
      "text/html": [
       "<div>\n",
       "<style scoped>\n",
       "    .dataframe tbody tr th:only-of-type {\n",
       "        vertical-align: middle;\n",
       "    }\n",
       "\n",
       "    .dataframe tbody tr th {\n",
       "        vertical-align: top;\n",
       "    }\n",
       "\n",
       "    .dataframe thead th {\n",
       "        text-align: right;\n",
       "    }\n",
       "</style>\n",
       "<table border=\"1\" class=\"dataframe\">\n",
       "  <thead>\n",
       "    <tr style=\"text-align: right;\">\n",
       "      <th></th>\n",
       "      <th>CVEGEO</th>\n",
       "      <th>CVE_ENT</th>\n",
       "      <th>CVE_MUN</th>\n",
       "      <th>NOMGEO</th>\n",
       "      <th>geometry</th>\n",
       "      <th>area_sqkm</th>\n",
       "      <th>CVE_MUNI</th>\n",
       "    </tr>\n",
       "  </thead>\n",
       "  <tbody>\n",
       "    <tr>\n",
       "      <th>0</th>\n",
       "      <td>01001</td>\n",
       "      <td>01</td>\n",
       "      <td>001</td>\n",
       "      <td>Aguascalientes</td>\n",
       "      <td>POLYGON ((2489072.503 1115771.584, 2489352.774...</td>\n",
       "      <td>1166.359248</td>\n",
       "      <td>01001</td>\n",
       "    </tr>\n",
       "    <tr>\n",
       "      <th>1</th>\n",
       "      <td>01002</td>\n",
       "      <td>01</td>\n",
       "      <td>002</td>\n",
       "      <td>Asientos</td>\n",
       "      <td>POLYGON ((2494680.261 1141224.505, 2494749.948...</td>\n",
       "      <td>543.374266</td>\n",
       "      <td>01002</td>\n",
       "    </tr>\n",
       "    <tr>\n",
       "      <th>2</th>\n",
       "      <td>01003</td>\n",
       "      <td>01</td>\n",
       "      <td>003</td>\n",
       "      <td>Calvillo</td>\n",
       "      <td>POLYGON ((2429607.454 1120262.254, 2429071.902...</td>\n",
       "      <td>923.357832</td>\n",
       "      <td>01003</td>\n",
       "    </tr>\n",
       "    <tr>\n",
       "      <th>3</th>\n",
       "      <td>01004</td>\n",
       "      <td>01</td>\n",
       "      <td>004</td>\n",
       "      <td>Cosío</td>\n",
       "      <td>POLYGON ((2470517.824 1155028.588, 2470552.248...</td>\n",
       "      <td>128.383545</td>\n",
       "      <td>01004</td>\n",
       "    </tr>\n",
       "    <tr>\n",
       "      <th>4</th>\n",
       "      <td>01005</td>\n",
       "      <td>01</td>\n",
       "      <td>005</td>\n",
       "      <td>Jesús María</td>\n",
       "      <td>POLYGON ((2465526.729 1114740.466, 2465752.546...</td>\n",
       "      <td>499.895092</td>\n",
       "      <td>01005</td>\n",
       "    </tr>\n",
       "  </tbody>\n",
       "</table>\n",
       "</div>"
      ],
      "text/plain": [
       "  CVEGEO CVE_ENT CVE_MUN          NOMGEO  \\\n",
       "0  01001      01     001  Aguascalientes   \n",
       "1  01002      01     002        Asientos   \n",
       "2  01003      01     003        Calvillo   \n",
       "3  01004      01     004           Cosío   \n",
       "4  01005      01     005     Jesús María   \n",
       "\n",
       "                                            geometry    area_sqkm CVE_MUNI  \n",
       "0  POLYGON ((2489072.503 1115771.584, 2489352.774...  1166.359248    01001  \n",
       "1  POLYGON ((2494680.261 1141224.505, 2494749.948...   543.374266    01002  \n",
       "2  POLYGON ((2429607.454 1120262.254, 2429071.902...   923.357832    01003  \n",
       "3  POLYGON ((2470517.824 1155028.588, 2470552.248...   128.383545    01004  \n",
       "4  POLYGON ((2465526.729 1114740.466, 2465752.546...   499.895092    01005  "
      ]
     },
     "execution_count": 8,
     "metadata": {},
     "output_type": "execute_result"
    }
   ],
   "source": [
    "admin2.head()"
   ]
  },
  {
   "cell_type": "code",
   "execution_count": 9,
   "id": "9b910d60-db7e-493d-b449-e9823291a40a",
   "metadata": {},
   "outputs": [
    {
     "data": {
      "image/png": "[encoded data removed]",
      "text/plain": [
       "<Figure size 432x288 with 1 Axes>"
      ]
     },
     "metadata": {
      "needs_background": "light"
     },
     "output_type": "display_data"
    }
   ],
   "source": [
    "admin2.plot();"
   ]
  },
  {
   "cell_type": "markdown",
   "id": "87283d90-e32e-416d-baed-540793090ac2",
   "metadata": {},
   "source": [
    "## Map of Population by Municipality"
   ]
  },
  {
   "cell_type": "markdown",
   "id": "61ee7d39-0ba2-4377-aeea-e99daf2866b8",
   "metadata": {},
   "source": [
    "Get population from COVID-19 data files"
   ]
  },
  {
   "cell_type": "code",
   "execution_count": 10,
   "id": "036ac035-1019-46a6-a01e-c41d4d522785",
   "metadata": {},
   "outputs": [],
   "source": [
    "population_admin2 = pd.read_csv('../Data/Casos_Diarios_Municipio_Defunciones_20210621.csv', \n",
    "                                usecols=['cve_ent', 'poblacion', 'nombre'])"
   ]
  },
  {
   "cell_type": "code",
   "execution_count": 11,
   "id": "4d953b75-edb4-48ec-98a9-c476078fd5c3",
   "metadata": {},
   "outputs": [
    {
     "data": {
      "text/html": [
       "<div>\n",
       "<style scoped>\n",
       "    .dataframe tbody tr th:only-of-type {\n",
       "        vertical-align: middle;\n",
       "    }\n",
       "\n",
       "    .dataframe tbody tr th {\n",
       "        vertical-align: top;\n",
       "    }\n",
       "\n",
       "    .dataframe thead th {\n",
       "        text-align: right;\n",
       "    }\n",
       "</style>\n",
       "<table border=\"1\" class=\"dataframe\">\n",
       "  <thead>\n",
       "    <tr style=\"text-align: right;\">\n",
       "      <th></th>\n",
       "      <th>cve_ent</th>\n",
       "      <th>poblacion</th>\n",
       "      <th>nombre</th>\n",
       "    </tr>\n",
       "  </thead>\n",
       "  <tbody>\n",
       "    <tr>\n",
       "      <th>0</th>\n",
       "      <td>16046</td>\n",
       "      <td>15290</td>\n",
       "      <td>Juarez</td>\n",
       "    </tr>\n",
       "    <tr>\n",
       "      <th>1</th>\n",
       "      <td>16047</td>\n",
       "      <td>22358</td>\n",
       "      <td>Jungapeo</td>\n",
       "    </tr>\n",
       "    <tr>\n",
       "      <th>2</th>\n",
       "      <td>16048</td>\n",
       "      <td>5862</td>\n",
       "      <td>Lagunillas</td>\n",
       "    </tr>\n",
       "    <tr>\n",
       "      <th>3</th>\n",
       "      <td>16049</td>\n",
       "      <td>18769</td>\n",
       "      <td>Madero</td>\n",
       "    </tr>\n",
       "    <tr>\n",
       "      <th>4</th>\n",
       "      <td>5035</td>\n",
       "      <td>744247</td>\n",
       "      <td>Torreon</td>\n",
       "    </tr>\n",
       "  </tbody>\n",
       "</table>\n",
       "</div>"
      ],
      "text/plain": [
       "   cve_ent  poblacion      nombre\n",
       "0    16046      15290      Juarez\n",
       "1    16047      22358    Jungapeo\n",
       "2    16048       5862  Lagunillas\n",
       "3    16049      18769      Madero\n",
       "4     5035     744247     Torreon"
      ]
     },
     "execution_count": 11,
     "metadata": {},
     "output_type": "execute_result"
    }
   ],
   "source": [
    "population_admin2.head()"
   ]
  },
  {
   "cell_type": "markdown",
   "id": "a868954e-4476-4560-8eb8-ccb742d85755",
   "metadata": {},
   "source": [
    "Add 5-digit municipality code column (example: convert 5035 -> 05035)"
   ]
  },
  {
   "cell_type": "code",
   "execution_count": 12,
   "id": "be10e8cb-f9b2-4d83-90ce-60a498c52f4b",
   "metadata": {},
   "outputs": [],
   "source": [
    "population_admin2['CVE_MUNI'] = population_admin2['cve_ent'].apply(lambda i: f'{i:05d}')"
   ]
  },
  {
   "cell_type": "code",
   "execution_count": 13,
   "id": "905cd9ec-8ef0-46ac-818f-7931f1c57f32",
   "metadata": {},
   "outputs": [
    {
     "data": {
      "text/html": [
       "<div>\n",
       "<style scoped>\n",
       "    .dataframe tbody tr th:only-of-type {\n",
       "        vertical-align: middle;\n",
       "    }\n",
       "\n",
       "    .dataframe tbody tr th {\n",
       "        vertical-align: top;\n",
       "    }\n",
       "\n",
       "    .dataframe thead th {\n",
       "        text-align: right;\n",
       "    }\n",
       "</style>\n",
       "<table border=\"1\" class=\"dataframe\">\n",
       "  <thead>\n",
       "    <tr style=\"text-align: right;\">\n",
       "      <th></th>\n",
       "      <th>cve_ent</th>\n",
       "      <th>poblacion</th>\n",
       "      <th>nombre</th>\n",
       "      <th>CVE_MUNI</th>\n",
       "    </tr>\n",
       "  </thead>\n",
       "  <tbody>\n",
       "    <tr>\n",
       "      <th>0</th>\n",
       "      <td>16046</td>\n",
       "      <td>15290</td>\n",
       "      <td>Juarez</td>\n",
       "      <td>16046</td>\n",
       "    </tr>\n",
       "    <tr>\n",
       "      <th>1</th>\n",
       "      <td>16047</td>\n",
       "      <td>22358</td>\n",
       "      <td>Jungapeo</td>\n",
       "      <td>16047</td>\n",
       "    </tr>\n",
       "    <tr>\n",
       "      <th>2</th>\n",
       "      <td>16048</td>\n",
       "      <td>5862</td>\n",
       "      <td>Lagunillas</td>\n",
       "      <td>16048</td>\n",
       "    </tr>\n",
       "    <tr>\n",
       "      <th>3</th>\n",
       "      <td>16049</td>\n",
       "      <td>18769</td>\n",
       "      <td>Madero</td>\n",
       "      <td>16049</td>\n",
       "    </tr>\n",
       "    <tr>\n",
       "      <th>4</th>\n",
       "      <td>5035</td>\n",
       "      <td>744247</td>\n",
       "      <td>Torreon</td>\n",
       "      <td>05035</td>\n",
       "    </tr>\n",
       "  </tbody>\n",
       "</table>\n",
       "</div>"
      ],
      "text/plain": [
       "   cve_ent  poblacion      nombre CVE_MUNI\n",
       "0    16046      15290      Juarez    16046\n",
       "1    16047      22358    Jungapeo    16047\n",
       "2    16048       5862  Lagunillas    16048\n",
       "3    16049      18769      Madero    16049\n",
       "4     5035     744247     Torreon    05035"
      ]
     },
     "execution_count": 13,
     "metadata": {},
     "output_type": "execute_result"
    }
   ],
   "source": [
    "population_admin2.head()"
   ]
  },
  {
   "cell_type": "markdown",
   "id": "5f1bf65e-b3d5-4833-b1eb-d26d945b0b9c",
   "metadata": {},
   "source": [
    "Merge the geo dataframe with the population dataframe using the common CVE_MUNI column"
   ]
  },
  {
   "cell_type": "code",
   "execution_count": 14,
   "id": "7afd2eef-3849-4adb-aa8a-c136749a572b",
   "metadata": {},
   "outputs": [],
   "source": [
    "df_admin2 = admin2.merge(population_admin2, on='CVE_MUNI')"
   ]
  },
  {
   "cell_type": "code",
   "execution_count": 15,
   "id": "e41cfcd3-6100-4507-92a7-885151414d68",
   "metadata": {},
   "outputs": [
    {
     "data": {
      "text/html": [
       "<div>\n",
       "<style scoped>\n",
       "    .dataframe tbody tr th:only-of-type {\n",
       "        vertical-align: middle;\n",
       "    }\n",
       "\n",
       "    .dataframe tbody tr th {\n",
       "        vertical-align: top;\n",
       "    }\n",
       "\n",
       "    .dataframe thead th {\n",
       "        text-align: right;\n",
       "    }\n",
       "</style>\n",
       "<table border=\"1\" class=\"dataframe\">\n",
       "  <thead>\n",
       "    <tr style=\"text-align: right;\">\n",
       "      <th></th>\n",
       "      <th>CVEGEO</th>\n",
       "      <th>CVE_ENT</th>\n",
       "      <th>CVE_MUN</th>\n",
       "      <th>NOMGEO</th>\n",
       "      <th>geometry</th>\n",
       "      <th>area_sqkm</th>\n",
       "      <th>CVE_MUNI</th>\n",
       "      <th>cve_ent</th>\n",
       "      <th>poblacion</th>\n",
       "      <th>nombre</th>\n",
       "    </tr>\n",
       "  </thead>\n",
       "  <tbody>\n",
       "    <tr>\n",
       "      <th>0</th>\n",
       "      <td>01001</td>\n",
       "      <td>01</td>\n",
       "      <td>001</td>\n",
       "      <td>Aguascalientes</td>\n",
       "      <td>POLYGON ((2489072.503 1115771.584, 2489352.774...</td>\n",
       "      <td>1166.359248</td>\n",
       "      <td>01001</td>\n",
       "      <td>1001</td>\n",
       "      <td>961977</td>\n",
       "      <td>Aguascalientes</td>\n",
       "    </tr>\n",
       "    <tr>\n",
       "      <th>1</th>\n",
       "      <td>01002</td>\n",
       "      <td>01</td>\n",
       "      <td>002</td>\n",
       "      <td>Asientos</td>\n",
       "      <td>POLYGON ((2494680.261 1141224.505, 2494749.948...</td>\n",
       "      <td>543.374266</td>\n",
       "      <td>01002</td>\n",
       "      <td>1002</td>\n",
       "      <td>50864</td>\n",
       "      <td>Asientos</td>\n",
       "    </tr>\n",
       "    <tr>\n",
       "      <th>2</th>\n",
       "      <td>01003</td>\n",
       "      <td>01</td>\n",
       "      <td>003</td>\n",
       "      <td>Calvillo</td>\n",
       "      <td>POLYGON ((2429607.454 1120262.254, 2429071.902...</td>\n",
       "      <td>923.357832</td>\n",
       "      <td>01003</td>\n",
       "      <td>1003</td>\n",
       "      <td>60760</td>\n",
       "      <td>Calvillo</td>\n",
       "    </tr>\n",
       "    <tr>\n",
       "      <th>3</th>\n",
       "      <td>01004</td>\n",
       "      <td>01</td>\n",
       "      <td>004</td>\n",
       "      <td>Cosío</td>\n",
       "      <td>POLYGON ((2470517.824 1155028.588, 2470552.248...</td>\n",
       "      <td>128.383545</td>\n",
       "      <td>01004</td>\n",
       "      <td>1004</td>\n",
       "      <td>16918</td>\n",
       "      <td>Cosio</td>\n",
       "    </tr>\n",
       "    <tr>\n",
       "      <th>4</th>\n",
       "      <td>01005</td>\n",
       "      <td>01</td>\n",
       "      <td>005</td>\n",
       "      <td>Jesús María</td>\n",
       "      <td>POLYGON ((2465526.729 1114740.466, 2465752.546...</td>\n",
       "      <td>499.895092</td>\n",
       "      <td>01005</td>\n",
       "      <td>1005</td>\n",
       "      <td>130184</td>\n",
       "      <td>Jesus Maria</td>\n",
       "    </tr>\n",
       "  </tbody>\n",
       "</table>\n",
       "</div>"
      ],
      "text/plain": [
       "  CVEGEO CVE_ENT CVE_MUN          NOMGEO  \\\n",
       "0  01001      01     001  Aguascalientes   \n",
       "1  01002      01     002        Asientos   \n",
       "2  01003      01     003        Calvillo   \n",
       "3  01004      01     004           Cosío   \n",
       "4  01005      01     005     Jesús María   \n",
       "\n",
       "                                            geometry    area_sqkm CVE_MUNI  \\\n",
       "0  POLYGON ((2489072.503 1115771.584, 2489352.774...  1166.359248    01001   \n",
       "1  POLYGON ((2494680.261 1141224.505, 2494749.948...   543.374266    01002   \n",
       "2  POLYGON ((2429607.454 1120262.254, 2429071.902...   923.357832    01003   \n",
       "3  POLYGON ((2470517.824 1155028.588, 2470552.248...   128.383545    01004   \n",
       "4  POLYGON ((2465526.729 1114740.466, 2465752.546...   499.895092    01005   \n",
       "\n",
       "   cve_ent  poblacion          nombre  \n",
       "0     1001     961977  Aguascalientes  \n",
       "1     1002      50864        Asientos  \n",
       "2     1003      60760        Calvillo  \n",
       "3     1004      16918           Cosio  \n",
       "4     1005     130184     Jesus Maria  "
      ]
     },
     "execution_count": 15,
     "metadata": {},
     "output_type": "execute_result"
    }
   ],
   "source": [
    "df_admin2.head()"
   ]
  },
  {
   "cell_type": "markdown",
   "id": "6d3c8136-27ca-4881-b43c-27517ea2232f",
   "metadata": {},
   "source": [
    "Calculate population density"
   ]
  },
  {
   "cell_type": "code",
   "execution_count": 16,
   "id": "f4266927-02a3-437a-ac22-4f74ed9eafbc",
   "metadata": {},
   "outputs": [],
   "source": [
    "df_admin2['population_density'] = df_admin2['poblacion'] / df_admin2['area_sqkm']"
   ]
  },
  {
   "cell_type": "code",
   "execution_count": 17,
   "id": "9c5d2d5f-5fd8-4b02-ae49-6a1e39fb1a91",
   "metadata": {},
   "outputs": [],
   "source": [
    "a2 = df_admin2[['population_density']]"
   ]
  },
  {
   "cell_type": "code",
   "execution_count": 18,
   "id": "9285e88f-40ef-41d0-a659-d0d60d237762",
   "metadata": {},
   "outputs": [
    {
     "data": {
      "text/html": [
       "<div>\n",
       "<style scoped>\n",
       "    .dataframe tbody tr th:only-of-type {\n",
       "        vertical-align: middle;\n",
       "    }\n",
       "\n",
       "    .dataframe tbody tr th {\n",
       "        vertical-align: top;\n",
       "    }\n",
       "\n",
       "    .dataframe thead th {\n",
       "        text-align: right;\n",
       "    }\n",
       "</style>\n",
       "<table border=\"1\" class=\"dataframe\">\n",
       "  <thead>\n",
       "    <tr style=\"text-align: right;\">\n",
       "      <th></th>\n",
       "      <th>0</th>\n",
       "    </tr>\n",
       "  </thead>\n",
       "  <tbody>\n",
       "    <tr>\n",
       "      <th>0</th>\n",
       "      <td>0.408617</td>\n",
       "    </tr>\n",
       "    <tr>\n",
       "      <th>1</th>\n",
       "      <td>-0.176284</td>\n",
       "    </tr>\n",
       "    <tr>\n",
       "      <th>2</th>\n",
       "      <td>-0.198527</td>\n",
       "    </tr>\n",
       "    <tr>\n",
       "      <th>3</th>\n",
       "      <td>-0.145750</td>\n",
       "    </tr>\n",
       "    <tr>\n",
       "      <th>4</th>\n",
       "      <td>-0.042839</td>\n",
       "    </tr>\n",
       "    <tr>\n",
       "      <th>5</th>\n",
       "      <td>-0.046689</td>\n",
       "    </tr>\n",
       "    <tr>\n",
       "      <th>6</th>\n",
       "      <td>-0.126581</td>\n",
       "    </tr>\n",
       "    <tr>\n",
       "      <th>7</th>\n",
       "      <td>-0.242157</td>\n",
       "    </tr>\n",
       "    <tr>\n",
       "      <th>8</th>\n",
       "      <td>-0.171948</td>\n",
       "    </tr>\n",
       "    <tr>\n",
       "      <th>9</th>\n",
       "      <td>-0.216335</td>\n",
       "    </tr>\n",
       "  </tbody>\n",
       "</table>\n",
       "</div>"
      ],
      "text/plain": [
       "          0\n",
       "0  0.408617\n",
       "1 -0.176284\n",
       "2 -0.198527\n",
       "3 -0.145750\n",
       "4 -0.042839\n",
       "5 -0.046689\n",
       "6 -0.126581\n",
       "7 -0.242157\n",
       "8 -0.171948\n",
       "9 -0.216335"
      ]
     },
     "execution_count": 18,
     "metadata": {},
     "output_type": "execute_result"
    }
   ],
   "source": [
    "std_scaler = StandardScaler()\n",
    "std_scaler\n",
    "# fit and transform the data\n",
    "X = pd.DataFrame(std_scaler.fit_transform(a2))\n",
    "\n",
    "X.head(10)"
   ]
  },
  {
   "cell_type": "code",
   "execution_count": 19,
   "id": "aca65113-fced-48d1-8bd9-74f2aa992ef2",
   "metadata": {},
   "outputs": [
    {
     "name": "stdout",
     "output_type": "stream",
     "text": [
      "[ 0  0  0  0  0  0  0  0  0  0  0  0  0  0  0  0  0  0  0  0  0  0  0  0\n",
      "  0  0  0  0  0  0  0  0  0  0  0  0  0  0  0  0  0  0  0  0  0  0  0  0\n",
      "  0  0  0  0  0  0  0  0  0  0  0  0  0  0  0  0  0  0  0  0  0  0  0  0\n",
      "  0  0  0  0  0  0  0  0  0  0  0  0  0  0  0  0  0  0  0  0  0  0  0  0\n",
      "  0  0  0  0  0  0  0  0  0  0  0  0  0  0  0  0  0  0  0  0  0  0  0  0\n",
      "  0  0  0  0  0  0  0  0  0  0  0  0  0  0  0  0  0  0  0  0  0  0  0  0\n",
      "  0  0  0  0  0  0  0  0  0  0  0  0  0  0  0  0  0  0  0  0  0  0  0  0\n",
      "  0  0  0  0  0  0  0  0  0  0  0  0  0  0  0  0  0  0  0  0  0  0  0  0\n",
      "  0  0  0  0  0  0  0  0  0  0  0  0  0  0  0  0  0  0  0  0  0  0  0  0\n",
      "  0  0  0  0  0  0  0  0  0  0  0  0  0  0  0  0  0  0  0  0  0  0  0  0\n",
      "  0  0  0  0  0  0  0  0  0  0  0  0  0  0  0  0  0  0  0  0  0  0  0  0\n",
      "  0 -1 -1  0 -1  1  2  0  0  3  0  0  0  2  1  4 -1  0  0  0  0  0  0  0\n",
      "  0  0  0  0  0  0  0  0  0  0  0  0  0  0  0  0  0  0  0  0  0  0  0  0\n",
      "  0  0  0  0  0  0  0  0  0  0  0  0  0  0  0  0  0  0  0  0  0  0  0  0\n",
      "  0  0  0  0  0  0  0  0  0  0  0  0  0  0  0  0  0  0  0  0  0  0  0  0\n",
      "  0  0  0  0  0  0  0  0  0  0  0  0  0  0  0  0  0  0  0  0  0  0  0  0\n",
      "  0  0  0  0  0  0  0  0  0  0  0  0  0  0  0  0  0  0  0  0  0  0  0  0\n",
      "  0  0  0  0  0  0  0  0  0  0  0  0  0  0  0  0  0  0  0  0  0  0  0  0\n",
      "  0  0  0  0  0  0  0  0  0  0  0  0  0  0  0  0  0  0  0  0  0  0  0  0\n",
      "  0  0  0  0  0  0  0  0  0  0  0  0  0  0  0  0  0  0  0  0  0  0  0  0\n",
      "  0  0  0  0  0  0  0  0  0  0  0  0  0  0  0  0  0  0  0  0  0  0  0  0\n",
      "  0  0  0  0  0  0  0  0  0  0  0  0  0  0  0  0  0  0  0  0  0  0  0  0\n",
      "  0  0  0  0  0  0  0  0  0  0  0  0  0  0  0  0  0  0  0  0  0  0  0  0\n",
      "  0  0  0  0  0  0  0  0  0  0  0  0  0  0  0  0  0 -1  0  0  0  0  0  0\n",
      "  0  0  0  0  0  0  0  0  0  0  0  0  0  0  0  0  0  0  0  0  0  0  0  0\n",
      "  0  0  0  0  0  0  0  0  0  0  0  0  0  0  0  0  0  0  0  0  0  0  0  0\n",
      "  0  0  0  0  5  0  0  0  0  0  0  0  0  0  0  0  0  0  0  0  0  0  0  0\n",
      "  0  0  0  0  0  0  0  0  0  0  0  0  0  0  0  0  0  0  0  0  5  0  0  0\n",
      "  0  0  0  6  0  0  0  0  0  0  0  0  7  0 -1  0 -1  0  0  0  0  0  0  0\n",
      "  0  0  0  5  0  0  0  0  0  0  0  0  0  4  0  0  0  0  0  0  0  0  0  0\n",
      "  0  0  0  0  0  0  5 -1  0  0  0  0  0  0  0  0  0  0  0  0 -1  0  0  0\n",
      "  5  4  0  0  0  0  0  0  0  0  0  0  0  7  0  0  0  0  0  0  0  6  0  0\n",
      "  0  0  0  0  0  0  0  0  0  0  0  0  0  0  0  0  0  0  0  0  0  0  0  0\n",
      "  0  0  0  0  0  0  0  0  0  0  0  0  0  0  0  0  0  0  0  0  0  0  0  0\n",
      "  0  0  0  0  0  0  0  0  0  0  0  0  0  0  0  0  0  0  0  0  0  0  0  0\n",
      "  0  0  0  0  0  0  0  0  0  0  0  0  0  0  0  0  0  0  0  0  0  0  0  0\n",
      "  0  0  0  0  0  0  0  0  0  0  0  0  0  0  0  0  0  0  0  0  0  0  0  0\n",
      "  0  0  0  0  0  0  0  0  0  0  0  0  0  0  0  0  0  0  0  0  0  0  0  0\n",
      "  0  0  0  0  0  0  0  0  0  0  0  0  0  0  0  0  0  0  0  0  0  0  0  0\n",
      "  0  0  0  0  0  0  0  0  0  0  0  0  0  0  0  0  0  0  0  0  0  0  0  5\n",
      "  0  0  0  0  0  0  0  0  0  0  0  0  0  0  0  0  0  0  0  0  0  0  0  0\n",
      "  0  0  0  0  0  0  0  0  3  0  0  0  0  0  0  0  0  0  0  0  0  0  0  0\n",
      "  0  0  0  0  0  0  0  0  0  0  0  0  0  0  0  0  0  0  0  0  0  0  0  0\n",
      "  0  0  0  0  0  0  0  0  0  0  0  0  0  0  0  0  0  0  0  0  0  0  0  0\n",
      "  0  0  0  0  0  0  0  0  0  0  0  0  0  0  0  0  0  0  0  0  0  0  0  0\n",
      "  0  0  0  0  0  0  0  0  0  0  0  0  0  0  0  0  0  0  0  0  0  0  0  0\n",
      "  0  0  0  0  0  0  0  0  0  0  0  0  0  0  0  0  0  0  0  0  0  0  0  0\n",
      "  0  0  0  0  0  0  0  0  0  0  0  0  0  0  0  0  0  0  0  0  0  0  0  0\n",
      "  0  0  0  0  0  0  0  0  0  0  0  0  0  0  0  0  0  0  0  0  0  0  0  0\n",
      "  0  0  0  0  0  0  0  0  0  0  0  0  0  0  0  0  0  0  0  0  0  0  0  0\n",
      "  0  0  0  0  0  0  0  0  0  0  0  0  0  0  0  0  0  0  0  0  0  0  0  0\n",
      "  0  0  0  0  0  0  0  0  0  0  0  0  0  0  0  0  0  0  0  0  0  0  0  0\n",
      "  0  0  0  0  0  0  0  0  0  0  0  0  0  0  0  0  0  0  0  0  0  0  0  0\n",
      "  0  0  0  0  0  0  0  0  0  0  0  0  0  0  0  0  0  0  0  0  0  0  0  0\n",
      "  0  0  0  0  0  0  0  0  0  0  0  0  0  0  0  0  0  0  0  0  0  0  0  0\n",
      "  0  0  0  0  0  0  0  0  0  0  0  0  0  0  0  0  0  0  0  0  0  0  0  0\n",
      "  0  0  0  0  0  0  0  0  0  0  0  0  0  0  0  0  0  0  0  0  0  0  0  0\n",
      "  0  0  0  0  0  0  0  0  0  0  0  0  0  0  0  0  0  0  0  0  0  0  0  5\n",
      "  0  0  0  0  0  0  0  0  0  0  0  0  0  0  0  0  0  7  0  0  0  0  0  0\n",
      "  0  0  0  0  0  0  0  0  0  0  0  0  0  0  0  0  0  0  0  0  0  0  0  0\n",
      "  0  0  0  0  0  0  0  0  0  0  0  0  0  0  0  0  0  0  0  0  0  0  0  0\n",
      "  0  0  0  0  0  0  0  0  0  0  0  0  0  0  0  0  0  0  0  0  0  0  0  0\n",
      "  0  0  0  0  0  0  0  0  0  0  0  0  0  0  0  0  0  0  0  0  0  0  0  0\n",
      "  0  0  0  0  0  0  0  0  0  0  0  0  0  0  0  0  0  0  0  0  0  0  0  0\n",
      "  0  0  0  0  0  0  0  0  0  0  0  0  0  0  0  0  0  0  0  0  0  0  0  0\n",
      "  0  0  0  0  0  0  0  0  0  0  0  0  0  0  0  0  0  0  0  0  0  0  0  0\n",
      "  0  0  0  0  0  0  0  0  0  0  0  0  0  0  0  0  0  0  0  0  0  0  0  0\n",
      "  0  0  0  0  0  0  0  0  0  0  0  0  0  0  0  0  0  0  0  0  0  0  0  0\n",
      "  0  0  0  0  0  0  0  0  0  0  0  0  0  0  0  0  0  0  0  0  0  0  0  0\n",
      "  0  0  0  0  0  0  0  0  0  0  0  0  0  0  0  0  0  0  0  0  0  0  0  0\n",
      "  0  0  0  0  0  0  0  0  0  0  0  0  0  0  0  0  0  0  0  0  0  0  0  0\n",
      "  0  0  0  0  0  0  0  0  0  0  0  0  0  0  0  0  0  0  0  0  0  0  0  0\n",
      "  0  0  0  0  0  0  0  0  0  0  0  0  0  0  0  0  0  0  0  0  0  0  0  0\n",
      "  0  0  0  0  0  0  0  0  0  0  0  0  0  0  0  0  0  0  0  0  0  0  0  0\n",
      "  0  0  0  0  0  0  0  0  0  0  0  0  0  0  0  0  0  0  0  0  0  0  0  0\n",
      "  0  0  0  0  0  0  0  0  0  0  0  0  0  0  0  0  0  0  0  0  0  0  0  0\n",
      "  0  0  0  0  0  0  0  0  0  0  0  0  0  0  0  0  0  0  0  0  0  0  0  0\n",
      "  0  0  0  0  0  0  0  0  0  0  0  0  0  0  0  0  0  0  0  0  0  0  0  0\n",
      "  0  0  0  0  0  0  0  0  0  0  0  0  0  0  0  0  0  0  0  0  0  0  0  0\n",
      "  0  0  0  0  0  0  0  0  0  0  0  0  0  0  0  0  0  0  0  0  0  0  0  0\n",
      "  0  0  0  0  0  0  0  0  0  0  0  0  0  0  0  0  0  0  0  0  0  0  0  0\n",
      "  0  0  0  0  0  0  0  0  0  0  0  0  0  0  0  0  0  0  0  0  0  0  0  0\n",
      "  0  0  0  0  0  0  0  0  0  0  0  0  0  0  0  0  0  0  8  0  0  0  0  0\n",
      "  0  0  0  0  0  0  0  0  0  0  0  0  0  0  0  0  0  0  0  0  0  0  0  0\n",
      "  0  0  0  0  0  0  0  0  0  0  0  0  0  0  0  0  0  0  0  0  0  0  0  0\n",
      "  0  0  0  0  0  0  0  0  0  0  0  0  0  0  0  0  0  0  0  0  0  0  0  0\n",
      "  0  0  0  0  0  0  0  0  0  0  0  0  0  0  0  0  0  0  0  0  0  0  0  0\n",
      "  0  0  0  0  0  0  0  0  0  0  0  0  0  0  0  0  0  0  0  0  0  0  0  0\n",
      "  0  0  0  0  0  0  0  0  0  0  0  0  0  0  0  0  0  0  0  0  0  0  0  0\n",
      "  0  0  0  0  0  0  0  0  0  0  0  0  0  0  0  0  0  0  0  0  0  0  0  0\n",
      "  0  0  0  0  0  0  0  0  0  0  0  0  0  0  0  0  8  0  0  0  0  0  0  0\n",
      "  0  0  0  0  0  0  0  0  0  0  0  0  0  0  0  0  0  0  0  0  0  0  0  0\n",
      "  0  0  0  0  0  0  0  0  0  0  0  0  0  0  0  0  0  0  0  0  0  0  0  0\n",
      "  0  0  0  0  0  0  0  0  0  0  0  0  0  0  0  0  0  0  0  0  0  0  0  0\n",
      "  0  0  0  0  0  0  0  0  0  0  0  0  0  0  0  0  0  0  0  0  0  0  0  0\n",
      "  0  0  0  0  0  0  0  0  0  0  0  0  0  0  0  0  0  0  0  0  0  0  0  0\n",
      "  0  0  0  0  0  0  0  0  0  0  0  0  0  0  0  0  0  0  0  0  0  0  0  0\n",
      "  0  0  0  0  0  0  0  0  0  0  0  0  0  0  0  0  0  0  0  0  0  0  0  0\n",
      "  0  0  0  0  0  0  0  0  0  0  0  0  0  0  0  0  0  0  0  0  0  0  0  0\n",
      "  0  0  0  0  0  0  0  0  0  0  0  0  0  0  0  0  0  0  0  0  0  0  0  0\n",
      "  0  0  0  0  0  0  0  0  0  0  0  0  0  0  0  0  0  0  0  0  0  0  0  0\n",
      "  0  0  0  0  0  0  0  0  0  0  0  0  0  0  0  0  0  0  0  0  0  0  0  0\n",
      "  0  0  0  0  0  0  0  0  0]\n",
      "Estimated number of clusters: 9\n",
      "Estimated number of noise points: 9\n",
      "Silhouette Coefficient: 0.917\n"
     ]
    }
   ],
   "source": [
    "# Compute DBSCAN\n",
    "db = DBSCAN(eps=0.2, min_samples=2).fit(X)\n",
    "core_samples_mask = np.zeros_like(db.labels_, dtype=bool)\n",
    "core_samples_mask[db.core_sample_indices_] = True\n",
    "labels = db.labels_\n",
    "with np.printoptions(threshold=np.inf):\n",
    "     print(labels)\n",
    "# Number of clusters in labels, ignoring noise if present.\n",
    "n_clusters_ = len(set(labels)) - (1 if -1 in labels else 0)\n",
    "n_noise_ = list(labels).count(-1)\n",
    "\n",
    "print('Estimated number of clusters: %d' % n_clusters_)\n",
    "print('Estimated number of noise points: %d' % n_noise_)\n",
    "print(\"Silhouette Coefficient: %0.3f\" % metrics.silhouette_score(X, labels))"
   ]
  },
  {
   "cell_type": "markdown",
   "id": "94e865b6-dd8f-4b6d-9bd3-a816b4899a41",
   "metadata": {},
   "source": [
    "### Plot result"
   ]
  },
  {
   "cell_type": "code",
   "execution_count": 20,
   "id": "a5a2d8d3-1d17-440f-aee5-31e8c1b78582",
   "metadata": {},
   "outputs": [
    {
     "data": {
      "image/png": "[encoded data removed]",
      "text/plain": [
       "<Figure size 432x288 with 1 Axes>"
      ]
     },
     "metadata": {
      "needs_background": "light"
     },
     "output_type": "display_data"
    }
   ],
   "source": [
    "# Plot result\n",
    "import matplotlib.pyplot as plt\n",
    "\n",
    "# Black removed and is used for noise instead.\n",
    "unique_labels = set(labels)\n",
    "colors = [plt.cm.Spectral(each)\n",
    "          for each in np.linspace(0, 1, len(unique_labels))]\n",
    "for k, col in zip(unique_labels, colors):\n",
    "    if k == -1:\n",
    "        # Black used for noise.\n",
    "        col = [0, 0, 0, 1]\n",
    "\n",
    "    class_member_mask = (labels == k)\n",
    "\n",
    "    xy = X[class_member_mask & core_samples_mask]\n",
    "    plt.plot(xy.iloc[:, :], 'o', markerfacecolor=tuple(col),\n",
    "             markeredgecolor='k', markersize=14)\n",
    "\n",
    "    xy = X[class_member_mask & ~core_samples_mask]\n",
    "    plt.plot(xy.iloc[:, :], 'o', markerfacecolor=tuple(col),\n",
    "             markeredgecolor='k', markersize=6)\n",
    "\n",
    "plt.title('Estimated number of clusters: %d' % n_clusters_)\n",
    "plt.show()"
   ]
  },
  {
   "cell_type": "code",
   "execution_count": 21,
   "id": "e557813d-04d4-4ed6-bf19-91916fb73e06",
   "metadata": {},
   "outputs": [],
   "source": [
    "df_labels = pd.DataFrame(labels, columns=['cluster'])"
   ]
  },
  {
   "cell_type": "code",
   "execution_count": 22,
   "id": "6f90b1c9-103a-413b-bd12-de0821bcfbe3",
   "metadata": {},
   "outputs": [
    {
     "data": {
      "text/html": [
       "<div>\n",
       "<style scoped>\n",
       "    .dataframe tbody tr th:only-of-type {\n",
       "        vertical-align: middle;\n",
       "    }\n",
       "\n",
       "    .dataframe tbody tr th {\n",
       "        vertical-align: top;\n",
       "    }\n",
       "\n",
       "    .dataframe thead th {\n",
       "        text-align: right;\n",
       "    }\n",
       "</style>\n",
       "<table border=\"1\" class=\"dataframe\">\n",
       "  <thead>\n",
       "    <tr style=\"text-align: right;\">\n",
       "      <th></th>\n",
       "      <th>cluster</th>\n",
       "    </tr>\n",
       "  </thead>\n",
       "  <tbody>\n",
       "    <tr>\n",
       "      <th>0</th>\n",
       "      <td>0</td>\n",
       "    </tr>\n",
       "    <tr>\n",
       "      <th>1</th>\n",
       "      <td>0</td>\n",
       "    </tr>\n",
       "    <tr>\n",
       "      <th>2</th>\n",
       "      <td>0</td>\n",
       "    </tr>\n",
       "    <tr>\n",
       "      <th>3</th>\n",
       "      <td>0</td>\n",
       "    </tr>\n",
       "    <tr>\n",
       "      <th>4</th>\n",
       "      <td>0</td>\n",
       "    </tr>\n",
       "  </tbody>\n",
       "</table>\n",
       "</div>"
      ],
      "text/plain": [
       "   cluster\n",
       "0        0\n",
       "1        0\n",
       "2        0\n",
       "3        0\n",
       "4        0"
      ]
     },
     "execution_count": 22,
     "metadata": {},
     "output_type": "execute_result"
    }
   ],
   "source": [
    "df_labels.head()"
   ]
  },
  {
   "cell_type": "code",
   "execution_count": 23,
   "id": "328f83ca-25cc-47f9-ba9f-03629c8fc0bb",
   "metadata": {},
   "outputs": [],
   "source": [
    "df2 = pd.concat([df_admin2, df_labels], axis=1)"
   ]
  },
  {
   "cell_type": "code",
   "execution_count": 24,
   "id": "b1438c19-e0d6-4811-8f4c-a380e6cebecf",
   "metadata": {},
   "outputs": [
    {
     "data": {
      "text/html": [
       "<div>\n",
       "<style scoped>\n",
       "    .dataframe tbody tr th:only-of-type {\n",
       "        vertical-align: middle;\n",
       "    }\n",
       "\n",
       "    .dataframe tbody tr th {\n",
       "        vertical-align: top;\n",
       "    }\n",
       "\n",
       "    .dataframe thead th {\n",
       "        text-align: right;\n",
       "    }\n",
       "</style>\n",
       "<table border=\"1\" class=\"dataframe\">\n",
       "  <thead>\n",
       "    <tr style=\"text-align: right;\">\n",
       "      <th></th>\n",
       "      <th>CVEGEO</th>\n",
       "      <th>CVE_ENT</th>\n",
       "      <th>CVE_MUN</th>\n",
       "      <th>NOMGEO</th>\n",
       "      <th>geometry</th>\n",
       "      <th>area_sqkm</th>\n",
       "      <th>CVE_MUNI</th>\n",
       "      <th>cve_ent</th>\n",
       "      <th>poblacion</th>\n",
       "      <th>nombre</th>\n",
       "      <th>population_density</th>\n",
       "      <th>cluster</th>\n",
       "    </tr>\n",
       "  </thead>\n",
       "  <tbody>\n",
       "    <tr>\n",
       "      <th>0</th>\n",
       "      <td>01001</td>\n",
       "      <td>01</td>\n",
       "      <td>001</td>\n",
       "      <td>Aguascalientes</td>\n",
       "      <td>POLYGON ((2489072.503 1115771.584, 2489352.774...</td>\n",
       "      <td>1166.359248</td>\n",
       "      <td>01001</td>\n",
       "      <td>1001</td>\n",
       "      <td>961977</td>\n",
       "      <td>Aguascalientes</td>\n",
       "      <td>824.769043</td>\n",
       "      <td>0</td>\n",
       "    </tr>\n",
       "    <tr>\n",
       "      <th>1</th>\n",
       "      <td>01002</td>\n",
       "      <td>01</td>\n",
       "      <td>002</td>\n",
       "      <td>Asientos</td>\n",
       "      <td>POLYGON ((2494680.261 1141224.505, 2494749.948...</td>\n",
       "      <td>543.374266</td>\n",
       "      <td>01002</td>\n",
       "      <td>1002</td>\n",
       "      <td>50864</td>\n",
       "      <td>Asientos</td>\n",
       "      <td>93.607672</td>\n",
       "      <td>0</td>\n",
       "    </tr>\n",
       "    <tr>\n",
       "      <th>2</th>\n",
       "      <td>01003</td>\n",
       "      <td>01</td>\n",
       "      <td>003</td>\n",
       "      <td>Calvillo</td>\n",
       "      <td>POLYGON ((2429607.454 1120262.254, 2429071.902...</td>\n",
       "      <td>923.357832</td>\n",
       "      <td>01003</td>\n",
       "      <td>1003</td>\n",
       "      <td>60760</td>\n",
       "      <td>Calvillo</td>\n",
       "      <td>65.803308</td>\n",
       "      <td>0</td>\n",
       "    </tr>\n",
       "    <tr>\n",
       "      <th>3</th>\n",
       "      <td>01004</td>\n",
       "      <td>01</td>\n",
       "      <td>004</td>\n",
       "      <td>Cosío</td>\n",
       "      <td>POLYGON ((2470517.824 1155028.588, 2470552.248...</td>\n",
       "      <td>128.383545</td>\n",
       "      <td>01004</td>\n",
       "      <td>1004</td>\n",
       "      <td>16918</td>\n",
       "      <td>Cosio</td>\n",
       "      <td>131.777013</td>\n",
       "      <td>0</td>\n",
       "    </tr>\n",
       "    <tr>\n",
       "      <th>4</th>\n",
       "      <td>01005</td>\n",
       "      <td>01</td>\n",
       "      <td>005</td>\n",
       "      <td>Jesús María</td>\n",
       "      <td>POLYGON ((2465526.729 1114740.466, 2465752.546...</td>\n",
       "      <td>499.895092</td>\n",
       "      <td>01005</td>\n",
       "      <td>1005</td>\n",
       "      <td>130184</td>\n",
       "      <td>Jesus Maria</td>\n",
       "      <td>260.422641</td>\n",
       "      <td>0</td>\n",
       "    </tr>\n",
       "  </tbody>\n",
       "</table>\n",
       "</div>"
      ],
      "text/plain": [
       "  CVEGEO CVE_ENT CVE_MUN          NOMGEO  \\\n",
       "0  01001      01     001  Aguascalientes   \n",
       "1  01002      01     002        Asientos   \n",
       "2  01003      01     003        Calvillo   \n",
       "3  01004      01     004           Cosío   \n",
       "4  01005      01     005     Jesús María   \n",
       "\n",
       "                                            geometry    area_sqkm CVE_MUNI  \\\n",
       "0  POLYGON ((2489072.503 1115771.584, 2489352.774...  1166.359248    01001   \n",
       "1  POLYGON ((2494680.261 1141224.505, 2494749.948...   543.374266    01002   \n",
       "2  POLYGON ((2429607.454 1120262.254, 2429071.902...   923.357832    01003   \n",
       "3  POLYGON ((2470517.824 1155028.588, 2470552.248...   128.383545    01004   \n",
       "4  POLYGON ((2465526.729 1114740.466, 2465752.546...   499.895092    01005   \n",
       "\n",
       "   cve_ent  poblacion          nombre  population_density  cluster  \n",
       "0     1001     961977  Aguascalientes          824.769043        0  \n",
       "1     1002      50864        Asientos           93.607672        0  \n",
       "2     1003      60760        Calvillo           65.803308        0  \n",
       "3     1004      16918           Cosio          131.777013        0  \n",
       "4     1005     130184     Jesus Maria          260.422641        0  "
      ]
     },
     "execution_count": 24,
     "metadata": {},
     "output_type": "execute_result"
    }
   ],
   "source": [
    "df2.head()"
   ]
  },
  {
   "cell_type": "code",
   "execution_count": 25,
   "id": "bf735703-96f6-4726-bdfc-dff5e8ddf337",
   "metadata": {},
   "outputs": [
    {
     "data": {
      "image/png": "[encoded data removed]",
      "text/plain": [
       "<Figure size 1152x792 with 2 Axes>"
      ]
     },
     "metadata": {
      "needs_background": "light"
     },
     "output_type": "display_data"
    }
   ],
   "source": [
    "title = 'Population Density Clusters for Municipalities in Mexico'\n",
    "ax1 = df2.plot(column='cluster', \n",
    "               cmap='OrRd',\n",
    "               legend=True, \n",
    "               legend_kwds={'label': 'Cluster Number', \n",
    "                            'orientation': 'horizontal'},\n",
    "               figsize=(16, 11));\n",
    "ax1.set_title(title, fontsize=15);"
   ]
  },
  {
   "cell_type": "markdown",
   "id": "13eb1129-6db3-42d2-a051-e06b6074ac0b",
   "metadata": {},
   "source": [
    "Plot population data"
   ]
  }
 ],
 "metadata": {
  "kernelspec": {
   "display_name": "Python 3 (ipykernel)",
   "language": "python",
   "name": "python3"
  },
  "language_info": {
   "codemirror_mode": {
    "name": "ipython",
    "version": 3
   },
   "file_extension": ".py",
   "mimetype": "text/x-python",
   "name": "python",
   "nbconvert_exporter": "python",
   "pygments_lexer": "ipython3",
   "version": "3.9.6"
  }
 },
 "nbformat": 4,
 "nbformat_minor": 5
}
