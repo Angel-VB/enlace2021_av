{
 "cells": [
  {
   "cell_type": "markdown",
   "id": "a4b305cc-142a-4f05-ba41-53ea4bb5b1b3",
   "metadata": {},
   "source": [
    "# COVID-19 cases in Mexican States and factors\n",
    "\n",
    "This Notebook downloads Geopandas GeoDataFrames for States (admin1) and Municipalities (admin2) derived from the 2020 Mexican Census: [INEGI](https://www.inegi.org.mx/temas/mg/).\n",
    "\n",
    "For details how these dataframe were created, see the [mexican-boundaries](https://github.com/sbl-sdsc/mexico-boundaries) GitHub project."
   ]
  },
  {
   "cell_type": "code",
   "execution_count": 1,
   "id": "f351c5d3-22c6-4644-a8e5-76aff5b5ca51",
   "metadata": {},
   "outputs": [],
   "source": [
    "from io import BytesIO\n",
    "from urllib.request import urlopen\n",
    "import pandas as pd\n",
    "import geopandas as gpd\n",
    "import matplotlib.pyplot as plt\n",
    "import ipywidgets as widgets\n",
    "import numpy as np\n",
    "%matplotlib inline\n",
    "%reload_ext autoreload\n",
    "%autoreload 2\n",
    "from sklearn.cluster import DBSCAN\n",
    "from sklearn import metrics\n",
    "from sklearn.preprocessing import StandardScaler, RobustScaler, MinMaxScaler"
   ]
  },
  {
   "cell_type": "code",
   "execution_count": 2,
   "id": "9ab7f145-ac0b-499b-9f89-8591f343c05a",
   "metadata": {},
   "outputs": [],
   "source": [
    "pd.options.display.max_rows = None  # display all rows\n",
    "pd.options.display.max_columns = None  # display all columsns"
   ]
  },
  {
   "cell_type": "markdown",
   "id": "583b8ecd-adcc-41a6-a1f9-13ee35eea81d",
   "metadata": {},
   "source": [
    "## Boundaries of Mexican Municipalities"
   ]
  },
  {
   "cell_type": "markdown",
   "id": "44b7bcd8-0320-439b-961f-de0d391b8bfb",
   "metadata": {},
   "source": [
    "Read boundary polygons for Mexican states from shapefile"
   ]
  },
  {
   "cell_type": "code",
   "execution_count": 3,
   "id": "ced43c74-8a25-4d80-933e-e84ecea69c1e",
   "metadata": {},
   "outputs": [],
   "source": [
    "admin1_url = 'https://raw.githubusercontent.com/sbl-sdsc/mexico-boundaries/main/data/mexico_admin1.parquet'"
   ]
  },
  {
   "cell_type": "code",
   "execution_count": 4,
   "id": "bd441820-5603-451e-8800-e4f9432ba22a",
   "metadata": {},
   "outputs": [],
   "source": [
    "resp = urlopen(admin1_url)\n",
    "admin1 = gpd.read_parquet(BytesIO(resp.read()))"
   ]
  },
  {
   "cell_type": "markdown",
   "id": "9e9438fc-38cf-40b2-8be6-8d631aa726e0",
   "metadata": {},
   "source": [
    "Calculate the area of each state (convert area from m^2 to km^2"
   ]
  },
  {
   "cell_type": "code",
   "execution_count": 5,
   "id": "537fbe2e-d6d8-449b-80d1-df1dc6451d25",
   "metadata": {},
   "outputs": [
    {
     "data": {
      "text/plain": [
       "<Projected CRS: PROJCRS[\"MEXICO_ITRF_2008_LCC\",BASEGEOGCRS[\"MEXICO ...>\n",
       "Name: MEXICO_ITRF_2008_LCC\n",
       "Axis Info [cartesian]:\n",
       "- [east]: Easting (metre)\n",
       "- [north]: Northing (metre)\n",
       "Area of Use:\n",
       "- undefined\n",
       "Coordinate Operation:\n",
       "- name: unnamed\n",
       "- method: Lambert Conic Conformal (2SP)\n",
       "Datum: International Terrestrial Reference Frame 2008\n",
       "- Ellipsoid: GRS 1980\n",
       "- Prime Meridian: Greenwich"
      ]
     },
     "execution_count": 5,
     "metadata": {},
     "output_type": "execute_result"
    }
   ],
   "source": [
    "admin1.crs"
   ]
  },
  {
   "cell_type": "code",
   "execution_count": 6,
   "id": "7719a5bd-a0d7-46c4-a549-d706efb327c7",
   "metadata": {},
   "outputs": [],
   "source": [
    "admin1['area_sqkm'] = admin1['geometry'].area/ 10**6"
   ]
  },
  {
   "cell_type": "code",
   "execution_count": 7,
   "id": "6b9949d4-846e-424d-b4b7-1e5dc9f318a2",
   "metadata": {},
   "outputs": [],
   "source": [
    "admin1['CVE_ENT'] = admin1['CVE_ENT']+['000']"
   ]
  },
  {
   "cell_type": "code",
   "execution_count": 8,
   "id": "7dd6ba93-3327-4926-b9f2-3b6b4cf35f95",
   "metadata": {},
   "outputs": [],
   "source": [
    "admin1.rename(columns={\"CVE_ENT\":\"cve_ent\"},\n",
    "                                  inplace=True)"
   ]
  },
  {
   "cell_type": "code",
   "execution_count": 9,
   "id": "fcdfcd4e-506e-499e-9115-44d030621b98",
   "metadata": {},
   "outputs": [
    {
     "data": {
      "text/html": [
       "<div>\n",
       "<style scoped>\n",
       "    .dataframe tbody tr th:only-of-type {\n",
       "        vertical-align: middle;\n",
       "    }\n",
       "\n",
       "    .dataframe tbody tr th {\n",
       "        vertical-align: top;\n",
       "    }\n",
       "\n",
       "    .dataframe thead th {\n",
       "        text-align: right;\n",
       "    }\n",
       "</style>\n",
       "<table border=\"1\" class=\"dataframe\">\n",
       "  <thead>\n",
       "    <tr style=\"text-align: right;\">\n",
       "      <th></th>\n",
       "      <th>CVEGEO</th>\n",
       "      <th>cve_ent</th>\n",
       "      <th>NOMGEO</th>\n",
       "      <th>geometry</th>\n",
       "      <th>area_sqkm</th>\n",
       "    </tr>\n",
       "  </thead>\n",
       "  <tbody>\n",
       "    <tr>\n",
       "      <th>0</th>\n",
       "      <td>01</td>\n",
       "      <td>01000</td>\n",
       "      <td>Aguascalientes</td>\n",
       "      <td>POLYGON ((2470517.824 1155028.588, 2470552.248...</td>\n",
       "      <td>5558.673843</td>\n",
       "    </tr>\n",
       "    <tr>\n",
       "      <th>1</th>\n",
       "      <td>02</td>\n",
       "      <td>02000</td>\n",
       "      <td>Baja California</td>\n",
       "      <td>MULTIPOLYGON (((1493197.166 1849625.247, 14934...</td>\n",
       "      <td>73516.697324</td>\n",
       "    </tr>\n",
       "    <tr>\n",
       "      <th>2</th>\n",
       "      <td>03</td>\n",
       "      <td>03000</td>\n",
       "      <td>Baja California Sur</td>\n",
       "      <td>MULTIPOLYGON (((1694656.344 1227647.637, 16946...</td>\n",
       "      <td>73970.687326</td>\n",
       "    </tr>\n",
       "    <tr>\n",
       "      <th>3</th>\n",
       "      <td>04</td>\n",
       "      <td>04000</td>\n",
       "      <td>Campeche</td>\n",
       "      <td>MULTIPOLYGON (((3544897.199 946994.621, 354491...</td>\n",
       "      <td>57254.511636</td>\n",
       "    </tr>\n",
       "    <tr>\n",
       "      <th>4</th>\n",
       "      <td>05</td>\n",
       "      <td>05000</td>\n",
       "      <td>Coahuila de Zaragoza</td>\n",
       "      <td>POLYGON ((2469954.193 1978522.993, 2469982.807...</td>\n",
       "      <td>150671.222986</td>\n",
       "    </tr>\n",
       "  </tbody>\n",
       "</table>\n",
       "</div>"
      ],
      "text/plain": [
       "  CVEGEO cve_ent                NOMGEO  \\\n",
       "0     01   01000        Aguascalientes   \n",
       "1     02   02000       Baja California   \n",
       "2     03   03000   Baja California Sur   \n",
       "3     04   04000              Campeche   \n",
       "4     05   05000  Coahuila de Zaragoza   \n",
       "\n",
       "                                            geometry      area_sqkm  \n",
       "0  POLYGON ((2470517.824 1155028.588, 2470552.248...    5558.673843  \n",
       "1  MULTIPOLYGON (((1493197.166 1849625.247, 14934...   73516.697324  \n",
       "2  MULTIPOLYGON (((1694656.344 1227647.637, 16946...   73970.687326  \n",
       "3  MULTIPOLYGON (((3544897.199 946994.621, 354491...   57254.511636  \n",
       "4  POLYGON ((2469954.193 1978522.993, 2469982.807...  150671.222986  "
      ]
     },
     "execution_count": 9,
     "metadata": {},
     "output_type": "execute_result"
    }
   ],
   "source": [
    "admin1.head()"
   ]
  },
  {
   "cell_type": "code",
   "execution_count": 10,
   "id": "9b910d60-db7e-493d-b449-e9823291a40a",
   "metadata": {},
   "outputs": [
    {
     "data": {
      "image/png": "[encoded data removed]",
      "text/plain": [
       "<Figure size 432x288 with 1 Axes>"
      ]
     },
     "metadata": {
      "needs_background": "light"
     },
     "output_type": "display_data"
    }
   ],
   "source": [
    "admin1.plot();"
   ]
  },
  {
   "cell_type": "markdown",
   "id": "87283d90-e32e-416d-baed-540793090ac2",
   "metadata": {},
   "source": [
    "## Map of Population by State"
   ]
  },
  {
   "cell_type": "markdown",
   "id": "61ee7d39-0ba2-4377-aeea-e99daf2866b8",
   "metadata": {},
   "source": [
    "Get population from COVID-19 data files"
   ]
  },
  {
   "cell_type": "code",
   "execution_count": 11,
   "id": "036ac035-1019-46a6-a01e-c41d4d522785",
   "metadata": {},
   "outputs": [
    {
     "data": {
      "text/html": [
       "<div>\n",
       "<style scoped>\n",
       "    .dataframe tbody tr th:only-of-type {\n",
       "        vertical-align: middle;\n",
       "    }\n",
       "\n",
       "    .dataframe tbody tr th {\n",
       "        vertical-align: top;\n",
       "    }\n",
       "\n",
       "    .dataframe thead th {\n",
       "        text-align: right;\n",
       "    }\n",
       "</style>\n",
       "<table border=\"1\" class=\"dataframe\">\n",
       "  <thead>\n",
       "    <tr style=\"text-align: right;\">\n",
       "      <th></th>\n",
       "      <th>cve_ent</th>\n",
       "      <th>state</th>\n",
       "      <th>population</th>\n",
       "      <th>total_cases</th>\n",
       "      <th>cases_rates</th>\n",
       "      <th>total_cases_last_60_days</th>\n",
       "      <th>cases_rate_last_60_days</th>\n",
       "      <th>total_deaths</th>\n",
       "      <th>deaths_rates</th>\n",
       "      <th>total_deaths_last_60_days</th>\n",
       "      <th>deaths_rate_last_60_days</th>\n",
       "      <th>pct_obesity_up20years</th>\n",
       "      <th>pct_hypertension_up20years</th>\n",
       "      <th>pct_diabetes_up20years</th>\n",
       "    </tr>\n",
       "  </thead>\n",
       "  <tbody>\n",
       "    <tr>\n",
       "      <th>0</th>\n",
       "      <td>1000</td>\n",
       "      <td>AGUASCALIENTES</td>\n",
       "      <td>1434635</td>\n",
       "      <td>26695</td>\n",
       "      <td>1860.752038</td>\n",
       "      <td>828</td>\n",
       "      <td>57.715029</td>\n",
       "      <td>2456</td>\n",
       "      <td>171.193370</td>\n",
       "      <td>88</td>\n",
       "      <td>6.133964</td>\n",
       "      <td>32.593387</td>\n",
       "      <td>14.700566</td>\n",
       "      <td>7.556478</td>\n",
       "    </tr>\n",
       "    <tr>\n",
       "      <th>1</th>\n",
       "      <td>2000</td>\n",
       "      <td>BAJA CALIFORNIA</td>\n",
       "      <td>3634868</td>\n",
       "      <td>50286</td>\n",
       "      <td>1383.434006</td>\n",
       "      <td>2403</td>\n",
       "      <td>66.109691</td>\n",
       "      <td>8648</td>\n",
       "      <td>237.917856</td>\n",
       "      <td>177</td>\n",
       "      <td>4.869503</td>\n",
       "      <td>48.366995</td>\n",
       "      <td>21.007712</td>\n",
       "      <td>9.974848</td>\n",
       "    </tr>\n",
       "    <tr>\n",
       "      <th>2</th>\n",
       "      <td>3000</td>\n",
       "      <td>BAJA CALIFORNIA SUR</td>\n",
       "      <td>804708</td>\n",
       "      <td>36317</td>\n",
       "      <td>4513.065609</td>\n",
       "      <td>6423</td>\n",
       "      <td>798.177724</td>\n",
       "      <td>1486</td>\n",
       "      <td>184.663257</td>\n",
       "      <td>118</td>\n",
       "      <td>14.663704</td>\n",
       "      <td>42.849118</td>\n",
       "      <td>16.536911</td>\n",
       "      <td>8.369750</td>\n",
       "    </tr>\n",
       "    <tr>\n",
       "      <th>3</th>\n",
       "      <td>4000</td>\n",
       "      <td>CAMPECHE</td>\n",
       "      <td>1000617</td>\n",
       "      <td>11099</td>\n",
       "      <td>1109.215614</td>\n",
       "      <td>1666</td>\n",
       "      <td>166.497271</td>\n",
       "      <td>1266</td>\n",
       "      <td>126.521936</td>\n",
       "      <td>58</td>\n",
       "      <td>5.796424</td>\n",
       "      <td>44.903811</td>\n",
       "      <td>26.108154</td>\n",
       "      <td>14.007917</td>\n",
       "    </tr>\n",
       "    <tr>\n",
       "      <th>4</th>\n",
       "      <td>5000</td>\n",
       "      <td>COAHUILA</td>\n",
       "      <td>3218720</td>\n",
       "      <td>69397</td>\n",
       "      <td>2156.043396</td>\n",
       "      <td>1391</td>\n",
       "      <td>43.215937</td>\n",
       "      <td>6376</td>\n",
       "      <td>198.091167</td>\n",
       "      <td>70</td>\n",
       "      <td>2.174778</td>\n",
       "      <td>37.606715</td>\n",
       "      <td>22.397551</td>\n",
       "      <td>12.343806</td>\n",
       "    </tr>\n",
       "  </tbody>\n",
       "</table>\n",
       "</div>"
      ],
      "text/plain": [
       "   cve_ent                state  population  total_cases  cases_rates  \\\n",
       "0     1000       AGUASCALIENTES     1434635        26695  1860.752038   \n",
       "1     2000      BAJA CALIFORNIA     3634868        50286  1383.434006   \n",
       "2     3000  BAJA CALIFORNIA SUR      804708        36317  4513.065609   \n",
       "3     4000             CAMPECHE     1000617        11099  1109.215614   \n",
       "4     5000             COAHUILA     3218720        69397  2156.043396   \n",
       "\n",
       "   total_cases_last_60_days  cases_rate_last_60_days  total_deaths  \\\n",
       "0                       828                57.715029          2456   \n",
       "1                      2403                66.109691          8648   \n",
       "2                      6423               798.177724          1486   \n",
       "3                      1666               166.497271          1266   \n",
       "4                      1391                43.215937          6376   \n",
       "\n",
       "   deaths_rates  total_deaths_last_60_days  deaths_rate_last_60_days  \\\n",
       "0    171.193370                         88                  6.133964   \n",
       "1    237.917856                        177                  4.869503   \n",
       "2    184.663257                        118                 14.663704   \n",
       "3    126.521936                         58                  5.796424   \n",
       "4    198.091167                         70                  2.174778   \n",
       "\n",
       "   pct_obesity_up20years  pct_hypertension_up20years  pct_diabetes_up20years  \n",
       "0              32.593387                   14.700566                7.556478  \n",
       "1              48.366995                   21.007712                9.974848  \n",
       "2              42.849118                   16.536911                8.369750  \n",
       "3              44.903811                   26.108154               14.007917  \n",
       "4              37.606715                   22.397551               12.343806  "
      ]
     },
     "execution_count": 11,
     "metadata": {},
     "output_type": "execute_result"
    }
   ],
   "source": [
    "All_admin1 = pd.read_csv('../Data/ComorbilitiesStates.csv')\n",
    "All_admin1.head()"
   ]
  },
  {
   "cell_type": "code",
   "execution_count": 12,
   "id": "709a5361-3b03-4d9f-93c8-42fd67849ea7",
   "metadata": {},
   "outputs": [],
   "source": [
    "totalcases_admin1 =All_admin1[[\"cve_ent\", \"state\", \"total_cases\"]]"
   ]
  },
  {
   "cell_type": "code",
   "execution_count": 13,
   "id": "4d953b75-edb4-48ec-98a9-c476078fd5c3",
   "metadata": {},
   "outputs": [
    {
     "data": {
      "text/html": [
       "<div>\n",
       "<style scoped>\n",
       "    .dataframe tbody tr th:only-of-type {\n",
       "        vertical-align: middle;\n",
       "    }\n",
       "\n",
       "    .dataframe tbody tr th {\n",
       "        vertical-align: top;\n",
       "    }\n",
       "\n",
       "    .dataframe thead th {\n",
       "        text-align: right;\n",
       "    }\n",
       "</style>\n",
       "<table border=\"1\" class=\"dataframe\">\n",
       "  <thead>\n",
       "    <tr style=\"text-align: right;\">\n",
       "      <th></th>\n",
       "      <th>cve_ent</th>\n",
       "      <th>state</th>\n",
       "      <th>total_cases</th>\n",
       "    </tr>\n",
       "  </thead>\n",
       "  <tbody>\n",
       "    <tr>\n",
       "      <th>0</th>\n",
       "      <td>1000</td>\n",
       "      <td>AGUASCALIENTES</td>\n",
       "      <td>26695</td>\n",
       "    </tr>\n",
       "    <tr>\n",
       "      <th>1</th>\n",
       "      <td>2000</td>\n",
       "      <td>BAJA CALIFORNIA</td>\n",
       "      <td>50286</td>\n",
       "    </tr>\n",
       "    <tr>\n",
       "      <th>2</th>\n",
       "      <td>3000</td>\n",
       "      <td>BAJA CALIFORNIA SUR</td>\n",
       "      <td>36317</td>\n",
       "    </tr>\n",
       "    <tr>\n",
       "      <th>3</th>\n",
       "      <td>4000</td>\n",
       "      <td>CAMPECHE</td>\n",
       "      <td>11099</td>\n",
       "    </tr>\n",
       "    <tr>\n",
       "      <th>4</th>\n",
       "      <td>5000</td>\n",
       "      <td>COAHUILA</td>\n",
       "      <td>69397</td>\n",
       "    </tr>\n",
       "  </tbody>\n",
       "</table>\n",
       "</div>"
      ],
      "text/plain": [
       "   cve_ent                state  total_cases\n",
       "0     1000       AGUASCALIENTES        26695\n",
       "1     2000      BAJA CALIFORNIA        50286\n",
       "2     3000  BAJA CALIFORNIA SUR        36317\n",
       "3     4000             CAMPECHE        11099\n",
       "4     5000             COAHUILA        69397"
      ]
     },
     "execution_count": 13,
     "metadata": {},
     "output_type": "execute_result"
    }
   ],
   "source": [
    "totalcases_admin1.head()"
   ]
  },
  {
   "cell_type": "markdown",
   "id": "a868954e-4476-4560-8eb8-ccb742d85755",
   "metadata": {},
   "source": [
    "Add 5-digit municipality code column (example: convert 5035 -> 05035)"
   ]
  },
  {
   "cell_type": "code",
   "execution_count": 14,
   "id": "be10e8cb-f9b2-4d83-90ce-60a498c52f4b",
   "metadata": {},
   "outputs": [
    {
     "name": "stderr",
     "output_type": "stream",
     "text": [
      "<ipython-input-14-00c04cd03364>:1: SettingWithCopyWarning: \n",
      "A value is trying to be set on a copy of a slice from a DataFrame.\n",
      "Try using .loc[row_indexer,col_indexer] = value instead\n",
      "\n",
      "See the caveats in the documentation: https://pandas.pydata.org/pandas-docs/stable/user_guide/indexing.html#returning-a-view-versus-a-copy\n",
      "  totalcases_admin1['cve_ent'] = totalcases_admin1['cve_ent'].apply(lambda i: f'{i:05d}')\n"
     ]
    }
   ],
   "source": [
    "totalcases_admin1['cve_ent'] = totalcases_admin1['cve_ent'].apply(lambda i: f'{i:05d}')"
   ]
  },
  {
   "cell_type": "code",
   "execution_count": 15,
   "id": "905cd9ec-8ef0-46ac-818f-7931f1c57f32",
   "metadata": {},
   "outputs": [
    {
     "data": {
      "text/html": [
       "<div>\n",
       "<style scoped>\n",
       "    .dataframe tbody tr th:only-of-type {\n",
       "        vertical-align: middle;\n",
       "    }\n",
       "\n",
       "    .dataframe tbody tr th {\n",
       "        vertical-align: top;\n",
       "    }\n",
       "\n",
       "    .dataframe thead th {\n",
       "        text-align: right;\n",
       "    }\n",
       "</style>\n",
       "<table border=\"1\" class=\"dataframe\">\n",
       "  <thead>\n",
       "    <tr style=\"text-align: right;\">\n",
       "      <th></th>\n",
       "      <th>cve_ent</th>\n",
       "      <th>state</th>\n",
       "      <th>total_cases</th>\n",
       "    </tr>\n",
       "  </thead>\n",
       "  <tbody>\n",
       "    <tr>\n",
       "      <th>0</th>\n",
       "      <td>01000</td>\n",
       "      <td>AGUASCALIENTES</td>\n",
       "      <td>26695</td>\n",
       "    </tr>\n",
       "    <tr>\n",
       "      <th>1</th>\n",
       "      <td>02000</td>\n",
       "      <td>BAJA CALIFORNIA</td>\n",
       "      <td>50286</td>\n",
       "    </tr>\n",
       "    <tr>\n",
       "      <th>2</th>\n",
       "      <td>03000</td>\n",
       "      <td>BAJA CALIFORNIA SUR</td>\n",
       "      <td>36317</td>\n",
       "    </tr>\n",
       "    <tr>\n",
       "      <th>3</th>\n",
       "      <td>04000</td>\n",
       "      <td>CAMPECHE</td>\n",
       "      <td>11099</td>\n",
       "    </tr>\n",
       "    <tr>\n",
       "      <th>4</th>\n",
       "      <td>05000</td>\n",
       "      <td>COAHUILA</td>\n",
       "      <td>69397</td>\n",
       "    </tr>\n",
       "  </tbody>\n",
       "</table>\n",
       "</div>"
      ],
      "text/plain": [
       "  cve_ent                state  total_cases\n",
       "0   01000       AGUASCALIENTES        26695\n",
       "1   02000      BAJA CALIFORNIA        50286\n",
       "2   03000  BAJA CALIFORNIA SUR        36317\n",
       "3   04000             CAMPECHE        11099\n",
       "4   05000             COAHUILA        69397"
      ]
     },
     "execution_count": 15,
     "metadata": {},
     "output_type": "execute_result"
    }
   ],
   "source": [
    "totalcases_admin1.head()"
   ]
  },
  {
   "cell_type": "markdown",
   "id": "5f1bf65e-b3d5-4833-b1eb-d26d945b0b9c",
   "metadata": {},
   "source": [
    "Merge the geo dataframe with the population dataframe using the common CVE_MUNI column"
   ]
  },
  {
   "cell_type": "code",
   "execution_count": 16,
   "id": "7afd2eef-3849-4adb-aa8a-c136749a572b",
   "metadata": {},
   "outputs": [],
   "source": [
    "df_admin1 = admin1.merge(totalcases_admin1, on='cve_ent')"
   ]
  },
  {
   "cell_type": "code",
   "execution_count": 17,
   "id": "e41cfcd3-6100-4507-92a7-885151414d68",
   "metadata": {},
   "outputs": [
    {
     "data": {
      "text/html": [
       "<div>\n",
       "<style scoped>\n",
       "    .dataframe tbody tr th:only-of-type {\n",
       "        vertical-align: middle;\n",
       "    }\n",
       "\n",
       "    .dataframe tbody tr th {\n",
       "        vertical-align: top;\n",
       "    }\n",
       "\n",
       "    .dataframe thead th {\n",
       "        text-align: right;\n",
       "    }\n",
       "</style>\n",
       "<table border=\"1\" class=\"dataframe\">\n",
       "  <thead>\n",
       "    <tr style=\"text-align: right;\">\n",
       "      <th></th>\n",
       "      <th>CVEGEO</th>\n",
       "      <th>cve_ent</th>\n",
       "      <th>NOMGEO</th>\n",
       "      <th>geometry</th>\n",
       "      <th>area_sqkm</th>\n",
       "      <th>state</th>\n",
       "      <th>total_cases</th>\n",
       "    </tr>\n",
       "  </thead>\n",
       "  <tbody>\n",
       "    <tr>\n",
       "      <th>0</th>\n",
       "      <td>01</td>\n",
       "      <td>01000</td>\n",
       "      <td>Aguascalientes</td>\n",
       "      <td>POLYGON ((2470517.824 1155028.588, 2470552.248...</td>\n",
       "      <td>5558.673843</td>\n",
       "      <td>AGUASCALIENTES</td>\n",
       "      <td>26695</td>\n",
       "    </tr>\n",
       "    <tr>\n",
       "      <th>1</th>\n",
       "      <td>02</td>\n",
       "      <td>02000</td>\n",
       "      <td>Baja California</td>\n",
       "      <td>MULTIPOLYGON (((1493197.166 1849625.247, 14934...</td>\n",
       "      <td>73516.697324</td>\n",
       "      <td>BAJA CALIFORNIA</td>\n",
       "      <td>50286</td>\n",
       "    </tr>\n",
       "    <tr>\n",
       "      <th>2</th>\n",
       "      <td>03</td>\n",
       "      <td>03000</td>\n",
       "      <td>Baja California Sur</td>\n",
       "      <td>MULTIPOLYGON (((1694656.344 1227647.637, 16946...</td>\n",
       "      <td>73970.687326</td>\n",
       "      <td>BAJA CALIFORNIA SUR</td>\n",
       "      <td>36317</td>\n",
       "    </tr>\n",
       "    <tr>\n",
       "      <th>3</th>\n",
       "      <td>04</td>\n",
       "      <td>04000</td>\n",
       "      <td>Campeche</td>\n",
       "      <td>MULTIPOLYGON (((3544897.199 946994.621, 354491...</td>\n",
       "      <td>57254.511636</td>\n",
       "      <td>CAMPECHE</td>\n",
       "      <td>11099</td>\n",
       "    </tr>\n",
       "    <tr>\n",
       "      <th>4</th>\n",
       "      <td>05</td>\n",
       "      <td>05000</td>\n",
       "      <td>Coahuila de Zaragoza</td>\n",
       "      <td>POLYGON ((2469954.193 1978522.993, 2469982.807...</td>\n",
       "      <td>150671.222986</td>\n",
       "      <td>COAHUILA</td>\n",
       "      <td>69397</td>\n",
       "    </tr>\n",
       "  </tbody>\n",
       "</table>\n",
       "</div>"
      ],
      "text/plain": [
       "  CVEGEO cve_ent                NOMGEO  \\\n",
       "0     01   01000        Aguascalientes   \n",
       "1     02   02000       Baja California   \n",
       "2     03   03000   Baja California Sur   \n",
       "3     04   04000              Campeche   \n",
       "4     05   05000  Coahuila de Zaragoza   \n",
       "\n",
       "                                            geometry      area_sqkm  \\\n",
       "0  POLYGON ((2470517.824 1155028.588, 2470552.248...    5558.673843   \n",
       "1  MULTIPOLYGON (((1493197.166 1849625.247, 14934...   73516.697324   \n",
       "2  MULTIPOLYGON (((1694656.344 1227647.637, 16946...   73970.687326   \n",
       "3  MULTIPOLYGON (((3544897.199 946994.621, 354491...   57254.511636   \n",
       "4  POLYGON ((2469954.193 1978522.993, 2469982.807...  150671.222986   \n",
       "\n",
       "                 state  total_cases  \n",
       "0       AGUASCALIENTES        26695  \n",
       "1      BAJA CALIFORNIA        50286  \n",
       "2  BAJA CALIFORNIA SUR        36317  \n",
       "3             CAMPECHE        11099  \n",
       "4             COAHUILA        69397  "
      ]
     },
     "execution_count": 17,
     "metadata": {},
     "output_type": "execute_result"
    }
   ],
   "source": [
    "df_admin1.head()"
   ]
  },
  {
   "cell_type": "markdown",
   "id": "6d3c8136-27ca-4881-b43c-27517ea2232f",
   "metadata": {},
   "source": [
    "### Calculate Total COVID-19 cases by State"
   ]
  },
  {
   "cell_type": "code",
   "execution_count": 18,
   "id": "f4266927-02a3-437a-ac22-4f74ed9eafbc",
   "metadata": {},
   "outputs": [],
   "source": [
    "#df_admin2['population_density'] = df_admin2['poblacion'] / df_admin2['area_sqkm']"
   ]
  },
  {
   "cell_type": "code",
   "execution_count": 19,
   "id": "9c5d2d5f-5fd8-4b02-ae49-6a1e39fb1a91",
   "metadata": {},
   "outputs": [],
   "source": [
    "a2 = df_admin1[['total_cases']]"
   ]
  },
  {
   "cell_type": "code",
   "execution_count": 20,
   "id": "9285e88f-40ef-41d0-a659-d0d60d237762",
   "metadata": {},
   "outputs": [
    {
     "data": {
      "text/html": [
       "<div>\n",
       "<style scoped>\n",
       "    .dataframe tbody tr th:only-of-type {\n",
       "        vertical-align: middle;\n",
       "    }\n",
       "\n",
       "    .dataframe tbody tr th {\n",
       "        vertical-align: top;\n",
       "    }\n",
       "\n",
       "    .dataframe thead th {\n",
       "        text-align: right;\n",
       "    }\n",
       "</style>\n",
       "<table border=\"1\" class=\"dataframe\">\n",
       "  <thead>\n",
       "    <tr style=\"text-align: right;\">\n",
       "      <th></th>\n",
       "      <th>0</th>\n",
       "    </tr>\n",
       "  </thead>\n",
       "  <tbody>\n",
       "    <tr>\n",
       "      <th>0</th>\n",
       "      <td>-0.586630</td>\n",
       "    </tr>\n",
       "    <tr>\n",
       "      <th>1</th>\n",
       "      <td>0.047541</td>\n",
       "    </tr>\n",
       "    <tr>\n",
       "      <th>2</th>\n",
       "      <td>-0.327973</td>\n",
       "    </tr>\n",
       "    <tr>\n",
       "      <th>3</th>\n",
       "      <td>-1.005880</td>\n",
       "    </tr>\n",
       "    <tr>\n",
       "      <th>4</th>\n",
       "      <td>0.561281</td>\n",
       "    </tr>\n",
       "    <tr>\n",
       "      <th>5</th>\n",
       "      <td>-0.976068</td>\n",
       "    </tr>\n",
       "    <tr>\n",
       "      <th>6</th>\n",
       "      <td>-0.979966</td>\n",
       "    </tr>\n",
       "    <tr>\n",
       "      <th>7</th>\n",
       "      <td>0.241090</td>\n",
       "    </tr>\n",
       "    <tr>\n",
       "      <th>8</th>\n",
       "      <td>16.805180</td>\n",
       "    </tr>\n",
       "    <tr>\n",
       "      <th>9</th>\n",
       "      <td>-0.374451</td>\n",
       "    </tr>\n",
       "  </tbody>\n",
       "</table>\n",
       "</div>"
      ],
      "text/plain": [
       "           0\n",
       "0  -0.586630\n",
       "1   0.047541\n",
       "2  -0.327973\n",
       "3  -1.005880\n",
       "4   0.561281\n",
       "5  -0.976068\n",
       "6  -0.979966\n",
       "7   0.241090\n",
       "8  16.805180\n",
       "9  -0.374451"
      ]
     },
     "execution_count": 20,
     "metadata": {},
     "output_type": "execute_result"
    }
   ],
   "source": [
    "#std_scaler = StandardScaler()\n",
    "std_scaler = RobustScaler()\n",
    "#std_scaler = MinMaxScaler()\n",
    "std_scaler\n",
    "# fit and transform the data\n",
    "X = pd.DataFrame(std_scaler.fit_transform(a2))\n",
    "\n",
    "X.head(10)"
   ]
  },
  {
   "cell_type": "code",
   "execution_count": 21,
   "id": "aca65113-fced-48d1-8bd9-74f2aa992ef2",
   "metadata": {},
   "outputs": [
    {
     "name": "stdout",
     "output_type": "stream",
     "text": [
      "Estimated number of clusters: 1\n",
      "Estimated number of noise points: 5\n",
      "Silhouette Coefficient: 0.689\n"
     ]
    }
   ],
   "source": [
    "# Compute DBSCAN\n",
    "db = DBSCAN(eps=0.25, min_samples=5).fit(X)\n",
    "core_samples_mask = np.zeros_like(db.labels_, dtype=bool)\n",
    "core_samples_mask[db.core_sample_indices_] = True\n",
    "labels = db.labels_\n",
    "#with np.printoptions(threshold=np.inf):\n",
    "#     print(labels)\n",
    "# Number of clusters in labels, ignoring noise if present.\n",
    "n_clusters_ = len(set(labels)) - (1 if -1 in labels else 0)\n",
    "n_noise_ = list(labels).count(-1)\n",
    "\n",
    "print('Estimated number of clusters: %d' % n_clusters_)\n",
    "print('Estimated number of noise points: %d' % n_noise_)\n",
    "print(\"Silhouette Coefficient: %0.3f\" % metrics.silhouette_score(X, labels))"
   ]
  },
  {
   "cell_type": "code",
   "execution_count": 22,
   "id": "e557813d-04d4-4ed6-bf19-91916fb73e06",
   "metadata": {},
   "outputs": [],
   "source": [
    "df_labels = pd.DataFrame(labels, columns=['cluster'])"
   ]
  },
  {
   "cell_type": "code",
   "execution_count": 23,
   "id": "328f83ca-25cc-47f9-ba9f-03629c8fc0bb",
   "metadata": {},
   "outputs": [],
   "source": [
    "df2 = pd.concat([df_admin1, df_labels], axis=1)"
   ]
  },
  {
   "cell_type": "code",
   "execution_count": 24,
   "id": "b1438c19-e0d6-4811-8f4c-a380e6cebecf",
   "metadata": {},
   "outputs": [
    {
     "data": {
      "text/html": [
       "<div>\n",
       "<style scoped>\n",
       "    .dataframe tbody tr th:only-of-type {\n",
       "        vertical-align: middle;\n",
       "    }\n",
       "\n",
       "    .dataframe tbody tr th {\n",
       "        vertical-align: top;\n",
       "    }\n",
       "\n",
       "    .dataframe thead th {\n",
       "        text-align: right;\n",
       "    }\n",
       "</style>\n",
       "<table border=\"1\" class=\"dataframe\">\n",
       "  <thead>\n",
       "    <tr style=\"text-align: right;\">\n",
       "      <th></th>\n",
       "      <th>CVEGEO</th>\n",
       "      <th>cve_ent</th>\n",
       "      <th>NOMGEO</th>\n",
       "      <th>geometry</th>\n",
       "      <th>area_sqkm</th>\n",
       "      <th>state</th>\n",
       "      <th>total_cases</th>\n",
       "      <th>cluster</th>\n",
       "    </tr>\n",
       "  </thead>\n",
       "  <tbody>\n",
       "    <tr>\n",
       "      <th>0</th>\n",
       "      <td>01</td>\n",
       "      <td>01000</td>\n",
       "      <td>Aguascalientes</td>\n",
       "      <td>POLYGON ((2470517.824 1155028.588, 2470552.248...</td>\n",
       "      <td>5558.673843</td>\n",
       "      <td>AGUASCALIENTES</td>\n",
       "      <td>26695</td>\n",
       "      <td>0</td>\n",
       "    </tr>\n",
       "    <tr>\n",
       "      <th>1</th>\n",
       "      <td>02</td>\n",
       "      <td>02000</td>\n",
       "      <td>Baja California</td>\n",
       "      <td>MULTIPOLYGON (((1493197.166 1849625.247, 14934...</td>\n",
       "      <td>73516.697324</td>\n",
       "      <td>BAJA CALIFORNIA</td>\n",
       "      <td>50286</td>\n",
       "      <td>0</td>\n",
       "    </tr>\n",
       "    <tr>\n",
       "      <th>2</th>\n",
       "      <td>03</td>\n",
       "      <td>03000</td>\n",
       "      <td>Baja California Sur</td>\n",
       "      <td>MULTIPOLYGON (((1694656.344 1227647.637, 16946...</td>\n",
       "      <td>73970.687326</td>\n",
       "      <td>BAJA CALIFORNIA SUR</td>\n",
       "      <td>36317</td>\n",
       "      <td>0</td>\n",
       "    </tr>\n",
       "    <tr>\n",
       "      <th>3</th>\n",
       "      <td>04</td>\n",
       "      <td>04000</td>\n",
       "      <td>Campeche</td>\n",
       "      <td>MULTIPOLYGON (((3544897.199 946994.621, 354491...</td>\n",
       "      <td>57254.511636</td>\n",
       "      <td>CAMPECHE</td>\n",
       "      <td>11099</td>\n",
       "      <td>0</td>\n",
       "    </tr>\n",
       "    <tr>\n",
       "      <th>4</th>\n",
       "      <td>05</td>\n",
       "      <td>05000</td>\n",
       "      <td>Coahuila de Zaragoza</td>\n",
       "      <td>POLYGON ((2469954.193 1978522.993, 2469982.807...</td>\n",
       "      <td>150671.222986</td>\n",
       "      <td>COAHUILA</td>\n",
       "      <td>69397</td>\n",
       "      <td>0</td>\n",
       "    </tr>\n",
       "  </tbody>\n",
       "</table>\n",
       "</div>"
      ],
      "text/plain": [
       "  CVEGEO cve_ent                NOMGEO  \\\n",
       "0     01   01000        Aguascalientes   \n",
       "1     02   02000       Baja California   \n",
       "2     03   03000   Baja California Sur   \n",
       "3     04   04000              Campeche   \n",
       "4     05   05000  Coahuila de Zaragoza   \n",
       "\n",
       "                                            geometry      area_sqkm  \\\n",
       "0  POLYGON ((2470517.824 1155028.588, 2470552.248...    5558.673843   \n",
       "1  MULTIPOLYGON (((1493197.166 1849625.247, 14934...   73516.697324   \n",
       "2  MULTIPOLYGON (((1694656.344 1227647.637, 16946...   73970.687326   \n",
       "3  MULTIPOLYGON (((3544897.199 946994.621, 354491...   57254.511636   \n",
       "4  POLYGON ((2469954.193 1978522.993, 2469982.807...  150671.222986   \n",
       "\n",
       "                 state  total_cases  cluster  \n",
       "0       AGUASCALIENTES        26695        0  \n",
       "1      BAJA CALIFORNIA        50286        0  \n",
       "2  BAJA CALIFORNIA SUR        36317        0  \n",
       "3             CAMPECHE        11099        0  \n",
       "4             COAHUILA        69397        0  "
      ]
     },
     "execution_count": 24,
     "metadata": {},
     "output_type": "execute_result"
    }
   ],
   "source": [
    "df2.head()"
   ]
  },
  {
   "cell_type": "code",
   "execution_count": 25,
   "id": "bf735703-96f6-4726-bdfc-dff5e8ddf337",
   "metadata": {},
   "outputs": [
    {
     "data": {
      "image/png": "[encoded data removed]",
      "text/plain": [
       "<Figure size 1152x792 with 2 Axes>"
      ]
     },
     "metadata": {
      "needs_background": "light"
     },
     "output_type": "display_data"
    }
   ],
   "source": [
    "title = 'Total COVID-19 cases Clusters for States in Mexico'\n",
    "ax1 = df2.plot(column='cluster', \n",
    "#               cmap='OrRd',\n",
    "# color maps: https://matplotlib.org/stable/tutorials/colors/colormaps.html\n",
    "               cmap='Set1',\n",
    "               legend=True, \n",
    "               legend_kwds={'label': 'Cluster Number', \n",
    "                            'orientation': 'horizontal'},\n",
    "               figsize=(16, 11));\n",
    "ax1.set_title(title, fontsize=15);"
   ]
  },
  {
   "cell_type": "code",
   "execution_count": 26,
   "id": "9135634a-7c99-4602-9093-a22cce59e5cc",
   "metadata": {},
   "outputs": [],
   "source": [
    "# try Plotly with KDE density plot\n",
    "# bubble maps (see Ebola example with time series):\n",
    "# https://plotly.com/python/bubble-maps/"
   ]
  },
  {
   "cell_type": "markdown",
   "id": "13eb1129-6db3-42d2-a051-e06b6074ac0b",
   "metadata": {},
   "source": [
    "Plot population data"
   ]
  },
  {
   "cell_type": "markdown",
   "id": "3fed144e-c676-4823-ad1c-c9125370eed9",
   "metadata": {},
   "source": [
    "### Calculate rate of cases by State"
   ]
  },
  {
   "cell_type": "code",
   "execution_count": 27,
   "id": "790cb36d-c656-4a1c-a83c-2e62d752951a",
   "metadata": {},
   "outputs": [],
   "source": [
    "rcases_admin1 =All_admin1[[\"cve_ent\", \"state\", \"cases_rates\"]]"
   ]
  },
  {
   "cell_type": "code",
   "execution_count": 28,
   "id": "ddb89a59-0690-4f09-90ea-6d1d9108a73e",
   "metadata": {},
   "outputs": [
    {
     "name": "stderr",
     "output_type": "stream",
     "text": [
      "<ipython-input-28-228958907396>:1: SettingWithCopyWarning: \n",
      "A value is trying to be set on a copy of a slice from a DataFrame.\n",
      "Try using .loc[row_indexer,col_indexer] = value instead\n",
      "\n",
      "See the caveats in the documentation: https://pandas.pydata.org/pandas-docs/stable/user_guide/indexing.html#returning-a-view-versus-a-copy\n",
      "  rcases_admin1['cve_ent'] = rcases_admin1['cve_ent'].apply(lambda i: f'{i:05d}')\n"
     ]
    }
   ],
   "source": [
    "rcases_admin1['cve_ent'] = rcases_admin1['cve_ent'].apply(lambda i: f'{i:05d}')"
   ]
  },
  {
   "cell_type": "code",
   "execution_count": 29,
   "id": "b0b393ff-2f7d-4913-9f77-397100b83844",
   "metadata": {},
   "outputs": [],
   "source": [
    "dfrc_admin1 = admin1.merge(rcases_admin1, on='cve_ent')"
   ]
  },
  {
   "cell_type": "code",
   "execution_count": 30,
   "id": "8f4d802b-7f87-49e0-ba8b-2607a52be463",
   "metadata": {},
   "outputs": [],
   "source": [
    "a2 = dfrc_admin1[['cases_rates']]"
   ]
  },
  {
   "cell_type": "code",
   "execution_count": 31,
   "id": "fc5d8115-16e4-46be-9b3e-95c62fd09365",
   "metadata": {},
   "outputs": [
    {
     "data": {
      "text/html": [
       "<div>\n",
       "<style scoped>\n",
       "    .dataframe tbody tr th:only-of-type {\n",
       "        vertical-align: middle;\n",
       "    }\n",
       "\n",
       "    .dataframe tbody tr th {\n",
       "        vertical-align: top;\n",
       "    }\n",
       "\n",
       "    .dataframe thead th {\n",
       "        text-align: right;\n",
       "    }\n",
       "</style>\n",
       "<table border=\"1\" class=\"dataframe\">\n",
       "  <thead>\n",
       "    <tr style=\"text-align: right;\">\n",
       "      <th></th>\n",
       "      <th>0</th>\n",
       "    </tr>\n",
       "  </thead>\n",
       "  <tbody>\n",
       "    <tr>\n",
       "      <th>0</th>\n",
       "      <td>0.276714</td>\n",
       "    </tr>\n",
       "    <tr>\n",
       "      <th>1</th>\n",
       "      <td>-0.259518</td>\n",
       "    </tr>\n",
       "    <tr>\n",
       "      <th>2</th>\n",
       "      <td>3.256396</td>\n",
       "    </tr>\n",
       "    <tr>\n",
       "      <th>3</th>\n",
       "      <td>-0.567582</td>\n",
       "    </tr>\n",
       "    <tr>\n",
       "      <th>4</th>\n",
       "      <td>0.608453</td>\n",
       "    </tr>\n",
       "    <tr>\n",
       "      <th>5</th>\n",
       "      <td>-0.066938</td>\n",
       "    </tr>\n",
       "    <tr>\n",
       "      <th>6</th>\n",
       "      <td>-1.577213</td>\n",
       "    </tr>\n",
       "    <tr>\n",
       "      <th>7</th>\n",
       "      <td>-0.114861</td>\n",
       "    </tr>\n",
       "    <tr>\n",
       "      <th>8</th>\n",
       "      <td>6.577963</td>\n",
       "    </tr>\n",
       "    <tr>\n",
       "      <th>9</th>\n",
       "      <td>0.265331</td>\n",
       "    </tr>\n",
       "  </tbody>\n",
       "</table>\n",
       "</div>"
      ],
      "text/plain": [
       "          0\n",
       "0  0.276714\n",
       "1 -0.259518\n",
       "2  3.256396\n",
       "3 -0.567582\n",
       "4  0.608453\n",
       "5 -0.066938\n",
       "6 -1.577213\n",
       "7 -0.114861\n",
       "8  6.577963\n",
       "9  0.265331"
      ]
     },
     "execution_count": 31,
     "metadata": {},
     "output_type": "execute_result"
    }
   ],
   "source": [
    "#std_scaler = StandardScaler()\n",
    "std_scaler = RobustScaler()\n",
    "#std_scaler = MinMaxScaler()\n",
    "std_scaler\n",
    "# fit and transform the data\n",
    "X = pd.DataFrame(std_scaler.fit_transform(a2))\n",
    "\n",
    "X.head(10)"
   ]
  },
  {
   "cell_type": "code",
   "execution_count": 32,
   "id": "c8db55ea-6536-4953-9835-04d8fe781d8b",
   "metadata": {},
   "outputs": [
    {
     "name": "stdout",
     "output_type": "stream",
     "text": [
      "Estimated number of clusters: 1\n",
      "Estimated number of noise points: 7\n",
      "Silhouette Coefficient: 0.537\n"
     ]
    }
   ],
   "source": [
    "# Compute DBSCAN\n",
    "db = DBSCAN(eps=0.25, min_samples=5).fit(X)\n",
    "core_samples_mask = np.zeros_like(db.labels_, dtype=bool)\n",
    "core_samples_mask[db.core_sample_indices_] = True\n",
    "labels = db.labels_\n",
    "#with np.printoptions(threshold=np.inf):\n",
    "#     print(labels)\n",
    "# Number of clusters in labels, ignoring noise if present.\n",
    "n_clusters_ = len(set(labels)) - (1 if -1 in labels else 0)\n",
    "n_noise_ = list(labels).count(-1)\n",
    "\n",
    "print('Estimated number of clusters: %d' % n_clusters_)\n",
    "print('Estimated number of noise points: %d' % n_noise_)\n",
    "print(\"Silhouette Coefficient: %0.3f\" % metrics.silhouette_score(X, labels))"
   ]
  },
  {
   "cell_type": "code",
   "execution_count": 33,
   "id": "2eb08609-d22f-4f14-b70b-c18a152a08c9",
   "metadata": {},
   "outputs": [],
   "source": [
    "df_labels = pd.DataFrame(labels, columns=['cluster'])"
   ]
  },
  {
   "cell_type": "code",
   "execution_count": 34,
   "id": "eab0a6ee-740d-4ef0-8c2f-50893b1e65e6",
   "metadata": {},
   "outputs": [],
   "source": [
    "df2 = pd.concat([df_admin1, df_labels], axis=1)"
   ]
  },
  {
   "cell_type": "code",
   "execution_count": 35,
   "id": "cdb128a3-da6b-4dde-af94-d6c168546651",
   "metadata": {},
   "outputs": [
    {
     "data": {
      "text/html": [
       "<div>\n",
       "<style scoped>\n",
       "    .dataframe tbody tr th:only-of-type {\n",
       "        vertical-align: middle;\n",
       "    }\n",
       "\n",
       "    .dataframe tbody tr th {\n",
       "        vertical-align: top;\n",
       "    }\n",
       "\n",
       "    .dataframe thead th {\n",
       "        text-align: right;\n",
       "    }\n",
       "</style>\n",
       "<table border=\"1\" class=\"dataframe\">\n",
       "  <thead>\n",
       "    <tr style=\"text-align: right;\">\n",
       "      <th></th>\n",
       "      <th>CVEGEO</th>\n",
       "      <th>cve_ent</th>\n",
       "      <th>NOMGEO</th>\n",
       "      <th>geometry</th>\n",
       "      <th>area_sqkm</th>\n",
       "      <th>state</th>\n",
       "      <th>total_cases</th>\n",
       "      <th>cluster</th>\n",
       "    </tr>\n",
       "  </thead>\n",
       "  <tbody>\n",
       "    <tr>\n",
       "      <th>0</th>\n",
       "      <td>01</td>\n",
       "      <td>01000</td>\n",
       "      <td>Aguascalientes</td>\n",
       "      <td>POLYGON ((2470517.824 1155028.588, 2470552.248...</td>\n",
       "      <td>5558.673843</td>\n",
       "      <td>AGUASCALIENTES</td>\n",
       "      <td>26695</td>\n",
       "      <td>0</td>\n",
       "    </tr>\n",
       "    <tr>\n",
       "      <th>1</th>\n",
       "      <td>02</td>\n",
       "      <td>02000</td>\n",
       "      <td>Baja California</td>\n",
       "      <td>MULTIPOLYGON (((1493197.166 1849625.247, 14934...</td>\n",
       "      <td>73516.697324</td>\n",
       "      <td>BAJA CALIFORNIA</td>\n",
       "      <td>50286</td>\n",
       "      <td>0</td>\n",
       "    </tr>\n",
       "    <tr>\n",
       "      <th>2</th>\n",
       "      <td>03</td>\n",
       "      <td>03000</td>\n",
       "      <td>Baja California Sur</td>\n",
       "      <td>MULTIPOLYGON (((1694656.344 1227647.637, 16946...</td>\n",
       "      <td>73970.687326</td>\n",
       "      <td>BAJA CALIFORNIA SUR</td>\n",
       "      <td>36317</td>\n",
       "      <td>-1</td>\n",
       "    </tr>\n",
       "    <tr>\n",
       "      <th>3</th>\n",
       "      <td>04</td>\n",
       "      <td>04000</td>\n",
       "      <td>Campeche</td>\n",
       "      <td>MULTIPOLYGON (((3544897.199 946994.621, 354491...</td>\n",
       "      <td>57254.511636</td>\n",
       "      <td>CAMPECHE</td>\n",
       "      <td>11099</td>\n",
       "      <td>0</td>\n",
       "    </tr>\n",
       "    <tr>\n",
       "      <th>4</th>\n",
       "      <td>05</td>\n",
       "      <td>05000</td>\n",
       "      <td>Coahuila de Zaragoza</td>\n",
       "      <td>POLYGON ((2469954.193 1978522.993, 2469982.807...</td>\n",
       "      <td>150671.222986</td>\n",
       "      <td>COAHUILA</td>\n",
       "      <td>69397</td>\n",
       "      <td>0</td>\n",
       "    </tr>\n",
       "  </tbody>\n",
       "</table>\n",
       "</div>"
      ],
      "text/plain": [
       "  CVEGEO cve_ent                NOMGEO  \\\n",
       "0     01   01000        Aguascalientes   \n",
       "1     02   02000       Baja California   \n",
       "2     03   03000   Baja California Sur   \n",
       "3     04   04000              Campeche   \n",
       "4     05   05000  Coahuila de Zaragoza   \n",
       "\n",
       "                                            geometry      area_sqkm  \\\n",
       "0  POLYGON ((2470517.824 1155028.588, 2470552.248...    5558.673843   \n",
       "1  MULTIPOLYGON (((1493197.166 1849625.247, 14934...   73516.697324   \n",
       "2  MULTIPOLYGON (((1694656.344 1227647.637, 16946...   73970.687326   \n",
       "3  MULTIPOLYGON (((3544897.199 946994.621, 354491...   57254.511636   \n",
       "4  POLYGON ((2469954.193 1978522.993, 2469982.807...  150671.222986   \n",
       "\n",
       "                 state  total_cases  cluster  \n",
       "0       AGUASCALIENTES        26695        0  \n",
       "1      BAJA CALIFORNIA        50286        0  \n",
       "2  BAJA CALIFORNIA SUR        36317       -1  \n",
       "3             CAMPECHE        11099        0  \n",
       "4             COAHUILA        69397        0  "
      ]
     },
     "execution_count": 35,
     "metadata": {},
     "output_type": "execute_result"
    }
   ],
   "source": [
    "df2.head()"
   ]
  },
  {
   "cell_type": "code",
   "execution_count": 36,
   "id": "42df3aa9-ad2a-4b83-9fca-cef55d889d26",
   "metadata": {},
   "outputs": [
    {
     "data": {
      "image/png": "[encoded data removed]",
      "text/plain": [
       "<Figure size 1152x792 with 2 Axes>"
      ]
     },
     "metadata": {
      "needs_background": "light"
     },
     "output_type": "display_data"
    }
   ],
   "source": [
    "title = 'Rate cases by State in Mexico'\n",
    "ax1 = df2.plot(column='cluster', \n",
    "#               cmap='OrRd',\n",
    "# color maps: https://matplotlib.org/stable/tutorials/colors/colormaps.html\n",
    "               cmap='Set1',\n",
    "               legend=True, \n",
    "               legend_kwds={'label': 'Cluster Number', \n",
    "                            'orientation': 'horizontal'},\n",
    "               figsize=(16, 11));\n",
    "ax1.set_title(title, fontsize=15);"
   ]
  },
  {
   "cell_type": "markdown",
   "id": "ed9d4fcb-e5ef-4e94-ace5-f2a47d392415",
   "metadata": {},
   "source": [
    "### Calculate Total Deaths by State"
   ]
  },
  {
   "cell_type": "code",
   "execution_count": 37,
   "id": "fbdc8d98-f06f-4cd6-b9b1-d60444deae1c",
   "metadata": {},
   "outputs": [],
   "source": [
    "deaths_admin1 =All_admin1[[\"cve_ent\", \"state\", \"total_deaths\"]]"
   ]
  },
  {
   "cell_type": "code",
   "execution_count": 38,
   "id": "77f81b17-27da-4002-b7d5-bdb7bba0fab8",
   "metadata": {},
   "outputs": [
    {
     "name": "stderr",
     "output_type": "stream",
     "text": [
      "<ipython-input-38-c77330a006c4>:1: SettingWithCopyWarning: \n",
      "A value is trying to be set on a copy of a slice from a DataFrame.\n",
      "Try using .loc[row_indexer,col_indexer] = value instead\n",
      "\n",
      "See the caveats in the documentation: https://pandas.pydata.org/pandas-docs/stable/user_guide/indexing.html#returning-a-view-versus-a-copy\n",
      "  deaths_admin1['cve_ent'] = deaths_admin1['cve_ent'].apply(lambda i: f'{i:05d}')\n"
     ]
    }
   ],
   "source": [
    "deaths_admin1['cve_ent'] = deaths_admin1['cve_ent'].apply(lambda i: f'{i:05d}')"
   ]
  },
  {
   "cell_type": "code",
   "execution_count": 39,
   "id": "389e75fa-add3-4b8e-83e2-53ffef0c6e4a",
   "metadata": {},
   "outputs": [],
   "source": [
    "dfd_admin1 = admin1.merge(deaths_admin1, on='cve_ent')"
   ]
  },
  {
   "cell_type": "code",
   "execution_count": 40,
   "id": "a0e47eab-bc4f-4b5d-a1d1-767477b2cc16",
   "metadata": {},
   "outputs": [],
   "source": [
    "a3 = dfd_admin1[['total_deaths']]"
   ]
  },
  {
   "cell_type": "code",
   "execution_count": 41,
   "id": "940bba80-25b3-4cc3-bf60-0bf103c97ff5",
   "metadata": {},
   "outputs": [
    {
     "data": {
      "text/html": [
       "<div>\n",
       "<style scoped>\n",
       "    .dataframe tbody tr th:only-of-type {\n",
       "        vertical-align: middle;\n",
       "    }\n",
       "\n",
       "    .dataframe tbody tr th {\n",
       "        vertical-align: top;\n",
       "    }\n",
       "\n",
       "    .dataframe thead th {\n",
       "        text-align: right;\n",
       "    }\n",
       "</style>\n",
       "<table border=\"1\" class=\"dataframe\">\n",
       "  <thead>\n",
       "    <tr style=\"text-align: right;\">\n",
       "      <th></th>\n",
       "      <th>0</th>\n",
       "    </tr>\n",
       "  </thead>\n",
       "  <tbody>\n",
       "    <tr>\n",
       "      <th>0</th>\n",
       "      <td>-0.477867</td>\n",
       "    </tr>\n",
       "    <tr>\n",
       "      <th>1</th>\n",
       "      <td>0.754004</td>\n",
       "    </tr>\n",
       "    <tr>\n",
       "      <th>2</th>\n",
       "      <td>-0.670845</td>\n",
       "    </tr>\n",
       "    <tr>\n",
       "      <th>3</th>\n",
       "      <td>-0.714613</td>\n",
       "    </tr>\n",
       "    <tr>\n",
       "      <th>4</th>\n",
       "      <td>0.301999</td>\n",
       "    </tr>\n",
       "    <tr>\n",
       "      <th>5</th>\n",
       "      <td>-0.725754</td>\n",
       "    </tr>\n",
       "    <tr>\n",
       "      <th>6</th>\n",
       "      <td>-0.637223</td>\n",
       "    </tr>\n",
       "    <tr>\n",
       "      <th>7</th>\n",
       "      <td>0.524222</td>\n",
       "    </tr>\n",
       "    <tr>\n",
       "      <th>8</th>\n",
       "      <td>5.889386</td>\n",
       "    </tr>\n",
       "    <tr>\n",
       "      <th>9</th>\n",
       "      <td>-0.470108</td>\n",
       "    </tr>\n",
       "  </tbody>\n",
       "</table>\n",
       "</div>"
      ],
      "text/plain": [
       "          0\n",
       "0 -0.477867\n",
       "1  0.754004\n",
       "2 -0.670845\n",
       "3 -0.714613\n",
       "4  0.301999\n",
       "5 -0.725754\n",
       "6 -0.637223\n",
       "7  0.524222\n",
       "8  5.889386\n",
       "9 -0.470108"
      ]
     },
     "execution_count": 41,
     "metadata": {},
     "output_type": "execute_result"
    }
   ],
   "source": [
    "#std_scaler = StandardScaler()\n",
    "std_scaler = RobustScaler()\n",
    "#std_scaler = MinMaxScaler()\n",
    "std_scaler\n",
    "# fit and transform the data\n",
    "Xd = pd.DataFrame(std_scaler.fit_transform(a3))\n",
    "\n",
    "Xd.head(10)"
   ]
  },
  {
   "cell_type": "code",
   "execution_count": 42,
   "id": "9e720353-23b8-4373-81d1-e785456e05d1",
   "metadata": {},
   "outputs": [
    {
     "name": "stdout",
     "output_type": "stream",
     "text": [
      "Estimated number of clusters: 1\n",
      "Estimated number of noise points: 7\n",
      "Silhouette Coefficient: 0.621\n"
     ]
    }
   ],
   "source": [
    "# Compute DBSCAN\n",
    "db = DBSCAN(eps=0.25, min_samples=5).fit(Xd)\n",
    "core_samples_mask = np.zeros_like(db.labels_, dtype=bool)\n",
    "core_samples_mask[db.core_sample_indices_] = True\n",
    "labels = db.labels_\n",
    "#with np.printoptions(threshold=np.inf):\n",
    "#     print(labels)\n",
    "# Number of clusters in labels, ignoring noise if present.\n",
    "n_clusters_ = len(set(labels)) - (1 if -1 in labels else 0)\n",
    "n_noise_ = list(labels).count(-1)\n",
    "\n",
    "print('Estimated number of clusters: %d' % n_clusters_)\n",
    "print('Estimated number of noise points: %d' % n_noise_)\n",
    "print(\"Silhouette Coefficient: %0.3f\" % metrics.silhouette_score(Xd, labels))"
   ]
  },
  {
   "cell_type": "code",
   "execution_count": 43,
   "id": "54dbf2ad-d892-48b5-9655-cfd7d5c51212",
   "metadata": {},
   "outputs": [],
   "source": [
    "df_labels = pd.DataFrame(labels, columns=['cluster'])"
   ]
  },
  {
   "cell_type": "code",
   "execution_count": 44,
   "id": "a98a99df-3863-46fd-a830-a68c67c9453c",
   "metadata": {},
   "outputs": [],
   "source": [
    "df2 = pd.concat([dfd_admin1, df_labels], axis=1)"
   ]
  },
  {
   "cell_type": "code",
   "execution_count": 45,
   "id": "1b5a3208-0ed3-409c-a8e4-236d34ef42b4",
   "metadata": {},
   "outputs": [
    {
     "data": {
      "text/html": [
       "<div>\n",
       "<style scoped>\n",
       "    .dataframe tbody tr th:only-of-type {\n",
       "        vertical-align: middle;\n",
       "    }\n",
       "\n",
       "    .dataframe tbody tr th {\n",
       "        vertical-align: top;\n",
       "    }\n",
       "\n",
       "    .dataframe thead th {\n",
       "        text-align: right;\n",
       "    }\n",
       "</style>\n",
       "<table border=\"1\" class=\"dataframe\">\n",
       "  <thead>\n",
       "    <tr style=\"text-align: right;\">\n",
       "      <th></th>\n",
       "      <th>CVEGEO</th>\n",
       "      <th>cve_ent</th>\n",
       "      <th>NOMGEO</th>\n",
       "      <th>geometry</th>\n",
       "      <th>area_sqkm</th>\n",
       "      <th>state</th>\n",
       "      <th>total_deaths</th>\n",
       "      <th>cluster</th>\n",
       "    </tr>\n",
       "  </thead>\n",
       "  <tbody>\n",
       "    <tr>\n",
       "      <th>0</th>\n",
       "      <td>01</td>\n",
       "      <td>01000</td>\n",
       "      <td>Aguascalientes</td>\n",
       "      <td>POLYGON ((2470517.824 1155028.588, 2470552.248...</td>\n",
       "      <td>5558.673843</td>\n",
       "      <td>AGUASCALIENTES</td>\n",
       "      <td>2456</td>\n",
       "      <td>0</td>\n",
       "    </tr>\n",
       "    <tr>\n",
       "      <th>1</th>\n",
       "      <td>02</td>\n",
       "      <td>02000</td>\n",
       "      <td>Baja California</td>\n",
       "      <td>MULTIPOLYGON (((1493197.166 1849625.247, 14934...</td>\n",
       "      <td>73516.697324</td>\n",
       "      <td>BAJA CALIFORNIA</td>\n",
       "      <td>8648</td>\n",
       "      <td>0</td>\n",
       "    </tr>\n",
       "    <tr>\n",
       "      <th>2</th>\n",
       "      <td>03</td>\n",
       "      <td>03000</td>\n",
       "      <td>Baja California Sur</td>\n",
       "      <td>MULTIPOLYGON (((1694656.344 1227647.637, 16946...</td>\n",
       "      <td>73970.687326</td>\n",
       "      <td>BAJA CALIFORNIA SUR</td>\n",
       "      <td>1486</td>\n",
       "      <td>0</td>\n",
       "    </tr>\n",
       "    <tr>\n",
       "      <th>3</th>\n",
       "      <td>04</td>\n",
       "      <td>04000</td>\n",
       "      <td>Campeche</td>\n",
       "      <td>MULTIPOLYGON (((3544897.199 946994.621, 354491...</td>\n",
       "      <td>57254.511636</td>\n",
       "      <td>CAMPECHE</td>\n",
       "      <td>1266</td>\n",
       "      <td>0</td>\n",
       "    </tr>\n",
       "    <tr>\n",
       "      <th>4</th>\n",
       "      <td>05</td>\n",
       "      <td>05000</td>\n",
       "      <td>Coahuila de Zaragoza</td>\n",
       "      <td>POLYGON ((2469954.193 1978522.993, 2469982.807...</td>\n",
       "      <td>150671.222986</td>\n",
       "      <td>COAHUILA</td>\n",
       "      <td>6376</td>\n",
       "      <td>0</td>\n",
       "    </tr>\n",
       "  </tbody>\n",
       "</table>\n",
       "</div>"
      ],
      "text/plain": [
       "  CVEGEO cve_ent                NOMGEO  \\\n",
       "0     01   01000        Aguascalientes   \n",
       "1     02   02000       Baja California   \n",
       "2     03   03000   Baja California Sur   \n",
       "3     04   04000              Campeche   \n",
       "4     05   05000  Coahuila de Zaragoza   \n",
       "\n",
       "                                            geometry      area_sqkm  \\\n",
       "0  POLYGON ((2470517.824 1155028.588, 2470552.248...    5558.673843   \n",
       "1  MULTIPOLYGON (((1493197.166 1849625.247, 14934...   73516.697324   \n",
       "2  MULTIPOLYGON (((1694656.344 1227647.637, 16946...   73970.687326   \n",
       "3  MULTIPOLYGON (((3544897.199 946994.621, 354491...   57254.511636   \n",
       "4  POLYGON ((2469954.193 1978522.993, 2469982.807...  150671.222986   \n",
       "\n",
       "                 state  total_deaths  cluster  \n",
       "0       AGUASCALIENTES          2456        0  \n",
       "1      BAJA CALIFORNIA          8648        0  \n",
       "2  BAJA CALIFORNIA SUR          1486        0  \n",
       "3             CAMPECHE          1266        0  \n",
       "4             COAHUILA          6376        0  "
      ]
     },
     "execution_count": 45,
     "metadata": {},
     "output_type": "execute_result"
    }
   ],
   "source": [
    "df2.head()"
   ]
  },
  {
   "cell_type": "code",
   "execution_count": 46,
   "id": "cfbeaf18-013b-4f8f-80b5-6278df5ee27b",
   "metadata": {},
   "outputs": [
    {
     "data": {
      "image/png": "[encoded data removed]",
      "text/plain": [
       "<Figure size 1152x792 with 2 Axes>"
      ]
     },
     "metadata": {
      "needs_background": "light"
     },
     "output_type": "display_data"
    }
   ],
   "source": [
    "title = 'Total deaths by State in Mexico'\n",
    "ax1 = df2.plot(column='cluster', \n",
    "#               cmap='OrRd',\n",
    "# color maps: https://matplotlib.org/stable/tutorials/colors/colormaps.html\n",
    "               cmap='Set1',\n",
    "               legend=True, \n",
    "               legend_kwds={'label': 'Cluster Number', \n",
    "                            'orientation': 'horizontal'},\n",
    "               figsize=(16, 11));\n",
    "ax1.set_title(title, fontsize=15);"
   ]
  },
  {
   "cell_type": "markdown",
   "id": "67c82bdd-2f94-48fe-8552-f369850ba9df",
   "metadata": {},
   "source": [
    "### Calculate rate of deaths by State"
   ]
  },
  {
   "cell_type": "code",
   "execution_count": 47,
   "id": "7381811a-4f66-4892-85cd-3a1935a207a7",
   "metadata": {},
   "outputs": [],
   "source": [
    "rdeaths_admin1 =All_admin1[[\"cve_ent\", \"state\", \"deaths_rates\"]]"
   ]
  },
  {
   "cell_type": "code",
   "execution_count": 48,
   "id": "7583409b-e9e9-4554-827d-bbcca40fd495",
   "metadata": {},
   "outputs": [
    {
     "name": "stderr",
     "output_type": "stream",
     "text": [
      "<ipython-input-48-b21e7ee3d26d>:1: SettingWithCopyWarning: \n",
      "A value is trying to be set on a copy of a slice from a DataFrame.\n",
      "Try using .loc[row_indexer,col_indexer] = value instead\n",
      "\n",
      "See the caveats in the documentation: https://pandas.pydata.org/pandas-docs/stable/user_guide/indexing.html#returning-a-view-versus-a-copy\n",
      "  rdeaths_admin1['cve_ent'] = rdeaths_admin1['cve_ent'].apply(lambda i: f'{i:05d}')\n"
     ]
    }
   ],
   "source": [
    "rdeaths_admin1['cve_ent'] = rdeaths_admin1['cve_ent'].apply(lambda i: f'{i:05d}')"
   ]
  },
  {
   "cell_type": "code",
   "execution_count": 49,
   "id": "a0b2e5c2-fb27-4aae-9a68-277325faf05e",
   "metadata": {},
   "outputs": [],
   "source": [
    "dfd_admin1 = admin1.merge(rdeaths_admin1, on='cve_ent')"
   ]
  },
  {
   "cell_type": "code",
   "execution_count": 50,
   "id": "1751bb75-9ca8-4e0a-8ca5-b0f3023bbe7d",
   "metadata": {},
   "outputs": [],
   "source": [
    "a3 = dfd_admin1[['deaths_rates']]"
   ]
  },
  {
   "cell_type": "code",
   "execution_count": 51,
   "id": "376654f5-4256-4453-97ce-bb12178bcb61",
   "metadata": {},
   "outputs": [
    {
     "data": {
      "text/html": [
       "<div>\n",
       "<style scoped>\n",
       "    .dataframe tbody tr th:only-of-type {\n",
       "        vertical-align: middle;\n",
       "    }\n",
       "\n",
       "    .dataframe tbody tr th {\n",
       "        vertical-align: top;\n",
       "    }\n",
       "\n",
       "    .dataframe thead th {\n",
       "        text-align: right;\n",
       "    }\n",
       "</style>\n",
       "<table border=\"1\" class=\"dataframe\">\n",
       "  <thead>\n",
       "    <tr style=\"text-align: right;\">\n",
       "      <th></th>\n",
       "      <th>0</th>\n",
       "    </tr>\n",
       "  </thead>\n",
       "  <tbody>\n",
       "    <tr>\n",
       "      <th>0</th>\n",
       "      <td>-0.039183</td>\n",
       "    </tr>\n",
       "    <tr>\n",
       "      <th>1</th>\n",
       "      <td>1.253323</td>\n",
       "    </tr>\n",
       "    <tr>\n",
       "      <th>2</th>\n",
       "      <td>0.221739</td>\n",
       "    </tr>\n",
       "    <tr>\n",
       "      <th>3</th>\n",
       "      <td>-0.904505</td>\n",
       "    </tr>\n",
       "    <tr>\n",
       "      <th>4</th>\n",
       "      <td>0.481849</td>\n",
       "    </tr>\n",
       "    <tr>\n",
       "      <th>5</th>\n",
       "      <td>-0.370100</td>\n",
       "    </tr>\n",
       "    <tr>\n",
       "      <th>6</th>\n",
       "      <td>-2.795883</td>\n",
       "    </tr>\n",
       "    <tr>\n",
       "      <th>7</th>\n",
       "      <td>0.462786</td>\n",
       "    </tr>\n",
       "    <tr>\n",
       "      <th>8</th>\n",
       "      <td>4.046409</td>\n",
       "    </tr>\n",
       "    <tr>\n",
       "      <th>9</th>\n",
       "      <td>-0.769448</td>\n",
       "    </tr>\n",
       "  </tbody>\n",
       "</table>\n",
       "</div>"
      ],
      "text/plain": [
       "          0\n",
       "0 -0.039183\n",
       "1  1.253323\n",
       "2  0.221739\n",
       "3 -0.904505\n",
       "4  0.481849\n",
       "5 -0.370100\n",
       "6 -2.795883\n",
       "7  0.462786\n",
       "8  4.046409\n",
       "9 -0.769448"
      ]
     },
     "execution_count": 51,
     "metadata": {},
     "output_type": "execute_result"
    }
   ],
   "source": [
    "#std_scaler = StandardScaler()\n",
    "std_scaler = RobustScaler()\n",
    "#std_scaler = MinMaxScaler()\n",
    "std_scaler\n",
    "# fit and transform the data\n",
    "Xd = pd.DataFrame(std_scaler.fit_transform(a3))\n",
    "\n",
    "Xd.head(10)"
   ]
  },
  {
   "cell_type": "code",
   "execution_count": 52,
   "id": "2b30952f-2e78-4409-a2c5-f2be8dcd9205",
   "metadata": {},
   "outputs": [
    {
     "name": "stdout",
     "output_type": "stream",
     "text": [
      "Estimated number of clusters: 1\n",
      "Estimated number of noise points: 5\n",
      "Silhouette Coefficient: 0.538\n"
     ]
    }
   ],
   "source": [
    "# Compute DBSCAN\n",
    "db = DBSCAN(eps=0.25, min_samples=5).fit(Xd)\n",
    "core_samples_mask = np.zeros_like(db.labels_, dtype=bool)\n",
    "core_samples_mask[db.core_sample_indices_] = True\n",
    "labels = db.labels_\n",
    "#with np.printoptions(threshold=np.inf):\n",
    "#     print(labels)\n",
    "# Number of clusters in labels, ignoring noise if present.\n",
    "n_clusters_ = len(set(labels)) - (1 if -1 in labels else 0)\n",
    "n_noise_ = list(labels).count(-1)\n",
    "\n",
    "print('Estimated number of clusters: %d' % n_clusters_)\n",
    "print('Estimated number of noise points: %d' % n_noise_)\n",
    "print(\"Silhouette Coefficient: %0.3f\" % metrics.silhouette_score(Xd, labels))"
   ]
  },
  {
   "cell_type": "code",
   "execution_count": 53,
   "id": "c8fd8d98-53c0-4d62-b3a2-a45f650b9409",
   "metadata": {},
   "outputs": [],
   "source": [
    "df_labels = pd.DataFrame(labels, columns=['cluster'])"
   ]
  },
  {
   "cell_type": "code",
   "execution_count": 54,
   "id": "e099869f-084a-4018-8635-d6f1ed0e4401",
   "metadata": {},
   "outputs": [],
   "source": [
    "df2 = pd.concat([dfd_admin1, df_labels], axis=1)"
   ]
  },
  {
   "cell_type": "code",
   "execution_count": 55,
   "id": "b756cb00-52f6-46a5-a6af-2e2f8009eeb3",
   "metadata": {},
   "outputs": [
    {
     "data": {
      "text/html": [
       "<div>\n",
       "<style scoped>\n",
       "    .dataframe tbody tr th:only-of-type {\n",
       "        vertical-align: middle;\n",
       "    }\n",
       "\n",
       "    .dataframe tbody tr th {\n",
       "        vertical-align: top;\n",
       "    }\n",
       "\n",
       "    .dataframe thead th {\n",
       "        text-align: right;\n",
       "    }\n",
       "</style>\n",
       "<table border=\"1\" class=\"dataframe\">\n",
       "  <thead>\n",
       "    <tr style=\"text-align: right;\">\n",
       "      <th></th>\n",
       "      <th>CVEGEO</th>\n",
       "      <th>cve_ent</th>\n",
       "      <th>NOMGEO</th>\n",
       "      <th>geometry</th>\n",
       "      <th>area_sqkm</th>\n",
       "      <th>state</th>\n",
       "      <th>deaths_rates</th>\n",
       "      <th>cluster</th>\n",
       "    </tr>\n",
       "  </thead>\n",
       "  <tbody>\n",
       "    <tr>\n",
       "      <th>0</th>\n",
       "      <td>01</td>\n",
       "      <td>01000</td>\n",
       "      <td>Aguascalientes</td>\n",
       "      <td>POLYGON ((2470517.824 1155028.588, 2470552.248...</td>\n",
       "      <td>5558.673843</td>\n",
       "      <td>AGUASCALIENTES</td>\n",
       "      <td>171.193370</td>\n",
       "      <td>0</td>\n",
       "    </tr>\n",
       "    <tr>\n",
       "      <th>1</th>\n",
       "      <td>02</td>\n",
       "      <td>02000</td>\n",
       "      <td>Baja California</td>\n",
       "      <td>MULTIPOLYGON (((1493197.166 1849625.247, 14934...</td>\n",
       "      <td>73516.697324</td>\n",
       "      <td>BAJA CALIFORNIA</td>\n",
       "      <td>237.917856</td>\n",
       "      <td>-1</td>\n",
       "    </tr>\n",
       "    <tr>\n",
       "      <th>2</th>\n",
       "      <td>03</td>\n",
       "      <td>03000</td>\n",
       "      <td>Baja California Sur</td>\n",
       "      <td>MULTIPOLYGON (((1694656.344 1227647.637, 16946...</td>\n",
       "      <td>73970.687326</td>\n",
       "      <td>BAJA CALIFORNIA SUR</td>\n",
       "      <td>184.663257</td>\n",
       "      <td>0</td>\n",
       "    </tr>\n",
       "    <tr>\n",
       "      <th>3</th>\n",
       "      <td>04</td>\n",
       "      <td>04000</td>\n",
       "      <td>Campeche</td>\n",
       "      <td>MULTIPOLYGON (((3544897.199 946994.621, 354491...</td>\n",
       "      <td>57254.511636</td>\n",
       "      <td>CAMPECHE</td>\n",
       "      <td>126.521936</td>\n",
       "      <td>0</td>\n",
       "    </tr>\n",
       "    <tr>\n",
       "      <th>4</th>\n",
       "      <td>05</td>\n",
       "      <td>05000</td>\n",
       "      <td>Coahuila de Zaragoza</td>\n",
       "      <td>POLYGON ((2469954.193 1978522.993, 2469982.807...</td>\n",
       "      <td>150671.222986</td>\n",
       "      <td>COAHUILA</td>\n",
       "      <td>198.091167</td>\n",
       "      <td>0</td>\n",
       "    </tr>\n",
       "  </tbody>\n",
       "</table>\n",
       "</div>"
      ],
      "text/plain": [
       "  CVEGEO cve_ent                NOMGEO  \\\n",
       "0     01   01000        Aguascalientes   \n",
       "1     02   02000       Baja California   \n",
       "2     03   03000   Baja California Sur   \n",
       "3     04   04000              Campeche   \n",
       "4     05   05000  Coahuila de Zaragoza   \n",
       "\n",
       "                                            geometry      area_sqkm  \\\n",
       "0  POLYGON ((2470517.824 1155028.588, 2470552.248...    5558.673843   \n",
       "1  MULTIPOLYGON (((1493197.166 1849625.247, 14934...   73516.697324   \n",
       "2  MULTIPOLYGON (((1694656.344 1227647.637, 16946...   73970.687326   \n",
       "3  MULTIPOLYGON (((3544897.199 946994.621, 354491...   57254.511636   \n",
       "4  POLYGON ((2469954.193 1978522.993, 2469982.807...  150671.222986   \n",
       "\n",
       "                 state  deaths_rates  cluster  \n",
       "0       AGUASCALIENTES    171.193370        0  \n",
       "1      BAJA CALIFORNIA    237.917856       -1  \n",
       "2  BAJA CALIFORNIA SUR    184.663257        0  \n",
       "3             CAMPECHE    126.521936        0  \n",
       "4             COAHUILA    198.091167        0  "
      ]
     },
     "execution_count": 55,
     "metadata": {},
     "output_type": "execute_result"
    }
   ],
   "source": [
    "df2.head()"
   ]
  },
  {
   "cell_type": "code",
   "execution_count": 56,
   "id": "ce3da8e8-d5ac-41e0-ab55-e02d71b279c2",
   "metadata": {},
   "outputs": [
    {
     "data": {
      "image/png": "[encoded data removed]",
      "text/plain": [
       "<Figure size 1152x792 with 2 Axes>"
      ]
     },
     "metadata": {
      "needs_background": "light"
     },
     "output_type": "display_data"
    }
   ],
   "source": [
    "title = 'Rate of deaths by State in Mexico'\n",
    "ax1 = df2.plot(column='cluster', \n",
    "#               cmap='OrRd',\n",
    "# color maps: https://matplotlib.org/stable/tutorials/colors/colormaps.html\n",
    "               cmap='Set1',\n",
    "               legend=True, \n",
    "               legend_kwds={'label': 'Cluster Number', \n",
    "                            'orientation': 'horizontal'},\n",
    "               figsize=(16, 11));\n",
    "ax1.set_title(title, fontsize=15);"
   ]
  },
  {
   "cell_type": "markdown",
   "id": "4e2d64f1-c916-496e-9122-d373514bdc35",
   "metadata": {},
   "source": [
    "### Calculate comorbilities (Obesity) by State"
   ]
  },
  {
   "cell_type": "code",
   "execution_count": 57,
   "id": "826be65c-4f41-4829-8965-d1e77cd4b6b1",
   "metadata": {},
   "outputs": [],
   "source": [
    "obesity_admin1 =All_admin1[[\"cve_ent\", \"state\", \"pct_obesity_up20years\"]]"
   ]
  },
  {
   "cell_type": "code",
   "execution_count": 58,
   "id": "5e848ed5-d90d-4246-9510-6960701851b6",
   "metadata": {},
   "outputs": [
    {
     "name": "stderr",
     "output_type": "stream",
     "text": [
      "<ipython-input-58-14c1c3fa18f2>:1: SettingWithCopyWarning: \n",
      "A value is trying to be set on a copy of a slice from a DataFrame.\n",
      "Try using .loc[row_indexer,col_indexer] = value instead\n",
      "\n",
      "See the caveats in the documentation: https://pandas.pydata.org/pandas-docs/stable/user_guide/indexing.html#returning-a-view-versus-a-copy\n",
      "  obesity_admin1['cve_ent'] = obesity_admin1['cve_ent'].apply(lambda i: f'{i:05d}')\n"
     ]
    }
   ],
   "source": [
    "obesity_admin1['cve_ent'] = obesity_admin1['cve_ent'].apply(lambda i: f'{i:05d}')"
   ]
  },
  {
   "cell_type": "code",
   "execution_count": 59,
   "id": "1e5455f8-7acb-4164-acfe-1dbe852e3e0c",
   "metadata": {},
   "outputs": [],
   "source": [
    "dfd_admin1 = admin1.merge(obesity_admin1, on='cve_ent')"
   ]
  },
  {
   "cell_type": "code",
   "execution_count": 60,
   "id": "d4c69f7e-ac48-41aa-8f1b-cfe437132ed7",
   "metadata": {},
   "outputs": [],
   "source": [
    "a3 = dfd_admin1[['pct_obesity_up20years']]"
   ]
  },
  {
   "cell_type": "code",
   "execution_count": 61,
   "id": "af785e4c-46a6-46e9-8cd9-400077847db2",
   "metadata": {},
   "outputs": [
    {
     "data": {
      "text/html": [
       "<div>\n",
       "<style scoped>\n",
       "    .dataframe tbody tr th:only-of-type {\n",
       "        vertical-align: middle;\n",
       "    }\n",
       "\n",
       "    .dataframe tbody tr th {\n",
       "        vertical-align: top;\n",
       "    }\n",
       "\n",
       "    .dataframe thead th {\n",
       "        text-align: right;\n",
       "    }\n",
       "</style>\n",
       "<table border=\"1\" class=\"dataframe\">\n",
       "  <thead>\n",
       "    <tr style=\"text-align: right;\">\n",
       "      <th></th>\n",
       "      <th>0</th>\n",
       "    </tr>\n",
       "  </thead>\n",
       "  <tbody>\n",
       "    <tr>\n",
       "      <th>0</th>\n",
       "      <td>-0.444427</td>\n",
       "    </tr>\n",
       "    <tr>\n",
       "      <th>1</th>\n",
       "      <td>1.277162</td>\n",
       "    </tr>\n",
       "    <tr>\n",
       "      <th>2</th>\n",
       "      <td>0.674921</td>\n",
       "    </tr>\n",
       "    <tr>\n",
       "      <th>3</th>\n",
       "      <td>0.899177</td>\n",
       "    </tr>\n",
       "    <tr>\n",
       "      <th>4</th>\n",
       "      <td>0.102746</td>\n",
       "    </tr>\n",
       "    <tr>\n",
       "      <th>5</th>\n",
       "      <td>0.712138</td>\n",
       "    </tr>\n",
       "    <tr>\n",
       "      <th>6</th>\n",
       "      <td>-0.841576</td>\n",
       "    </tr>\n",
       "    <tr>\n",
       "      <th>7</th>\n",
       "      <td>0.218491</td>\n",
       "    </tr>\n",
       "    <tr>\n",
       "      <th>8</th>\n",
       "      <td>-0.035530</td>\n",
       "    </tr>\n",
       "    <tr>\n",
       "      <th>9</th>\n",
       "      <td>0.100125</td>\n",
       "    </tr>\n",
       "  </tbody>\n",
       "</table>\n",
       "</div>"
      ],
      "text/plain": [
       "          0\n",
       "0 -0.444427\n",
       "1  1.277162\n",
       "2  0.674921\n",
       "3  0.899177\n",
       "4  0.102746\n",
       "5  0.712138\n",
       "6 -0.841576\n",
       "7  0.218491\n",
       "8 -0.035530\n",
       "9  0.100125"
      ]
     },
     "execution_count": 61,
     "metadata": {},
     "output_type": "execute_result"
    }
   ],
   "source": [
    "#std_scaler = StandardScaler()\n",
    "std_scaler = RobustScaler()\n",
    "#std_scaler = MinMaxScaler()\n",
    "std_scaler\n",
    "# fit and transform the data\n",
    "Xd = pd.DataFrame(std_scaler.fit_transform(a3))\n",
    "\n",
    "Xd.head(10)"
   ]
  },
  {
   "cell_type": "code",
   "execution_count": 62,
   "id": "d09ed570-0ff1-4770-844c-7c500e33f592",
   "metadata": {},
   "outputs": [
    {
     "name": "stdout",
     "output_type": "stream",
     "text": [
      "Estimated number of clusters: 1\n",
      "Estimated number of noise points: 2\n",
      "Silhouette Coefficient: 0.408\n"
     ]
    }
   ],
   "source": [
    "# Compute DBSCAN\n",
    "db = DBSCAN(eps=0.25, min_samples=5).fit(Xd)\n",
    "core_samples_mask = np.zeros_like(db.labels_, dtype=bool)\n",
    "core_samples_mask[db.core_sample_indices_] = True\n",
    "labels = db.labels_\n",
    "#with np.printoptions(threshold=np.inf):\n",
    "#     print(labels)\n",
    "# Number of clusters in labels, ignoring noise if present.\n",
    "n_clusters_ = len(set(labels)) - (1 if -1 in labels else 0)\n",
    "n_noise_ = list(labels).count(-1)\n",
    "\n",
    "print('Estimated number of clusters: %d' % n_clusters_)\n",
    "print('Estimated number of noise points: %d' % n_noise_)\n",
    "print(\"Silhouette Coefficient: %0.3f\" % metrics.silhouette_score(Xd, labels))"
   ]
  },
  {
   "cell_type": "code",
   "execution_count": 63,
   "id": "a34d4a27-6ac4-46a9-a5d6-13edce2e8897",
   "metadata": {},
   "outputs": [],
   "source": [
    "df_labels = pd.DataFrame(labels, columns=['cluster'])"
   ]
  },
  {
   "cell_type": "code",
   "execution_count": 64,
   "id": "1d790346-c91b-4f24-a7a8-8bd0c228379d",
   "metadata": {},
   "outputs": [],
   "source": [
    "df2 = pd.concat([dfd_admin1, df_labels], axis=1)"
   ]
  },
  {
   "cell_type": "code",
   "execution_count": 65,
   "id": "f1eedcd6-13a6-4c20-b2ad-103c30743804",
   "metadata": {},
   "outputs": [
    {
     "data": {
      "text/html": [
       "<div>\n",
       "<style scoped>\n",
       "    .dataframe tbody tr th:only-of-type {\n",
       "        vertical-align: middle;\n",
       "    }\n",
       "\n",
       "    .dataframe tbody tr th {\n",
       "        vertical-align: top;\n",
       "    }\n",
       "\n",
       "    .dataframe thead th {\n",
       "        text-align: right;\n",
       "    }\n",
       "</style>\n",
       "<table border=\"1\" class=\"dataframe\">\n",
       "  <thead>\n",
       "    <tr style=\"text-align: right;\">\n",
       "      <th></th>\n",
       "      <th>CVEGEO</th>\n",
       "      <th>cve_ent</th>\n",
       "      <th>NOMGEO</th>\n",
       "      <th>geometry</th>\n",
       "      <th>area_sqkm</th>\n",
       "      <th>state</th>\n",
       "      <th>pct_obesity_up20years</th>\n",
       "      <th>cluster</th>\n",
       "    </tr>\n",
       "  </thead>\n",
       "  <tbody>\n",
       "    <tr>\n",
       "      <th>0</th>\n",
       "      <td>01</td>\n",
       "      <td>01000</td>\n",
       "      <td>Aguascalientes</td>\n",
       "      <td>POLYGON ((2470517.824 1155028.588, 2470552.248...</td>\n",
       "      <td>5558.673843</td>\n",
       "      <td>AGUASCALIENTES</td>\n",
       "      <td>32.593387</td>\n",
       "      <td>0</td>\n",
       "    </tr>\n",
       "    <tr>\n",
       "      <th>1</th>\n",
       "      <td>02</td>\n",
       "      <td>02000</td>\n",
       "      <td>Baja California</td>\n",
       "      <td>MULTIPOLYGON (((1493197.166 1849625.247, 14934...</td>\n",
       "      <td>73516.697324</td>\n",
       "      <td>BAJA CALIFORNIA</td>\n",
       "      <td>48.366995</td>\n",
       "      <td>-1</td>\n",
       "    </tr>\n",
       "    <tr>\n",
       "      <th>2</th>\n",
       "      <td>03</td>\n",
       "      <td>03000</td>\n",
       "      <td>Baja California Sur</td>\n",
       "      <td>MULTIPOLYGON (((1694656.344 1227647.637, 16946...</td>\n",
       "      <td>73970.687326</td>\n",
       "      <td>BAJA CALIFORNIA SUR</td>\n",
       "      <td>42.849118</td>\n",
       "      <td>0</td>\n",
       "    </tr>\n",
       "    <tr>\n",
       "      <th>3</th>\n",
       "      <td>04</td>\n",
       "      <td>04000</td>\n",
       "      <td>Campeche</td>\n",
       "      <td>MULTIPOLYGON (((3544897.199 946994.621, 354491...</td>\n",
       "      <td>57254.511636</td>\n",
       "      <td>CAMPECHE</td>\n",
       "      <td>44.903811</td>\n",
       "      <td>0</td>\n",
       "    </tr>\n",
       "    <tr>\n",
       "      <th>4</th>\n",
       "      <td>05</td>\n",
       "      <td>05000</td>\n",
       "      <td>Coahuila de Zaragoza</td>\n",
       "      <td>POLYGON ((2469954.193 1978522.993, 2469982.807...</td>\n",
       "      <td>150671.222986</td>\n",
       "      <td>COAHUILA</td>\n",
       "      <td>37.606715</td>\n",
       "      <td>0</td>\n",
       "    </tr>\n",
       "  </tbody>\n",
       "</table>\n",
       "</div>"
      ],
      "text/plain": [
       "  CVEGEO cve_ent                NOMGEO  \\\n",
       "0     01   01000        Aguascalientes   \n",
       "1     02   02000       Baja California   \n",
       "2     03   03000   Baja California Sur   \n",
       "3     04   04000              Campeche   \n",
       "4     05   05000  Coahuila de Zaragoza   \n",
       "\n",
       "                                            geometry      area_sqkm  \\\n",
       "0  POLYGON ((2470517.824 1155028.588, 2470552.248...    5558.673843   \n",
       "1  MULTIPOLYGON (((1493197.166 1849625.247, 14934...   73516.697324   \n",
       "2  MULTIPOLYGON (((1694656.344 1227647.637, 16946...   73970.687326   \n",
       "3  MULTIPOLYGON (((3544897.199 946994.621, 354491...   57254.511636   \n",
       "4  POLYGON ((2469954.193 1978522.993, 2469982.807...  150671.222986   \n",
       "\n",
       "                 state  pct_obesity_up20years  cluster  \n",
       "0       AGUASCALIENTES              32.593387        0  \n",
       "1      BAJA CALIFORNIA              48.366995       -1  \n",
       "2  BAJA CALIFORNIA SUR              42.849118        0  \n",
       "3             CAMPECHE              44.903811        0  \n",
       "4             COAHUILA              37.606715        0  "
      ]
     },
     "execution_count": 65,
     "metadata": {},
     "output_type": "execute_result"
    }
   ],
   "source": [
    "df2.head()"
   ]
  },
  {
   "cell_type": "code",
   "execution_count": 66,
   "id": "2d90657f-7bd0-446f-bfda-909013aee93f",
   "metadata": {},
   "outputs": [
    {
     "data": {
      "image/png": "[encoded data removed]",
      "text/plain": [
       "<Figure size 1152x792 with 2 Axes>"
      ]
     },
     "metadata": {
      "needs_background": "light"
     },
     "output_type": "display_data"
    }
   ],
   "source": [
    "title = 'Obesity by State in Mexico'\n",
    "ax1 = df2.plot(column='cluster', \n",
    "#               cmap='OrRd',\n",
    "# color maps: https://matplotlib.org/stable/tutorials/colors/colormaps.html\n",
    "               cmap='Set1',\n",
    "               legend=True, \n",
    "               legend_kwds={'label': 'Cluster Number', \n",
    "                            'orientation': 'horizontal'},\n",
    "               figsize=(16, 11));\n",
    "ax1.set_title(title, fontsize=15);"
   ]
  },
  {
   "cell_type": "markdown",
   "id": "939b65ec-a8a7-49c4-891b-e9d52c941df9",
   "metadata": {},
   "source": [
    "### Calculate comorbilities (Hypertension) by State"
   ]
  },
  {
   "cell_type": "code",
   "execution_count": 67,
   "id": "bd10e2d2-854a-461d-b4da-eaf190253430",
   "metadata": {},
   "outputs": [],
   "source": [
    "hypertension_admin1 =All_admin1[[\"cve_ent\", \"state\", \"pct_hypertension_up20years\"]]"
   ]
  },
  {
   "cell_type": "code",
   "execution_count": 68,
   "id": "ce639fe3-2aac-4354-9507-af7febb9b933",
   "metadata": {},
   "outputs": [
    {
     "name": "stderr",
     "output_type": "stream",
     "text": [
      "<ipython-input-68-80ab304c1ba4>:1: SettingWithCopyWarning: \n",
      "A value is trying to be set on a copy of a slice from a DataFrame.\n",
      "Try using .loc[row_indexer,col_indexer] = value instead\n",
      "\n",
      "See the caveats in the documentation: https://pandas.pydata.org/pandas-docs/stable/user_guide/indexing.html#returning-a-view-versus-a-copy\n",
      "  hypertension_admin1['cve_ent'] = hypertension_admin1['cve_ent'].apply(lambda i: f'{i:05d}')\n"
     ]
    }
   ],
   "source": [
    "hypertension_admin1['cve_ent'] = hypertension_admin1['cve_ent'].apply(lambda i: f'{i:05d}')"
   ]
  },
  {
   "cell_type": "code",
   "execution_count": 69,
   "id": "e9c1ef08-f8cc-458a-bafc-4b227abb66a9",
   "metadata": {},
   "outputs": [],
   "source": [
    "dfd_admin1 = admin1.merge(hypertension_admin1, on='cve_ent')"
   ]
  },
  {
   "cell_type": "code",
   "execution_count": 70,
   "id": "0ad62b25-5781-4a81-b784-039bce364276",
   "metadata": {},
   "outputs": [],
   "source": [
    "a3 = dfd_admin1[['pct_hypertension_up20years']]"
   ]
  },
  {
   "cell_type": "code",
   "execution_count": 71,
   "id": "ced09d7a-5688-4558-b3e3-1111df9dd2a7",
   "metadata": {},
   "outputs": [
    {
     "data": {
      "text/html": [
       "<div>\n",
       "<style scoped>\n",
       "    .dataframe tbody tr th:only-of-type {\n",
       "        vertical-align: middle;\n",
       "    }\n",
       "\n",
       "    .dataframe tbody tr th {\n",
       "        vertical-align: top;\n",
       "    }\n",
       "\n",
       "    .dataframe thead th {\n",
       "        text-align: right;\n",
       "    }\n",
       "</style>\n",
       "<table border=\"1\" class=\"dataframe\">\n",
       "  <thead>\n",
       "    <tr style=\"text-align: right;\">\n",
       "      <th></th>\n",
       "      <th>0</th>\n",
       "    </tr>\n",
       "  </thead>\n",
       "  <tbody>\n",
       "    <tr>\n",
       "      <th>0</th>\n",
       "      <td>-0.889149</td>\n",
       "    </tr>\n",
       "    <tr>\n",
       "      <th>1</th>\n",
       "      <td>0.696219</td>\n",
       "    </tr>\n",
       "    <tr>\n",
       "      <th>2</th>\n",
       "      <td>-0.427564</td>\n",
       "    </tr>\n",
       "    <tr>\n",
       "      <th>3</th>\n",
       "      <td>1.978270</td>\n",
       "    </tr>\n",
       "    <tr>\n",
       "      <th>4</th>\n",
       "      <td>1.045570</td>\n",
       "    </tr>\n",
       "    <tr>\n",
       "      <th>5</th>\n",
       "      <td>-0.255126</td>\n",
       "    </tr>\n",
       "    <tr>\n",
       "      <th>6</th>\n",
       "      <td>-0.504005</td>\n",
       "    </tr>\n",
       "    <tr>\n",
       "      <th>7</th>\n",
       "      <td>1.097011</td>\n",
       "    </tr>\n",
       "    <tr>\n",
       "      <th>8</th>\n",
       "      <td>0.495071</td>\n",
       "    </tr>\n",
       "    <tr>\n",
       "      <th>9</th>\n",
       "      <td>0.505694</td>\n",
       "    </tr>\n",
       "  </tbody>\n",
       "</table>\n",
       "</div>"
      ],
      "text/plain": [
       "          0\n",
       "0 -0.889149\n",
       "1  0.696219\n",
       "2 -0.427564\n",
       "3  1.978270\n",
       "4  1.045570\n",
       "5 -0.255126\n",
       "6 -0.504005\n",
       "7  1.097011\n",
       "8  0.495071\n",
       "9  0.505694"
      ]
     },
     "execution_count": 71,
     "metadata": {},
     "output_type": "execute_result"
    }
   ],
   "source": [
    "#std_scaler = StandardScaler()\n",
    "std_scaler = RobustScaler()\n",
    "#std_scaler = MinMaxScaler()\n",
    "std_scaler\n",
    "# fit and transform the data\n",
    "Xd = pd.DataFrame(std_scaler.fit_transform(a3))\n",
    "\n",
    "Xd.head(10)"
   ]
  },
  {
   "cell_type": "code",
   "execution_count": 72,
   "id": "28e74e64-0a03-4d30-93ec-033a5fba63ac",
   "metadata": {},
   "outputs": [
    {
     "name": "stdout",
     "output_type": "stream",
     "text": [
      "Estimated number of clusters: 2\n",
      "Estimated number of noise points: 6\n",
      "Silhouette Coefficient: 0.387\n"
     ]
    }
   ],
   "source": [
    "# Compute DBSCAN\n",
    "db = DBSCAN(eps=0.25, min_samples=5).fit(Xd)\n",
    "core_samples_mask = np.zeros_like(db.labels_, dtype=bool)\n",
    "core_samples_mask[db.core_sample_indices_] = True\n",
    "labels = db.labels_\n",
    "#with np.printoptions(threshold=np.inf):\n",
    "#     print(labels)\n",
    "# Number of clusters in labels, ignoring noise if present.\n",
    "n_clusters_ = len(set(labels)) - (1 if -1 in labels else 0)\n",
    "n_noise_ = list(labels).count(-1)\n",
    "\n",
    "print('Estimated number of clusters: %d' % n_clusters_)\n",
    "print('Estimated number of noise points: %d' % n_noise_)\n",
    "print(\"Silhouette Coefficient: %0.3f\" % metrics.silhouette_score(Xd, labels))"
   ]
  },
  {
   "cell_type": "code",
   "execution_count": 73,
   "id": "e5d483b7-500b-4f16-9d0c-acad9385011d",
   "metadata": {},
   "outputs": [],
   "source": [
    "df_labels = pd.DataFrame(labels, columns=['cluster'])"
   ]
  },
  {
   "cell_type": "code",
   "execution_count": 74,
   "id": "d882de7b-bf8e-4d43-8d8c-8f86892c13c8",
   "metadata": {},
   "outputs": [],
   "source": [
    "df2 = pd.concat([dfd_admin1, df_labels], axis=1)"
   ]
  },
  {
   "cell_type": "code",
   "execution_count": 75,
   "id": "d2a663ba-c221-4f59-9e32-dd849227d1ee",
   "metadata": {},
   "outputs": [
    {
     "data": {
      "text/html": [
       "<div>\n",
       "<style scoped>\n",
       "    .dataframe tbody tr th:only-of-type {\n",
       "        vertical-align: middle;\n",
       "    }\n",
       "\n",
       "    .dataframe tbody tr th {\n",
       "        vertical-align: top;\n",
       "    }\n",
       "\n",
       "    .dataframe thead th {\n",
       "        text-align: right;\n",
       "    }\n",
       "</style>\n",
       "<table border=\"1\" class=\"dataframe\">\n",
       "  <thead>\n",
       "    <tr style=\"text-align: right;\">\n",
       "      <th></th>\n",
       "      <th>CVEGEO</th>\n",
       "      <th>cve_ent</th>\n",
       "      <th>NOMGEO</th>\n",
       "      <th>geometry</th>\n",
       "      <th>area_sqkm</th>\n",
       "      <th>state</th>\n",
       "      <th>pct_hypertension_up20years</th>\n",
       "      <th>cluster</th>\n",
       "    </tr>\n",
       "  </thead>\n",
       "  <tbody>\n",
       "    <tr>\n",
       "      <th>0</th>\n",
       "      <td>01</td>\n",
       "      <td>01000</td>\n",
       "      <td>Aguascalientes</td>\n",
       "      <td>POLYGON ((2470517.824 1155028.588, 2470552.248...</td>\n",
       "      <td>5558.673843</td>\n",
       "      <td>AGUASCALIENTES</td>\n",
       "      <td>14.700566</td>\n",
       "      <td>1</td>\n",
       "    </tr>\n",
       "    <tr>\n",
       "      <th>1</th>\n",
       "      <td>02</td>\n",
       "      <td>02000</td>\n",
       "      <td>Baja California</td>\n",
       "      <td>MULTIPOLYGON (((1493197.166 1849625.247, 14934...</td>\n",
       "      <td>73516.697324</td>\n",
       "      <td>BAJA CALIFORNIA</td>\n",
       "      <td>21.007712</td>\n",
       "      <td>0</td>\n",
       "    </tr>\n",
       "    <tr>\n",
       "      <th>2</th>\n",
       "      <td>03</td>\n",
       "      <td>03000</td>\n",
       "      <td>Baja California Sur</td>\n",
       "      <td>MULTIPOLYGON (((1694656.344 1227647.637, 16946...</td>\n",
       "      <td>73970.687326</td>\n",
       "      <td>BAJA CALIFORNIA SUR</td>\n",
       "      <td>16.536911</td>\n",
       "      <td>1</td>\n",
       "    </tr>\n",
       "    <tr>\n",
       "      <th>3</th>\n",
       "      <td>04</td>\n",
       "      <td>04000</td>\n",
       "      <td>Campeche</td>\n",
       "      <td>MULTIPOLYGON (((3544897.199 946994.621, 354491...</td>\n",
       "      <td>57254.511636</td>\n",
       "      <td>CAMPECHE</td>\n",
       "      <td>26.108154</td>\n",
       "      <td>-1</td>\n",
       "    </tr>\n",
       "    <tr>\n",
       "      <th>4</th>\n",
       "      <td>05</td>\n",
       "      <td>05000</td>\n",
       "      <td>Coahuila de Zaragoza</td>\n",
       "      <td>POLYGON ((2469954.193 1978522.993, 2469982.807...</td>\n",
       "      <td>150671.222986</td>\n",
       "      <td>COAHUILA</td>\n",
       "      <td>22.397551</td>\n",
       "      <td>0</td>\n",
       "    </tr>\n",
       "  </tbody>\n",
       "</table>\n",
       "</div>"
      ],
      "text/plain": [
       "  CVEGEO cve_ent                NOMGEO  \\\n",
       "0     01   01000        Aguascalientes   \n",
       "1     02   02000       Baja California   \n",
       "2     03   03000   Baja California Sur   \n",
       "3     04   04000              Campeche   \n",
       "4     05   05000  Coahuila de Zaragoza   \n",
       "\n",
       "                                            geometry      area_sqkm  \\\n",
       "0  POLYGON ((2470517.824 1155028.588, 2470552.248...    5558.673843   \n",
       "1  MULTIPOLYGON (((1493197.166 1849625.247, 14934...   73516.697324   \n",
       "2  MULTIPOLYGON (((1694656.344 1227647.637, 16946...   73970.687326   \n",
       "3  MULTIPOLYGON (((3544897.199 946994.621, 354491...   57254.511636   \n",
       "4  POLYGON ((2469954.193 1978522.993, 2469982.807...  150671.222986   \n",
       "\n",
       "                 state  pct_hypertension_up20years  cluster  \n",
       "0       AGUASCALIENTES                   14.700566        1  \n",
       "1      BAJA CALIFORNIA                   21.007712        0  \n",
       "2  BAJA CALIFORNIA SUR                   16.536911        1  \n",
       "3             CAMPECHE                   26.108154       -1  \n",
       "4             COAHUILA                   22.397551        0  "
      ]
     },
     "execution_count": 75,
     "metadata": {},
     "output_type": "execute_result"
    }
   ],
   "source": [
    "df2.head()"
   ]
  },
  {
   "cell_type": "code",
   "execution_count": 76,
   "id": "0a54030b-9c20-4d98-8b01-bdbf35a47ca3",
   "metadata": {},
   "outputs": [
    {
     "data": {
      "image/png": "[encoded data removed]",
      "text/plain": [
       "<Figure size 1152x792 with 2 Axes>"
      ]
     },
     "metadata": {
      "needs_background": "light"
     },
     "output_type": "display_data"
    }
   ],
   "source": [
    "title = 'Hypertension by State in Mexico'\n",
    "ax1 = df2.plot(column='cluster', \n",
    "#               cmap='OrRd',\n",
    "# color maps: https://matplotlib.org/stable/tutorials/colors/colormaps.html\n",
    "               cmap='Set1',\n",
    "               legend=True, \n",
    "               legend_kwds={'label': 'Cluster Number', \n",
    "                            'orientation': 'horizontal'},\n",
    "               figsize=(16, 11));\n",
    "ax1.set_title(title, fontsize=15);"
   ]
  },
  {
   "cell_type": "markdown",
   "id": "ebb7bd3a-6f2f-4fa3-8fe0-5717aaa3fe2a",
   "metadata": {},
   "source": [
    "### Calculate comorbilities (Diabetes) by State"
   ]
  },
  {
   "cell_type": "code",
   "execution_count": 77,
   "id": "3499589b-f545-452e-ad04-f7aca8f4e407",
   "metadata": {},
   "outputs": [],
   "source": [
    "diabetes_admin1 =All_admin1[[\"cve_ent\", \"state\", \"pct_diabetes_up20years\"]]"
   ]
  },
  {
   "cell_type": "code",
   "execution_count": 78,
   "id": "e86db2b6-9f4a-4319-8376-b1d22a02edae",
   "metadata": {},
   "outputs": [
    {
     "name": "stderr",
     "output_type": "stream",
     "text": [
      "<ipython-input-78-c19dea4d84b5>:1: SettingWithCopyWarning: \n",
      "A value is trying to be set on a copy of a slice from a DataFrame.\n",
      "Try using .loc[row_indexer,col_indexer] = value instead\n",
      "\n",
      "See the caveats in the documentation: https://pandas.pydata.org/pandas-docs/stable/user_guide/indexing.html#returning-a-view-versus-a-copy\n",
      "  diabetes_admin1['cve_ent'] = diabetes_admin1['cve_ent'].apply(lambda i: f'{i:05d}')\n"
     ]
    }
   ],
   "source": [
    "diabetes_admin1['cve_ent'] = diabetes_admin1['cve_ent'].apply(lambda i: f'{i:05d}')"
   ]
  },
  {
   "cell_type": "code",
   "execution_count": 79,
   "id": "6fd4008e-1ecc-4044-bd9b-7a66611dd978",
   "metadata": {},
   "outputs": [],
   "source": [
    "dfd_admin1 = admin1.merge(diabetes_admin1, on='cve_ent')"
   ]
  },
  {
   "cell_type": "code",
   "execution_count": 80,
   "id": "cd9044a8-2abb-4627-8991-7c9d2e56ede4",
   "metadata": {},
   "outputs": [],
   "source": [
    "a3 = dfd_admin1[['pct_diabetes_up20years']]"
   ]
  },
  {
   "cell_type": "code",
   "execution_count": 81,
   "id": "f17d0693-4818-42a1-b554-b29146133d1c",
   "metadata": {},
   "outputs": [
    {
     "data": {
      "text/html": [
       "<div>\n",
       "<style scoped>\n",
       "    .dataframe tbody tr th:only-of-type {\n",
       "        vertical-align: middle;\n",
       "    }\n",
       "\n",
       "    .dataframe tbody tr th {\n",
       "        vertical-align: top;\n",
       "    }\n",
       "\n",
       "    .dataframe thead th {\n",
       "        text-align: right;\n",
       "    }\n",
       "</style>\n",
       "<table border=\"1\" class=\"dataframe\">\n",
       "  <thead>\n",
       "    <tr style=\"text-align: right;\">\n",
       "      <th></th>\n",
       "      <th>0</th>\n",
       "    </tr>\n",
       "  </thead>\n",
       "  <tbody>\n",
       "    <tr>\n",
       "      <th>0</th>\n",
       "      <td>-1.136044</td>\n",
       "    </tr>\n",
       "    <tr>\n",
       "      <th>1</th>\n",
       "      <td>-0.257382</td>\n",
       "    </tr>\n",
       "    <tr>\n",
       "      <th>2</th>\n",
       "      <td>-0.840559</td>\n",
       "    </tr>\n",
       "    <tr>\n",
       "      <th>3</th>\n",
       "      <td>1.207947</td>\n",
       "    </tr>\n",
       "    <tr>\n",
       "      <th>4</th>\n",
       "      <td>0.603328</td>\n",
       "    </tr>\n",
       "    <tr>\n",
       "      <th>5</th>\n",
       "      <td>0.052348</td>\n",
       "    </tr>\n",
       "    <tr>\n",
       "      <th>6</th>\n",
       "      <td>-1.051067</td>\n",
       "    </tr>\n",
       "    <tr>\n",
       "      <th>7</th>\n",
       "      <td>-0.520719</td>\n",
       "    </tr>\n",
       "    <tr>\n",
       "      <th>8</th>\n",
       "      <td>0.720222</td>\n",
       "    </tr>\n",
       "    <tr>\n",
       "      <th>9</th>\n",
       "      <td>0.078843</td>\n",
       "    </tr>\n",
       "  </tbody>\n",
       "</table>\n",
       "</div>"
      ],
      "text/plain": [
       "          0\n",
       "0 -1.136044\n",
       "1 -0.257382\n",
       "2 -0.840559\n",
       "3  1.207947\n",
       "4  0.603328\n",
       "5  0.052348\n",
       "6 -1.051067\n",
       "7 -0.520719\n",
       "8  0.720222\n",
       "9  0.078843"
      ]
     },
     "execution_count": 81,
     "metadata": {},
     "output_type": "execute_result"
    }
   ],
   "source": [
    "#std_scaler = StandardScaler()\n",
    "std_scaler = RobustScaler()\n",
    "#std_scaler = MinMaxScaler()\n",
    "std_scaler\n",
    "# fit and transform the data\n",
    "Xd = pd.DataFrame(std_scaler.fit_transform(a3))\n",
    "\n",
    "Xd.head(10)"
   ]
  },
  {
   "cell_type": "code",
   "execution_count": 82,
   "id": "a5e7b1df-64ac-4baa-8640-03fe9bab4e03",
   "metadata": {},
   "outputs": [
    {
     "name": "stdout",
     "output_type": "stream",
     "text": [
      "Estimated number of clusters: 3\n",
      "Estimated number of noise points: 1\n",
      "Silhouette Coefficient: 0.556\n"
     ]
    }
   ],
   "source": [
    "# Compute DBSCAN\n",
    "db = DBSCAN(eps=0.25, min_samples=5).fit(Xd)\n",
    "core_samples_mask = np.zeros_like(db.labels_, dtype=bool)\n",
    "core_samples_mask[db.core_sample_indices_] = True\n",
    "labels = db.labels_\n",
    "#with np.printoptions(threshold=np.inf):\n",
    "#     print(labels)\n",
    "# Number of clusters in labels, ignoring noise if present.\n",
    "n_clusters_ = len(set(labels)) - (1 if -1 in labels else 0)\n",
    "n_noise_ = list(labels).count(-1)\n",
    "\n",
    "print('Estimated number of clusters: %d' % n_clusters_)\n",
    "print('Estimated number of noise points: %d' % n_noise_)\n",
    "print(\"Silhouette Coefficient: %0.3f\" % metrics.silhouette_score(Xd, labels))"
   ]
  },
  {
   "cell_type": "code",
   "execution_count": 83,
   "id": "aa4ae41a-67fa-4087-8c14-22a2492ff2da",
   "metadata": {},
   "outputs": [],
   "source": [
    "df_labels = pd.DataFrame(labels, columns=['cluster'])"
   ]
  },
  {
   "cell_type": "code",
   "execution_count": 84,
   "id": "75a1d8fd-f271-4023-8923-48b42d0a1c5e",
   "metadata": {},
   "outputs": [],
   "source": [
    "df2 = pd.concat([dfd_admin1, df_labels], axis=1)"
   ]
  },
  {
   "cell_type": "code",
   "execution_count": 85,
   "id": "d14893f7-a55a-4183-91bd-6cd464710541",
   "metadata": {},
   "outputs": [
    {
     "data": {
      "text/html": [
       "<div>\n",
       "<style scoped>\n",
       "    .dataframe tbody tr th:only-of-type {\n",
       "        vertical-align: middle;\n",
       "    }\n",
       "\n",
       "    .dataframe tbody tr th {\n",
       "        vertical-align: top;\n",
       "    }\n",
       "\n",
       "    .dataframe thead th {\n",
       "        text-align: right;\n",
       "    }\n",
       "</style>\n",
       "<table border=\"1\" class=\"dataframe\">\n",
       "  <thead>\n",
       "    <tr style=\"text-align: right;\">\n",
       "      <th></th>\n",
       "      <th>CVEGEO</th>\n",
       "      <th>cve_ent</th>\n",
       "      <th>NOMGEO</th>\n",
       "      <th>geometry</th>\n",
       "      <th>area_sqkm</th>\n",
       "      <th>state</th>\n",
       "      <th>pct_diabetes_up20years</th>\n",
       "      <th>cluster</th>\n",
       "    </tr>\n",
       "  </thead>\n",
       "  <tbody>\n",
       "    <tr>\n",
       "      <th>0</th>\n",
       "      <td>01</td>\n",
       "      <td>01000</td>\n",
       "      <td>Aguascalientes</td>\n",
       "      <td>POLYGON ((2470517.824 1155028.588, 2470552.248...</td>\n",
       "      <td>5558.673843</td>\n",
       "      <td>AGUASCALIENTES</td>\n",
       "      <td>7.556478</td>\n",
       "      <td>0</td>\n",
       "    </tr>\n",
       "    <tr>\n",
       "      <th>1</th>\n",
       "      <td>02</td>\n",
       "      <td>02000</td>\n",
       "      <td>Baja California</td>\n",
       "      <td>MULTIPOLYGON (((1493197.166 1849625.247, 14934...</td>\n",
       "      <td>73516.697324</td>\n",
       "      <td>BAJA CALIFORNIA</td>\n",
       "      <td>9.974848</td>\n",
       "      <td>1</td>\n",
       "    </tr>\n",
       "    <tr>\n",
       "      <th>2</th>\n",
       "      <td>03</td>\n",
       "      <td>03000</td>\n",
       "      <td>Baja California Sur</td>\n",
       "      <td>MULTIPOLYGON (((1694656.344 1227647.637, 16946...</td>\n",
       "      <td>73970.687326</td>\n",
       "      <td>BAJA CALIFORNIA SUR</td>\n",
       "      <td>8.369750</td>\n",
       "      <td>0</td>\n",
       "    </tr>\n",
       "    <tr>\n",
       "      <th>3</th>\n",
       "      <td>04</td>\n",
       "      <td>04000</td>\n",
       "      <td>Campeche</td>\n",
       "      <td>MULTIPOLYGON (((3544897.199 946994.621, 354491...</td>\n",
       "      <td>57254.511636</td>\n",
       "      <td>CAMPECHE</td>\n",
       "      <td>14.007917</td>\n",
       "      <td>-1</td>\n",
       "    </tr>\n",
       "    <tr>\n",
       "      <th>4</th>\n",
       "      <td>05</td>\n",
       "      <td>05000</td>\n",
       "      <td>Coahuila de Zaragoza</td>\n",
       "      <td>POLYGON ((2469954.193 1978522.993, 2469982.807...</td>\n",
       "      <td>150671.222986</td>\n",
       "      <td>COAHUILA</td>\n",
       "      <td>12.343806</td>\n",
       "      <td>2</td>\n",
       "    </tr>\n",
       "  </tbody>\n",
       "</table>\n",
       "</div>"
      ],
      "text/plain": [
       "  CVEGEO cve_ent                NOMGEO  \\\n",
       "0     01   01000        Aguascalientes   \n",
       "1     02   02000       Baja California   \n",
       "2     03   03000   Baja California Sur   \n",
       "3     04   04000              Campeche   \n",
       "4     05   05000  Coahuila de Zaragoza   \n",
       "\n",
       "                                            geometry      area_sqkm  \\\n",
       "0  POLYGON ((2470517.824 1155028.588, 2470552.248...    5558.673843   \n",
       "1  MULTIPOLYGON (((1493197.166 1849625.247, 14934...   73516.697324   \n",
       "2  MULTIPOLYGON (((1694656.344 1227647.637, 16946...   73970.687326   \n",
       "3  MULTIPOLYGON (((3544897.199 946994.621, 354491...   57254.511636   \n",
       "4  POLYGON ((2469954.193 1978522.993, 2469982.807...  150671.222986   \n",
       "\n",
       "                 state  pct_diabetes_up20years  cluster  \n",
       "0       AGUASCALIENTES                7.556478        0  \n",
       "1      BAJA CALIFORNIA                9.974848        1  \n",
       "2  BAJA CALIFORNIA SUR                8.369750        0  \n",
       "3             CAMPECHE               14.007917       -1  \n",
       "4             COAHUILA               12.343806        2  "
      ]
     },
     "execution_count": 85,
     "metadata": {},
     "output_type": "execute_result"
    }
   ],
   "source": [
    "df2.head()"
   ]
  },
  {
   "cell_type": "code",
   "execution_count": 86,
   "id": "51d37068-0943-46fd-a9b9-6bf37dc3a562",
   "metadata": {},
   "outputs": [
    {
     "data": {
      "image/png": "[encoded data removed]",
      "text/plain": [
       "<Figure size 1152x792 with 2 Axes>"
      ]
     },
     "metadata": {
      "needs_background": "light"
     },
     "output_type": "display_data"
    }
   ],
   "source": [
    "title = 'Diabetes by State in Mexico'\n",
    "ax1 = df2.plot(column='cluster', \n",
    "#               cmap='OrRd',\n",
    "# color maps: https://matplotlib.org/stable/tutorials/colors/colormaps.html\n",
    "               cmap='Set1',\n",
    "               legend=True, \n",
    "               legend_kwds={'label': 'Cluster Number', \n",
    "                            'orientation': 'horizontal'},\n",
    "               figsize=(16, 11));\n",
    "ax1.set_title(title, fontsize=15);"
   ]
  }
 ],
 "metadata": {
  "kernelspec": {
   "display_name": "Python 3",
   "language": "python",
   "name": "python3"
  },
  "language_info": {
   "codemirror_mode": {
    "name": "ipython",
    "version": 3
   },
   "file_extension": ".py",
   "mimetype": "text/x-python",
   "name": "python",
   "nbconvert_exporter": "python",
   "pygments_lexer": "ipython3",
   "version": "3.9.5"
  }
 },
 "nbformat": 4,
 "nbformat_minor": 5
}
