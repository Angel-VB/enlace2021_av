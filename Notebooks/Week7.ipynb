{
 "cells": [
  {
   "cell_type": "markdown",
   "id": "a4b305cc-142a-4f05-ba41-53ea4bb5b1b3",
   "metadata": {},
   "source": [
    "# SARS-CoV-2 Variants in Mexico\n",
    "\n",
    "This Notebook downloads a standarized dataframe for State level (admin1) SARS-CoV-2 variants derived from [CNCB](https://ngdc.cncb.ac.cn/ncov/release_genome):\n",
    "\n",
    "For details how these dataframe was created, see the [sars-cov-2-variants](https://github.com/sbl-sdsc/sars-cov-2-variants) GitHub project."
   ]
  },
  {
   "cell_type": "code",
   "execution_count": 1,
   "id": "f351c5d3-22c6-4644-a8e5-76aff5b5ca51",
   "metadata": {},
   "outputs": [],
   "source": [
    "import pandas as pd\n",
    "import ipywidgets as widgets\n",
    "import numpy as np\n",
    "import matplotlib.pyplot as plt\n",
    "import seaborn as sns\n",
    "import ipywidgets as widgets\n",
    "\n",
    "%matplotlib inline\n",
    "%reload_ext autoreload\n",
    "%autoreload 2"
   ]
  },
  {
   "cell_type": "code",
   "execution_count": 2,
   "id": "9ab7f145-ac0b-499b-9f89-8591f343c05a",
   "metadata": {},
   "outputs": [],
   "source": [
    "pd.options.display.max_rows = None  # display all rows\n",
    "pd.options.display.max_columns = None  # display all columsns"
   ]
  },
  {
   "cell_type": "markdown",
   "id": "583b8ecd-adcc-41a6-a1f9-13ee35eea81d",
   "metadata": {},
   "source": [
    "## Read SARS-CoV-2 variant data for Mexico"
   ]
  },
  {
   "cell_type": "code",
   "execution_count": 3,
   "id": "ced43c74-8a25-4d80-933e-e84ecea69c1e",
   "metadata": {},
   "outputs": [],
   "source": [
    "url = 'https://raw.githubusercontent.com/sbl-sdsc/sars-cov-2-variants/main/data/variants.parquet'"
   ]
  },
  {
   "cell_type": "code",
   "execution_count": 4,
   "id": "4ea8d94e-2e6b-4727-b313-c9a8a3ca37a2",
   "metadata": {},
   "outputs": [],
   "source": [
    "df = pd.read_parquet(url, columns=['name','lineage','location','collectionDate'])"
   ]
  },
  {
   "cell_type": "code",
   "execution_count": 5,
   "id": "4cb118f2-ef5d-42ba-a39e-7ca6675a3cd5",
   "metadata": {},
   "outputs": [
    {
     "name": "stdout",
     "output_type": "stream",
     "text": [
      "(2764634, 4)\n"
     ]
    },
    {
     "data": {
      "text/html": [
       "<div>\n",
       "<style scoped>\n",
       "    .dataframe tbody tr th:only-of-type {\n",
       "        vertical-align: middle;\n",
       "    }\n",
       "\n",
       "    .dataframe tbody tr th {\n",
       "        vertical-align: top;\n",
       "    }\n",
       "\n",
       "    .dataframe thead th {\n",
       "        text-align: right;\n",
       "    }\n",
       "</style>\n",
       "<table border=\"1\" class=\"dataframe\">\n",
       "  <thead>\n",
       "    <tr style=\"text-align: right;\">\n",
       "      <th></th>\n",
       "      <th>name</th>\n",
       "      <th>lineage</th>\n",
       "      <th>location</th>\n",
       "      <th>collectionDate</th>\n",
       "    </tr>\n",
       "  </thead>\n",
       "  <tbody>\n",
       "    <tr>\n",
       "      <th>0</th>\n",
       "      <td>BetaCoV/Wuhan/HBCDC-HB-01/2019</td>\n",
       "      <td>B.1.36.10</td>\n",
       "      <td>China / Hubei</td>\n",
       "      <td>2019-12-30</td>\n",
       "    </tr>\n",
       "    <tr>\n",
       "      <th>1</th>\n",
       "      <td>hCoV-19/Thailand/74/2020</td>\n",
       "      <td>B</td>\n",
       "      <td>Thailand/ Nonthaburi Province</td>\n",
       "      <td>2020-01-13</td>\n",
       "    </tr>\n",
       "    <tr>\n",
       "      <th>2</th>\n",
       "      <td>hCoV-19/Thailand/61/2020</td>\n",
       "      <td>B</td>\n",
       "      <td>Thailand/ Nonthaburi Province</td>\n",
       "      <td>2020-01-08</td>\n",
       "    </tr>\n",
       "    <tr>\n",
       "      <th>3</th>\n",
       "      <td>BetaCoV/Wuhan/IVDC-HB-04/2020</td>\n",
       "      <td>B</td>\n",
       "      <td>China / Hubei / Wuhan</td>\n",
       "      <td>2020-01-01</td>\n",
       "    </tr>\n",
       "    <tr>\n",
       "      <th>4</th>\n",
       "      <td>BetaCoV/Wuhan/IVDC-HB-01/2019</td>\n",
       "      <td>B</td>\n",
       "      <td>China / Hubei / Wuhan</td>\n",
       "      <td>2019-12-30</td>\n",
       "    </tr>\n",
       "  </tbody>\n",
       "</table>\n",
       "</div>"
      ],
      "text/plain": [
       "                             name    lineage                       location  \\\n",
       "0  BetaCoV/Wuhan/HBCDC-HB-01/2019  B.1.36.10                  China / Hubei   \n",
       "1        hCoV-19/Thailand/74/2020          B  Thailand/ Nonthaburi Province   \n",
       "2        hCoV-19/Thailand/61/2020          B  Thailand/ Nonthaburi Province   \n",
       "3   BetaCoV/Wuhan/IVDC-HB-04/2020          B          China / Hubei / Wuhan   \n",
       "4   BetaCoV/Wuhan/IVDC-HB-01/2019          B          China / Hubei / Wuhan   \n",
       "\n",
       "  collectionDate  \n",
       "0     2019-12-30  \n",
       "1     2020-01-13  \n",
       "2     2020-01-08  \n",
       "3     2020-01-01  \n",
       "4     2019-12-30  "
      ]
     },
     "execution_count": 5,
     "metadata": {},
     "output_type": "execute_result"
    }
   ],
   "source": [
    "print(df.shape)\n",
    "df.head()"
   ]
  },
  {
   "cell_type": "markdown",
   "id": "eeb914c6-33e9-4b7c-84e1-e4e6fa838322",
   "metadata": {},
   "source": [
    "Split location into components"
   ]
  },
  {
   "cell_type": "code",
   "execution_count": 6,
   "id": "6d8e5a31-c9b3-4866-a6a0-e0ad9e6013bd",
   "metadata": {},
   "outputs": [],
   "source": [
    "df[['loc0', 'loc1', 'loc2', 'loc3']] = df['location'].str.split('/', n=3, expand=True)\n",
    "# strip white space\n",
    "df = df.apply(lambda x: x.str.strip() if x.dtype == \"object\" else x)\n",
    "df.fillna('', inplace=True)"
   ]
  },
  {
   "cell_type": "markdown",
   "id": "3779d333-ad03-479c-9090-5eeee0881a37",
   "metadata": {},
   "source": [
    "We use a query to filter the data so that only the Mexico related data is obtanied"
   ]
  },
  {
   "cell_type": "code",
   "execution_count": 7,
   "id": "69f11bfd-ad43-45e4-91c9-aab9b1ec2e5f",
   "metadata": {},
   "outputs": [],
   "source": [
    "dfm = df.query('loc0 == \"Mexico\"').copy()"
   ]
  },
  {
   "cell_type": "code",
   "execution_count": 8,
   "id": "91d00d85-ca11-406e-9031-0f77276f903b",
   "metadata": {},
   "outputs": [
    {
     "name": "stdout",
     "output_type": "stream",
     "text": [
      "(18563, 8)\n"
     ]
    },
    {
     "data": {
      "text/html": [
       "<div>\n",
       "<style scoped>\n",
       "    .dataframe tbody tr th:only-of-type {\n",
       "        vertical-align: middle;\n",
       "    }\n",
       "\n",
       "    .dataframe tbody tr th {\n",
       "        vertical-align: top;\n",
       "    }\n",
       "\n",
       "    .dataframe thead th {\n",
       "        text-align: right;\n",
       "    }\n",
       "</style>\n",
       "<table border=\"1\" class=\"dataframe\">\n",
       "  <thead>\n",
       "    <tr style=\"text-align: right;\">\n",
       "      <th></th>\n",
       "      <th>name</th>\n",
       "      <th>lineage</th>\n",
       "      <th>location</th>\n",
       "      <th>collectionDate</th>\n",
       "      <th>loc0</th>\n",
       "      <th>loc1</th>\n",
       "      <th>loc2</th>\n",
       "      <th>loc3</th>\n",
       "    </tr>\n",
       "  </thead>\n",
       "  <tbody>\n",
       "    <tr>\n",
       "      <th>241</th>\n",
       "      <td>hCoV-19/Mexico/CDMX-InDRE_01/2020</td>\n",
       "      <td>B.1.1</td>\n",
       "      <td>Mexico / Mexico City</td>\n",
       "      <td>2020-02-27</td>\n",
       "      <td>Mexico</td>\n",
       "      <td>Mexico City</td>\n",
       "      <td></td>\n",
       "      <td></td>\n",
       "    </tr>\n",
       "    <tr>\n",
       "      <th>6761</th>\n",
       "      <td>hCoV-19/Mexico/CDMX-INER_01/2020</td>\n",
       "      <td>B.1.234</td>\n",
       "      <td>Mexico / Mexico City</td>\n",
       "      <td>2020-03-12</td>\n",
       "      <td>Mexico</td>\n",
       "      <td>Mexico City</td>\n",
       "      <td></td>\n",
       "      <td></td>\n",
       "    </tr>\n",
       "    <tr>\n",
       "      <th>6764</th>\n",
       "      <td>hCoV-19/Mexico/CDMX-INER_02/2020</td>\n",
       "      <td>B.1</td>\n",
       "      <td>Mexico / Mexico City</td>\n",
       "      <td>2020-03-13</td>\n",
       "      <td>Mexico</td>\n",
       "      <td>Mexico City</td>\n",
       "      <td></td>\n",
       "      <td></td>\n",
       "    </tr>\n",
       "    <tr>\n",
       "      <th>7028</th>\n",
       "      <td>hCoV-19/Mexico/CDMX-INER_03/2020</td>\n",
       "      <td>B</td>\n",
       "      <td>Mexico / Mexico City</td>\n",
       "      <td>2020-03-13</td>\n",
       "      <td>Mexico</td>\n",
       "      <td>Mexico City</td>\n",
       "      <td></td>\n",
       "      <td></td>\n",
       "    </tr>\n",
       "    <tr>\n",
       "      <th>7029</th>\n",
       "      <td>hCoV-19/Mexico/CDMX-INER_04/2020</td>\n",
       "      <td>B.1.201</td>\n",
       "      <td>Mexico / Mexico City</td>\n",
       "      <td>2020-03-15</td>\n",
       "      <td>Mexico</td>\n",
       "      <td>Mexico City</td>\n",
       "      <td></td>\n",
       "      <td></td>\n",
       "    </tr>\n",
       "  </tbody>\n",
       "</table>\n",
       "</div>"
      ],
      "text/plain": [
       "                                   name  lineage              location  \\\n",
       "241   hCoV-19/Mexico/CDMX-InDRE_01/2020    B.1.1  Mexico / Mexico City   \n",
       "6761   hCoV-19/Mexico/CDMX-INER_01/2020  B.1.234  Mexico / Mexico City   \n",
       "6764   hCoV-19/Mexico/CDMX-INER_02/2020      B.1  Mexico / Mexico City   \n",
       "7028   hCoV-19/Mexico/CDMX-INER_03/2020        B  Mexico / Mexico City   \n",
       "7029   hCoV-19/Mexico/CDMX-INER_04/2020  B.1.201  Mexico / Mexico City   \n",
       "\n",
       "     collectionDate    loc0         loc1 loc2 loc3  \n",
       "241      2020-02-27  Mexico  Mexico City            \n",
       "6761     2020-03-12  Mexico  Mexico City            \n",
       "6764     2020-03-13  Mexico  Mexico City            \n",
       "7028     2020-03-13  Mexico  Mexico City            \n",
       "7029     2020-03-15  Mexico  Mexico City            "
      ]
     },
     "execution_count": 8,
     "metadata": {},
     "output_type": "execute_result"
    }
   ],
   "source": [
    "print(dfm.shape)\n",
    "dfm.head()"
   ]
  },
  {
   "cell_type": "markdown",
   "id": "d5400cb1-085a-42db-922f-f3fc527d3774",
   "metadata": {},
   "source": [
    "The State (loc1) and Municiplaty (loc2) columns are clean to the original denominations of each one of the values that conform them"
   ]
  },
  {
   "cell_type": "code",
   "execution_count": 9,
   "id": "18aac0b2-406d-40ca-b602-f9d84baf05b2",
   "metadata": {},
   "outputs": [],
   "source": [
    "dfm['loc1'].replace({'BC': \"Baja California\"}, inplace=True)\n",
    "dfm['loc1'].replace({'B.C.': \"Baja California\"}, inplace=True)\n",
    "dfm['loc1'].replace({'Baja Califoria Sur': \"Baja California Sur\"}, inplace=True)\n",
    "dfm['loc1'].replace({'BCS': \"Baja California Sur\"}, inplace=True)\n",
    "dfm['loc1'].replace({'Tijuana': \"Baja California\"}, inplace=True)\n",
    "dfm['loc2'].replace({'BajaCalifornia': \"Tijuana\"}, inplace=True)\n",
    "dfm['loc1'].replace({'Mexico City': \"Ciudad de Mexico\"}, inplace=True)\n",
    "dfm['loc1'].replace({'CDMX': \"Ciudad de Mexico\"}, inplace=True)\n",
    "dfm['loc1'].replace({'State of Mexico': \"Mexico\"}, inplace=True)\n",
    "dfm['loc1'].replace({'Mexico State': \"Mexico\"}, inplace=True)\n",
    "dfm['loc1'].replace({'Estado de Mexico': \"Mexico\"}, inplace=True)\n",
    "dfm['loc1'].replace({'Edomex': \"Mexico\"}, inplace=True)\n",
    "dfm['loc1'].replace({'Distrito Federal': \"Ciudad de Mexico\"}, inplace=True)\n",
    "dfm['loc1'].replace({'Yucat??n': \"Yucatan\"}, inplace=True)\n",
    "dfm['loc1'].replace({'Yucat?n': \"Yucatan\"}, inplace=True)\n",
    "dfm['loc1'].replace({'Tamaullipas': \"Tamaulipas\"}, inplace=True)\n",
    "dfm['loc1'].replace({'Ganajuato': \"Guanajuato\"}, inplace=True)\n",
    "dfm['loc1'].replace({'Michocan': \"Michoacan\"}, inplace=True)\n",
    "dfm['loc1'].replace({'QuintanaRoo': \"Quintana Roo\"}, inplace=True)"
   ]
  },
  {
   "cell_type": "code",
   "execution_count": 10,
   "id": "a63e3fde-d649-4e35-8b21-673d8d6b9e37",
   "metadata": {},
   "outputs": [
    {
     "data": {
      "text/html": [
       "<div>\n",
       "<style scoped>\n",
       "    .dataframe tbody tr th:only-of-type {\n",
       "        vertical-align: middle;\n",
       "    }\n",
       "\n",
       "    .dataframe tbody tr th {\n",
       "        vertical-align: top;\n",
       "    }\n",
       "\n",
       "    .dataframe thead th {\n",
       "        text-align: right;\n",
       "    }\n",
       "</style>\n",
       "<table border=\"1\" class=\"dataframe\">\n",
       "  <thead>\n",
       "    <tr style=\"text-align: right;\">\n",
       "      <th></th>\n",
       "      <th>name</th>\n",
       "      <th>lineage</th>\n",
       "      <th>location</th>\n",
       "      <th>collectionDate</th>\n",
       "      <th>loc0</th>\n",
       "      <th>loc1</th>\n",
       "      <th>loc2</th>\n",
       "      <th>loc3</th>\n",
       "    </tr>\n",
       "  </thead>\n",
       "  <tbody>\n",
       "    <tr>\n",
       "      <th>241</th>\n",
       "      <td>hCoV-19/Mexico/CDMX-InDRE_01/2020</td>\n",
       "      <td>B.1.1</td>\n",
       "      <td>Mexico / Mexico City</td>\n",
       "      <td>2020-02-27</td>\n",
       "      <td>Mexico</td>\n",
       "      <td>Ciudad de Mexico</td>\n",
       "      <td></td>\n",
       "      <td></td>\n",
       "    </tr>\n",
       "    <tr>\n",
       "      <th>6761</th>\n",
       "      <td>hCoV-19/Mexico/CDMX-INER_01/2020</td>\n",
       "      <td>B.1.234</td>\n",
       "      <td>Mexico / Mexico City</td>\n",
       "      <td>2020-03-12</td>\n",
       "      <td>Mexico</td>\n",
       "      <td>Ciudad de Mexico</td>\n",
       "      <td></td>\n",
       "      <td></td>\n",
       "    </tr>\n",
       "    <tr>\n",
       "      <th>6764</th>\n",
       "      <td>hCoV-19/Mexico/CDMX-INER_02/2020</td>\n",
       "      <td>B.1</td>\n",
       "      <td>Mexico / Mexico City</td>\n",
       "      <td>2020-03-13</td>\n",
       "      <td>Mexico</td>\n",
       "      <td>Ciudad de Mexico</td>\n",
       "      <td></td>\n",
       "      <td></td>\n",
       "    </tr>\n",
       "    <tr>\n",
       "      <th>7028</th>\n",
       "      <td>hCoV-19/Mexico/CDMX-INER_03/2020</td>\n",
       "      <td>B</td>\n",
       "      <td>Mexico / Mexico City</td>\n",
       "      <td>2020-03-13</td>\n",
       "      <td>Mexico</td>\n",
       "      <td>Ciudad de Mexico</td>\n",
       "      <td></td>\n",
       "      <td></td>\n",
       "    </tr>\n",
       "    <tr>\n",
       "      <th>7029</th>\n",
       "      <td>hCoV-19/Mexico/CDMX-INER_04/2020</td>\n",
       "      <td>B.1.201</td>\n",
       "      <td>Mexico / Mexico City</td>\n",
       "      <td>2020-03-15</td>\n",
       "      <td>Mexico</td>\n",
       "      <td>Ciudad de Mexico</td>\n",
       "      <td></td>\n",
       "      <td></td>\n",
       "    </tr>\n",
       "  </tbody>\n",
       "</table>\n",
       "</div>"
      ],
      "text/plain": [
       "                                   name  lineage              location  \\\n",
       "241   hCoV-19/Mexico/CDMX-InDRE_01/2020    B.1.1  Mexico / Mexico City   \n",
       "6761   hCoV-19/Mexico/CDMX-INER_01/2020  B.1.234  Mexico / Mexico City   \n",
       "6764   hCoV-19/Mexico/CDMX-INER_02/2020      B.1  Mexico / Mexico City   \n",
       "7028   hCoV-19/Mexico/CDMX-INER_03/2020        B  Mexico / Mexico City   \n",
       "7029   hCoV-19/Mexico/CDMX-INER_04/2020  B.1.201  Mexico / Mexico City   \n",
       "\n",
       "     collectionDate    loc0              loc1 loc2 loc3  \n",
       "241      2020-02-27  Mexico  Ciudad de Mexico            \n",
       "6761     2020-03-12  Mexico  Ciudad de Mexico            \n",
       "6764     2020-03-13  Mexico  Ciudad de Mexico            \n",
       "7028     2020-03-13  Mexico  Ciudad de Mexico            \n",
       "7029     2020-03-15  Mexico  Ciudad de Mexico            "
      ]
     },
     "execution_count": 10,
     "metadata": {},
     "output_type": "execute_result"
    }
   ],
   "source": [
    "dfm.head()"
   ]
  },
  {
   "cell_type": "markdown",
   "id": "1c8a8cfc-90cf-43ab-9881-a356b13f4085",
   "metadata": {},
   "source": [
    "A query is apply so that only the data that is older than 7/31/2021 is used"
   ]
  },
  {
   "cell_type": "code",
   "execution_count": 11,
   "id": "54c5c618-7641-4528-a4c8-a3b53daee75f",
   "metadata": {},
   "outputs": [],
   "source": [
    "dfm.query('collectionDate < \"2021-07-31\"', inplace=True)"
   ]
  },
  {
   "cell_type": "markdown",
   "id": "f80a8962-1841-4cc4-9a4b-03eeb4c0386f",
   "metadata": {},
   "source": [
    "The state names are obtain for the creation of a state selection widget"
   ]
  },
  {
   "cell_type": "code",
   "execution_count": 12,
   "id": "d2c46ae4-8989-453a-bdf7-b9671bea7e74",
   "metadata": {},
   "outputs": [],
   "source": [
    "states = dfm['loc1'].unique()\n",
    "states.sort()\n",
    "states = states[1:].copy()\n",
    "states = np.append('Estados Unidos Mexicanos',states)"
   ]
  },
  {
   "cell_type": "markdown",
   "id": "466adcbc-c21f-485e-b499-680cbb64d95c",
   "metadata": {},
   "source": [
    "To pick another State to plot is neccesary to run the code only from the next cell"
   ]
  },
  {
   "cell_type": "code",
   "execution_count": 13,
   "id": "ff8dc14b-795c-4ab0-ad51-d4765ee99f5e",
   "metadata": {},
   "outputs": [],
   "source": [
    "states_widget = widgets.Dropdown(options=states, description='Select state:',value='Estados Unidos Mexicanos')"
   ]
  },
  {
   "cell_type": "markdown",
   "id": "7a8c28ec-3c1e-4879-b878-ef30e8a53f42",
   "metadata": {},
   "source": [
    "After running the next cell is neccesary to pick the state of interest and keep running the code"
   ]
  },
  {
   "cell_type": "code",
   "execution_count": 14,
   "id": "fe6abbbd-dd23-45f3-89ac-50a350032c71",
   "metadata": {},
   "outputs": [
    {
     "data": {
      "application/vnd.jupyter.widget-view+json": {
       "model_id": "1ca06d76b29f4541ad80c86768cdccd0",
       "version_major": 2,
       "version_minor": 0
      },
      "text/plain": [
       "Dropdown(description='Select state:', options=('Estados Unidos Mexicanos', 'Aguascalientes', 'Baja California'…"
      ]
     },
     "metadata": {},
     "output_type": "display_data"
    }
   ],
   "source": [
    "display(states_widget)"
   ]
  },
  {
   "cell_type": "code",
   "execution_count": 15,
   "id": "2c76c053-54a8-43e9-9e2f-560db8c07e00",
   "metadata": {},
   "outputs": [],
   "source": [
    "states_widget = states_widget.value"
   ]
  },
  {
   "cell_type": "markdown",
   "id": "bcb1fb58-494b-4170-abdb-ea04020208d7",
   "metadata": {},
   "source": [
    "A copy of the dataframe with the state of interest is created"
   ]
  },
  {
   "cell_type": "code",
   "execution_count": 16,
   "id": "296c6d04-5784-4de6-a26a-7ee89d540ea2",
   "metadata": {},
   "outputs": [],
   "source": [
    "dfq = dfm.copy()"
   ]
  },
  {
   "cell_type": "markdown",
   "id": "3e6f24f4-14d6-4956-8941-ed7ff993a075",
   "metadata": {},
   "source": [
    "Replace the technical denomination of each variant of concern with the WHO denomination based on [outbreak.info](https://outbreak.info/situation-reports)"
   ]
  },
  {
   "cell_type": "code",
   "execution_count": 17,
   "id": "d6532d1f-b99c-4fbc-98f3-5edc12a20e65",
   "metadata": {},
   "outputs": [],
   "source": [
    "dfq['lineage'].replace({'AY.1': \"Delta\"}, inplace=True)\n",
    "dfq['lineage'].replace({'AY.2': \"Delta\"}, inplace=True)\n",
    "dfq['lineage'].replace({'AY.3': \"Delta\"}, inplace=True)\n",
    "dfq['lineage'].replace({'AY.3.1': \"Delta\"}, inplace=True)\n",
    "dfq['lineage'].replace({'B.1.1.7': \"Alpha\"}, inplace=True)\n",
    "dfq['lineage'].replace({'B.1.351': \"Beta\"}, inplace=True)\n",
    "dfq['lineage'].replace({'B.1.351.2': \"Beta\"}, inplace=True)\n",
    "dfq['lineage'].replace({'B.1.351.3': \"Beta\"}, inplace=True)\n",
    "dfq['lineage'].replace({'B.1.617.2': \"Delta\"}, inplace=True)\n",
    "dfq['lineage'].replace({'P.1': \"Gamma\"}, inplace=True)\n",
    "dfq['lineage'].replace({'P.1.1': \"Gamma\"}, inplace=True)\n",
    "dfq['lineage'].replace({'P.1.2': \"Gamma\"}, inplace=True)"
   ]
  },
  {
   "cell_type": "markdown",
   "id": "1db8bea3-a0a2-44f1-ae95-35b958fa68ed",
   "metadata": {},
   "source": [
    "Replace the technical denomination of each variant of interest with the WHO denomination based on [outbreak.info](https://outbreak.info/situation-reports)"
   ]
  },
  {
   "cell_type": "code",
   "execution_count": 18,
   "id": "1af87ba5-ae95-419e-93fc-beb44aea883f",
   "metadata": {},
   "outputs": [],
   "source": [
    "dfq['lineage'].replace({'B.1.427': \"Epsilon\"}, inplace=True)\n",
    "dfq['lineage'].replace({'B.1.429': \"Epsilon\"}, inplace=True)\n",
    "dfq['lineage'].replace({'B.1.525': \"Eta\"}, inplace=True)\n",
    "dfq['lineage'].replace({'B.1.526': \"Iota\"}, inplace=True)\n",
    "dfq['lineage'].replace({'B.1.617.1': \"Kappa\"}, inplace=True)\n",
    "dfq['lineage'].replace({'C.37': \"Lambda\"}, inplace=True)\n",
    "dfq['lineage'].replace({'P.2': \"Zeta\"}, inplace=True)\n",
    "dfq['lineage'].replace({'P.3': \"Theta\"}, inplace=True)"
   ]
  },
  {
   "cell_type": "markdown",
   "id": "4438db29-bb49-42f7-baa1-4d305dd4d262",
   "metadata": {},
   "source": [
    "A subset containing the state of interest is created"
   ]
  },
  {
   "cell_type": "code",
   "execution_count": 19,
   "id": "84f5eff9-e469-4c65-95c6-77dc721f63ea",
   "metadata": {},
   "outputs": [
    {
     "data": {
      "text/html": [
       "<div>\n",
       "<style scoped>\n",
       "    .dataframe tbody tr th:only-of-type {\n",
       "        vertical-align: middle;\n",
       "    }\n",
       "\n",
       "    .dataframe tbody tr th {\n",
       "        vertical-align: top;\n",
       "    }\n",
       "\n",
       "    .dataframe thead th {\n",
       "        text-align: right;\n",
       "    }\n",
       "</style>\n",
       "<table border=\"1\" class=\"dataframe\">\n",
       "  <thead>\n",
       "    <tr style=\"text-align: right;\">\n",
       "      <th></th>\n",
       "      <th>name</th>\n",
       "      <th>lineage</th>\n",
       "      <th>location</th>\n",
       "      <th>collectionDate</th>\n",
       "      <th>loc0</th>\n",
       "      <th>loc1</th>\n",
       "      <th>loc2</th>\n",
       "      <th>loc3</th>\n",
       "    </tr>\n",
       "  </thead>\n",
       "  <tbody>\n",
       "    <tr>\n",
       "      <th>241</th>\n",
       "      <td>hCoV-19/Mexico/CDMX-InDRE_01/2020</td>\n",
       "      <td>B.1.1</td>\n",
       "      <td>Mexico / Mexico City</td>\n",
       "      <td>2020-02-27</td>\n",
       "      <td>Mexico</td>\n",
       "      <td>Ciudad de Mexico</td>\n",
       "      <td></td>\n",
       "      <td></td>\n",
       "    </tr>\n",
       "    <tr>\n",
       "      <th>6761</th>\n",
       "      <td>hCoV-19/Mexico/CDMX-INER_01/2020</td>\n",
       "      <td>B.1.234</td>\n",
       "      <td>Mexico / Mexico City</td>\n",
       "      <td>2020-03-12</td>\n",
       "      <td>Mexico</td>\n",
       "      <td>Ciudad de Mexico</td>\n",
       "      <td></td>\n",
       "      <td></td>\n",
       "    </tr>\n",
       "    <tr>\n",
       "      <th>6764</th>\n",
       "      <td>hCoV-19/Mexico/CDMX-INER_02/2020</td>\n",
       "      <td>B.1</td>\n",
       "      <td>Mexico / Mexico City</td>\n",
       "      <td>2020-03-13</td>\n",
       "      <td>Mexico</td>\n",
       "      <td>Ciudad de Mexico</td>\n",
       "      <td></td>\n",
       "      <td></td>\n",
       "    </tr>\n",
       "    <tr>\n",
       "      <th>7028</th>\n",
       "      <td>hCoV-19/Mexico/CDMX-INER_03/2020</td>\n",
       "      <td>B</td>\n",
       "      <td>Mexico / Mexico City</td>\n",
       "      <td>2020-03-13</td>\n",
       "      <td>Mexico</td>\n",
       "      <td>Ciudad de Mexico</td>\n",
       "      <td></td>\n",
       "      <td></td>\n",
       "    </tr>\n",
       "    <tr>\n",
       "      <th>7029</th>\n",
       "      <td>hCoV-19/Mexico/CDMX-INER_04/2020</td>\n",
       "      <td>B.1.201</td>\n",
       "      <td>Mexico / Mexico City</td>\n",
       "      <td>2020-03-15</td>\n",
       "      <td>Mexico</td>\n",
       "      <td>Ciudad de Mexico</td>\n",
       "      <td></td>\n",
       "      <td></td>\n",
       "    </tr>\n",
       "  </tbody>\n",
       "</table>\n",
       "</div>"
      ],
      "text/plain": [
       "                                   name  lineage              location  \\\n",
       "241   hCoV-19/Mexico/CDMX-InDRE_01/2020    B.1.1  Mexico / Mexico City   \n",
       "6761   hCoV-19/Mexico/CDMX-INER_01/2020  B.1.234  Mexico / Mexico City   \n",
       "6764   hCoV-19/Mexico/CDMX-INER_02/2020      B.1  Mexico / Mexico City   \n",
       "7028   hCoV-19/Mexico/CDMX-INER_03/2020        B  Mexico / Mexico City   \n",
       "7029   hCoV-19/Mexico/CDMX-INER_04/2020  B.1.201  Mexico / Mexico City   \n",
       "\n",
       "     collectionDate    loc0              loc1 loc2 loc3  \n",
       "241      2020-02-27  Mexico  Ciudad de Mexico            \n",
       "6761     2020-03-12  Mexico  Ciudad de Mexico            \n",
       "6764     2020-03-13  Mexico  Ciudad de Mexico            \n",
       "7028     2020-03-13  Mexico  Ciudad de Mexico            \n",
       "7029     2020-03-15  Mexico  Ciudad de Mexico            "
      ]
     },
     "execution_count": 19,
     "metadata": {},
     "output_type": "execute_result"
    }
   ],
   "source": [
    "if states_widget != 'Estados Unidos Mexicanos':\n",
    "    dfq.query('loc1 == \"{}\"'.format(states_widget), inplace=True)\n",
    "dfq.head()"
   ]
  },
  {
   "cell_type": "markdown",
   "id": "f3228ee4-508e-4d95-a41f-13f8ffb7267e",
   "metadata": {},
   "source": [
    "A copy of the dataframe with the state data is created for each plot that is going to be created"
   ]
  },
  {
   "cell_type": "code",
   "execution_count": 20,
   "id": "0233f33c-1c22-4d68-89ad-ae33eed9498e",
   "metadata": {},
   "outputs": [],
   "source": [
    "dfTop10 = dfq.copy()"
   ]
  },
  {
   "cell_type": "code",
   "execution_count": 21,
   "id": "1bba0f5f-3dc7-4016-b32d-847a42a4e127",
   "metadata": {},
   "outputs": [],
   "source": [
    "df_variants_concern = dfq.copy()"
   ]
  },
  {
   "cell_type": "code",
   "execution_count": 22,
   "id": "e5e10099-0591-4b6b-8943-df294fd474b9",
   "metadata": {},
   "outputs": [],
   "source": [
    "df_variants_interest = dfq.copy()"
   ]
  },
  {
   "cell_type": "markdown",
   "id": "bc74025c-40ca-456b-bba6-13deac119085",
   "metadata": {},
   "source": [
    "## Distribution Plot of the top 10 variants on the state of interest"
   ]
  },
  {
   "cell_type": "code",
   "execution_count": 23,
   "id": "bfad6105-c384-42e5-9645-6a854105c095",
   "metadata": {},
   "outputs": [],
   "source": [
    "top = 10 # number of top lineages for visualization"
   ]
  },
  {
   "cell_type": "code",
   "execution_count": 24,
   "id": "e2c04fbb-26cc-423a-88ae-e2efd7987941",
   "metadata": {},
   "outputs": [],
   "source": [
    "top_lineages = dfTop10.groupby('lineage').size().reset_index(name='count')"
   ]
  },
  {
   "cell_type": "code",
   "execution_count": 25,
   "id": "3891a628-c47f-4588-bec1-8597f678a78a",
   "metadata": {},
   "outputs": [],
   "source": [
    "top_lineages.sort_values(['count'], inplace=True, ascending=False)"
   ]
  },
  {
   "cell_type": "code",
   "execution_count": 26,
   "id": "2ea0b454-67ce-4e2d-b5fd-4aac94d2fd4f",
   "metadata": {},
   "outputs": [],
   "source": [
    "top_lineages = top_lineages.head(top)"
   ]
  },
  {
   "cell_type": "code",
   "execution_count": 27,
   "id": "efb63710-5ef1-4c95-8bdd-3b53f0da45be",
   "metadata": {},
   "outputs": [],
   "source": [
    "legendTop10 = top_lineages['lineage'].values"
   ]
  },
  {
   "cell_type": "code",
   "execution_count": 28,
   "id": "6995c721-19f1-427d-a62a-4c2785c90da9",
   "metadata": {},
   "outputs": [
    {
     "data": {
      "text/plain": [
       "array(['B.1.1.519', 'Gamma', 'Alpha', 'Delta', 'B.1', 'B.1.1.222',\n",
       "       'Epsilon', 'B.1.243', 'B.1.1', 'B.1.628'], dtype=object)"
      ]
     },
     "execution_count": 28,
     "metadata": {},
     "output_type": "execute_result"
    }
   ],
   "source": [
    "legendTop10"
   ]
  },
  {
   "cell_type": "code",
   "execution_count": 29,
   "id": "c7af2895-738e-40ac-9dd8-1658b54c2b13",
   "metadata": {},
   "outputs": [
    {
     "name": "stdout",
     "output_type": "stream",
     "text": [
      "Top 10 lineages: ['B.1.1.519' 'Gamma' 'Alpha' 'Delta' 'B.1' 'B.1.1.222' 'Epsilon' 'B.1.243'\n",
      " 'B.1.1' 'B.1.628' 'other']\n"
     ]
    }
   ],
   "source": [
    "legendTop10 = np.append(legendTop10, 'other')\n",
    "print(f'Top {top} lineages:', legendTop10)"
   ]
  },
  {
   "cell_type": "code",
   "execution_count": 30,
   "id": "d0c4b550-86c5-46d2-b0c8-6cde1fcd0e54",
   "metadata": {},
   "outputs": [],
   "source": [
    "dfm['lineage'] = dfm['lineage'].apply(lambda x: x if x in legendTop10 else 'other')"
   ]
  },
  {
   "cell_type": "code",
   "execution_count": 31,
   "id": "e22edb8d-730c-4606-9d34-f8684b346ec0",
   "metadata": {},
   "outputs": [
    {
     "data": {
      "image/png": "[encoded data removed]",
      "text/plain": [
       "<Figure size 734.975x648 with 1 Axes>"
      ]
     },
     "metadata": {},
     "output_type": "display_data"
    }
   ],
   "source": [
    "sns.set_theme(style=\"whitegrid\")\n",
    "sns.displot(dfTop10, x=\"collectionDate\", hue=\"lineage\", hue_order=legendTop10, kind=\"kde\",\n",
    "            height=9, multiple=\"fill\", cut=0, palette=\"ch:rot=-.25,hue=1,light=.75\").fig.autofmt_xdate();\n",
    "\n",
    "plt.savefig(\"../figures/{}_top_10_variants.png\".format(states_widget).replace(\" \", \"_\"), bbox_inches=\"tight\")"
   ]
  },
  {
   "cell_type": "markdown",
   "id": "758cac38-5da5-4ba4-ad55-b42b5721811b",
   "metadata": {},
   "source": [
    "Estados Unidos Mexicanos:\n",
    "We can that B.1.1.519 variant was mostly ocuppying mexico cases at the beggining of 2021 but then Gamma and alpha start taking over with their increase rates, but the concerning thing is that the delta vatiant in only the last 2 months its has been taking over which could be a bad omen due the different aggressiveness of this variant meaning the case rate could increase drastically."
   ]
  },
  {
   "cell_type": "markdown",
   "id": "036e822d-6ff6-4792-a7c1-2355eb2fe9e9",
   "metadata": {},
   "source": [
    "## Distribution Plot of the variants of concern on the state of interest"
   ]
  },
  {
   "cell_type": "code",
   "execution_count": 32,
   "id": "e4915548-33dc-48a6-babd-26d96a0ec65b",
   "metadata": {},
   "outputs": [],
   "source": [
    "variants_concern = ['Delta','Alpha','Beta','Gamma']\n",
    "#['AY.1','AY.2','AY.3','AY.3.1','B.1.1.7','B.1.351','B.1.351.2','B.1.351.3','B.1.617.2','P.1','P.1.1','P.1.2']"
   ]
  },
  {
   "cell_type": "code",
   "execution_count": 33,
   "id": "b4adc659-c99f-4ecd-9b6e-da8e1e967050",
   "metadata": {},
   "outputs": [
    {
     "data": {
      "text/plain": [
       "array(['Delta', 'Alpha', 'Beta', 'Gamma', 'other'], dtype='<U5')"
      ]
     },
     "execution_count": 33,
     "metadata": {},
     "output_type": "execute_result"
    }
   ],
   "source": [
    "variants_concern = np.append(variants_concern,'other')\n",
    "variants_concern"
   ]
  },
  {
   "cell_type": "code",
   "execution_count": 34,
   "id": "31797af8-d7a8-4737-9e18-bcaa7f998c8c",
   "metadata": {},
   "outputs": [],
   "source": [
    "df_variants_concern['lineage'] = df_variants_concern['lineage'].apply(lambda x: x if x in variants_concern else 'other')"
   ]
  },
  {
   "cell_type": "code",
   "execution_count": 35,
   "id": "b578e780-cc03-4406-ab7e-9f2d8c216c34",
   "metadata": {},
   "outputs": [
    {
     "data": {
      "image/png": "[encoded data removed]",
      "text/plain": [
       "<Figure size 726.975x648 with 1 Axes>"
      ]
     },
     "metadata": {},
     "output_type": "display_data"
    }
   ],
   "source": [
    "sns.set_theme(style=\"whitegrid\")\n",
    "concernPlot = sns.displot(df_variants_concern, x=\"collectionDate\", hue=\"lineage\", hue_order=variants_concern, kind=\"kde\",\n",
    "            height=9, multiple=\"fill\", cut=0, palette=\"ch:rot=-.25,hue=1,light=.75\").fig.autofmt_xdate()\n",
    "plt.savefig(\"../figures/{}_concern_variants.png\".format(states_widget).replace(\" \", \"_\"), bbox_inches=\"tight\")"
   ]
  },
  {
   "cell_type": "markdown",
   "id": "f8da5735-912c-4782-9e55-7807f2528d9d",
   "metadata": {},
   "source": [
    "Due the quatity of data is hard to analyze the distribution of the variants of concern trough time."
   ]
  },
  {
   "cell_type": "markdown",
   "id": "41e1d6fd-785f-4295-988c-69e2ea813e08",
   "metadata": {},
   "source": [
    "## Distribution Plot of the variants of interest on the state of interest"
   ]
  },
  {
   "cell_type": "code",
   "execution_count": 36,
   "id": "38b65faf-6ecc-4c28-9bcf-a47f4bdbdce2",
   "metadata": {},
   "outputs": [],
   "source": [
    "variants_interest = ['AV.1','B.1.1.318','Epsilon','Eta','Iota','Kappa','B.1.617.3','B.1.621','B.1.621.1','C.36.3','Lambda','Zeta','Theta']\n",
    "#['AV.1','B.1.1.318','B.1.427','B.1.429','B.1.525','B.1.526','B.1.617.1','B.1.617.3','B.1.621','B.1.621.1','C.36.3','C.37','P.2','P.3']"
   ]
  },
  {
   "cell_type": "code",
   "execution_count": 37,
   "id": "9295c96e-5382-4dd1-a8c6-4f39466e4789",
   "metadata": {},
   "outputs": [
    {
     "data": {
      "text/plain": [
       "array(['AV.1', 'B.1.1.318', 'Epsilon', 'Eta', 'Iota', 'Kappa',\n",
       "       'B.1.617.3', 'B.1.621', 'B.1.621.1', 'C.36.3', 'Lambda', 'Zeta',\n",
       "       'Theta', 'other'], dtype='<U9')"
      ]
     },
     "execution_count": 37,
     "metadata": {},
     "output_type": "execute_result"
    }
   ],
   "source": [
    "variants_interest = np.append(variants_interest, 'other')\n",
    "variants_interest"
   ]
  },
  {
   "cell_type": "code",
   "execution_count": 38,
   "id": "54967972-e499-4831-833e-1029ba2d453b",
   "metadata": {},
   "outputs": [],
   "source": [
    "df_variants_interest['lineage'] = df_variants_interest['lineage'].apply(lambda x: x if x in variants_interest else 'other')"
   ]
  },
  {
   "cell_type": "code",
   "execution_count": 39,
   "id": "b7664956-d967-4f45-8ab8-18565efcef13",
   "metadata": {},
   "outputs": [
    {
     "name": "stderr",
     "output_type": "stream",
     "text": [
      "D:\\Users\\angel\\miniconda3\\lib\\site-packages\\seaborn\\distributions.py:306: UserWarning: Dataset has 0 variance; skipping density estimate.\n",
      "  warnings.warn(msg, UserWarning)\n"
     ]
    },
    {
     "data": {
      "image/png": "[encoded data removed]",
      "text/plain": [
       "<Figure size 734.975x648 with 1 Axes>"
      ]
     },
     "metadata": {},
     "output_type": "display_data"
    }
   ],
   "source": [
    "sns.set_theme(style=\"whitegrid\")\n",
    "interestPlot = sns.displot(df_variants_interest, x=\"collectionDate\", hue=\"lineage\", hue_order=variants_interest, kind=\"kde\",\n",
    "            height=9, multiple=\"fill\", cut=0, palette=\"ch:rot=-.25,hue=1,light=.75\").fig.autofmt_xdate()\n",
    "plt.savefig(\"../figures/{}_interest_variants.png\".format(states_widget).replace(\" \", \"_\"), bbox_inches=\"tight\")"
   ]
  },
  {
   "cell_type": "markdown",
   "id": "22eef1e2-0532-41ee-92d2-25d91c70908f",
   "metadata": {},
   "source": [
    "Due the quatity of data is hard to analyze the distribution of the variants of interest trough time."
   ]
  }
 ],
 "metadata": {
  "kernelspec": {
   "display_name": "Python 3",
   "language": "python",
   "name": "python3"
  },
  "language_info": {
   "codemirror_mode": {
    "name": "ipython",
    "version": 3
   },
   "file_extension": ".py",
   "mimetype": "text/x-python",
   "name": "python",
   "nbconvert_exporter": "python",
   "pygments_lexer": "ipython3",
   "version": "3.9.5"
  }
 },
 "nbformat": 4,
 "nbformat_minor": 5
}
