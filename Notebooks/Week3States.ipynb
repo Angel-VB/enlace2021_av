{
 "cells": [
  {
   "cell_type": "markdown",
   "id": "54cb1438-4c3a-4789-a56f-e39b7e38f145",
   "metadata": {},
   "source": [
    "# Correlation analyzes of case/death rate with multiple variables in state level (admin1)\n",
    "\n",
    "This Notebook read the collection of variables at state level collected in this week ([variables](Week3_variables_States.ipynb), [ages ranges](Week3_age_ranges_states.ipynb), [mobility](Week3_mobility_states.ipynb), [population density](Week3_population_density_states.ipynb) and [comorbidities](Week3_comorbidities.ipynb)) and shows the correlation between those variables and the case/death rate through specific areas viewpoints."
   ]
  },
  {
   "cell_type": "code",
   "execution_count": 1,
   "id": "45c67906-0168-478a-ba83-e3d121e52102",
   "metadata": {},
   "outputs": [],
   "source": [
    "import pandas as pd\n",
    "import matplotlib.pyplot as plt\n",
    "import seaborn as sns\n",
    "from string import ascii_letters\n",
    "import numpy as np\n",
    "\n",
    "%matplotlib inline\n",
    "%reload_ext autoreload\n",
    "%autoreload 2"
   ]
  },
  {
   "cell_type": "markdown",
   "id": "b54a4f3d-f0aa-41f3-9c3d-3164988506f6",
   "metadata": {},
   "source": [
    "The collection of variables is read"
   ]
  },
  {
   "cell_type": "code",
   "execution_count": 2,
   "id": "31f30c01-c377-4d53-950b-3f4c860bbb25",
   "metadata": {},
   "outputs": [],
   "source": [
    "dfVar=pd.read_csv('../data/week3_variables_states.csv')\n",
    "dfAges=pd.read_csv('../data/week3_ages_ranges_states.csv')\n",
    "dfMobility=pd.read_csv('../data/week3_mobility_states.csv')\n",
    "dfPopDens=pd.read_csv('../data/week3_population_density_states.csv')\n",
    "dfComorbidities=pd.read_csv('../data/week3_comorbidities_states.csv')"
   ]
  },
  {
   "cell_type": "code",
   "execution_count": 3,
   "id": "31714372-9203-412e-a2c8-d77bc3cbad1e",
   "metadata": {},
   "outputs": [
    {
     "data": {
      "text/html": [
       "<div>\n",
       "<style scoped>\n",
       "    .dataframe tbody tr th:only-of-type {\n",
       "        vertical-align: middle;\n",
       "    }\n",
       "\n",
       "    .dataframe tbody tr th {\n",
       "        vertical-align: top;\n",
       "    }\n",
       "\n",
       "    .dataframe thead th {\n",
       "        text-align: right;\n",
       "    }\n",
       "</style>\n",
       "<table border=\"1\" class=\"dataframe\">\n",
       "  <thead>\n",
       "    <tr style=\"text-align: right;\">\n",
       "      <th></th>\n",
       "      <th>cve_ent</th>\n",
       "      <th>state</th>\n",
       "      <th>case_rate</th>\n",
       "      <th>case_rate_last_60_days</th>\n",
       "      <th>death_rate</th>\n",
       "      <th>death_rate_last_60_days</th>\n",
       "      <th>population</th>\n",
       "      <th>pct_disability</th>\n",
       "      <th>pct_limitation</th>\n",
       "      <th>pct_mental_problem</th>\n",
       "      <th>pct_no_problems</th>\n",
       "      <th>average_years_finish</th>\n",
       "      <th>pct_no_med_insurance</th>\n",
       "      <th>pct_med_insurance</th>\n",
       "      <th>average_household_size</th>\n",
       "      <th>pct_household_tics</th>\n",
       "      <th>pct_household_no_tics</th>\n",
       "      <th>pct_pop_0_14_years_old</th>\n",
       "      <th>pct_pop_15_64_years_old</th>\n",
       "      <th>pct_pop_65_more_years_old</th>\n",
       "    </tr>\n",
       "  </thead>\n",
       "  <tbody>\n",
       "    <tr>\n",
       "      <th>0</th>\n",
       "      <td>1</td>\n",
       "      <td>AGUASCALIENTES</td>\n",
       "      <td>2003.715231</td>\n",
       "      <td>142.614672</td>\n",
       "      <td>175.375618</td>\n",
       "      <td>2.997278</td>\n",
       "      <td>1434635</td>\n",
       "      <td>4.969487</td>\n",
       "      <td>11.534781</td>\n",
       "      <td>1.405863</td>\n",
       "      <td>82.107156</td>\n",
       "      <td>10.35</td>\n",
       "      <td>18.268619</td>\n",
       "      <td>80.936196</td>\n",
       "      <td>3.68</td>\n",
       "      <td>99.557246</td>\n",
       "      <td>0.442754</td>\n",
       "      <td>26.849687</td>\n",
       "      <td>65.649730</td>\n",
       "      <td>6.766181</td>\n",
       "    </tr>\n",
       "    <tr>\n",
       "      <th>1</th>\n",
       "      <td>2</td>\n",
       "      <td>BAJA CALIFORNIA</td>\n",
       "      <td>1475.872026</td>\n",
       "      <td>95.189151</td>\n",
       "      <td>246.226273</td>\n",
       "      <td>5.364707</td>\n",
       "      <td>3634868</td>\n",
       "      <td>4.180207</td>\n",
       "      <td>9.938985</td>\n",
       "      <td>1.444867</td>\n",
       "      <td>88.412151</td>\n",
       "      <td>10.20</td>\n",
       "      <td>23.008181</td>\n",
       "      <td>79.927662</td>\n",
       "      <td>3.26</td>\n",
       "      <td>99.165994</td>\n",
       "      <td>0.834006</td>\n",
       "      <td>24.163271</td>\n",
       "      <td>72.553336</td>\n",
       "      <td>6.747975</td>\n",
       "    </tr>\n",
       "    <tr>\n",
       "      <th>2</th>\n",
       "      <td>3</td>\n",
       "      <td>BAJA CALIFORNIA SUR</td>\n",
       "      <td>6340.063725</td>\n",
       "      <td>2027.319226</td>\n",
       "      <td>257.111896</td>\n",
       "      <td>72.075834</td>\n",
       "      <td>804708</td>\n",
       "      <td>4.396999</td>\n",
       "      <td>11.213136</td>\n",
       "      <td>1.295252</td>\n",
       "      <td>82.417100</td>\n",
       "      <td>10.34</td>\n",
       "      <td>16.064212</td>\n",
       "      <td>82.529564</td>\n",
       "      <td>3.30</td>\n",
       "      <td>98.915448</td>\n",
       "      <td>1.084552</td>\n",
       "      <td>24.487516</td>\n",
       "      <td>68.228351</td>\n",
       "      <td>6.028646</td>\n",
       "    </tr>\n",
       "    <tr>\n",
       "      <th>3</th>\n",
       "      <td>4</td>\n",
       "      <td>CAMPECHE</td>\n",
       "      <td>1585.521733</td>\n",
       "      <td>509.185832</td>\n",
       "      <td>151.506520</td>\n",
       "      <td>24.684769</td>\n",
       "      <td>1000617</td>\n",
       "      <td>5.222678</td>\n",
       "      <td>11.288635</td>\n",
       "      <td>1.230641</td>\n",
       "      <td>75.280652</td>\n",
       "      <td>9.63</td>\n",
       "      <td>20.317864</td>\n",
       "      <td>71.923323</td>\n",
       "      <td>3.55</td>\n",
       "      <td>95.386710</td>\n",
       "      <td>4.613290</td>\n",
       "      <td>24.096932</td>\n",
       "      <td>61.273494</td>\n",
       "      <td>6.979494</td>\n",
       "    </tr>\n",
       "    <tr>\n",
       "      <th>4</th>\n",
       "      <td>5</td>\n",
       "      <td>COAHUILA</td>\n",
       "      <td>2341.893672</td>\n",
       "      <td>190.168763</td>\n",
       "      <td>204.801909</td>\n",
       "      <td>3.634985</td>\n",
       "      <td>3218720</td>\n",
       "      <td>4.188497</td>\n",
       "      <td>9.399482</td>\n",
       "      <td>1.089657</td>\n",
       "      <td>83.380505</td>\n",
       "      <td>10.43</td>\n",
       "      <td>18.559334</td>\n",
       "      <td>78.935353</td>\n",
       "      <td>3.48</td>\n",
       "      <td>99.361293</td>\n",
       "      <td>0.638707</td>\n",
       "      <td>25.608938</td>\n",
       "      <td>64.831517</td>\n",
       "      <td>7.132866</td>\n",
       "    </tr>\n",
       "  </tbody>\n",
       "</table>\n",
       "</div>"
      ],
      "text/plain": [
       "   cve_ent                state    case_rate  case_rate_last_60_days  \\\n",
       "0        1       AGUASCALIENTES  2003.715231              142.614672   \n",
       "1        2      BAJA CALIFORNIA  1475.872026               95.189151   \n",
       "2        3  BAJA CALIFORNIA SUR  6340.063725             2027.319226   \n",
       "3        4             CAMPECHE  1585.521733              509.185832   \n",
       "4        5             COAHUILA  2341.893672              190.168763   \n",
       "\n",
       "   death_rate  death_rate_last_60_days  population  pct_disability  \\\n",
       "0  175.375618                 2.997278     1434635        4.969487   \n",
       "1  246.226273                 5.364707     3634868        4.180207   \n",
       "2  257.111896                72.075834      804708        4.396999   \n",
       "3  151.506520                24.684769     1000617        5.222678   \n",
       "4  204.801909                 3.634985     3218720        4.188497   \n",
       "\n",
       "   pct_limitation  pct_mental_problem  pct_no_problems  average_years_finish  \\\n",
       "0       11.534781            1.405863        82.107156                 10.35   \n",
       "1        9.938985            1.444867        88.412151                 10.20   \n",
       "2       11.213136            1.295252        82.417100                 10.34   \n",
       "3       11.288635            1.230641        75.280652                  9.63   \n",
       "4        9.399482            1.089657        83.380505                 10.43   \n",
       "\n",
       "   pct_no_med_insurance  pct_med_insurance  average_household_size  \\\n",
       "0             18.268619          80.936196                    3.68   \n",
       "1             23.008181          79.927662                    3.26   \n",
       "2             16.064212          82.529564                    3.30   \n",
       "3             20.317864          71.923323                    3.55   \n",
       "4             18.559334          78.935353                    3.48   \n",
       "\n",
       "   pct_household_tics  pct_household_no_tics  pct_pop_0_14_years_old  \\\n",
       "0           99.557246               0.442754               26.849687   \n",
       "1           99.165994               0.834006               24.163271   \n",
       "2           98.915448               1.084552               24.487516   \n",
       "3           95.386710               4.613290               24.096932   \n",
       "4           99.361293               0.638707               25.608938   \n",
       "\n",
       "   pct_pop_15_64_years_old  pct_pop_65_more_years_old  \n",
       "0                65.649730                   6.766181  \n",
       "1                72.553336                   6.747975  \n",
       "2                68.228351                   6.028646  \n",
       "3                61.273494                   6.979494  \n",
       "4                64.831517                   7.132866  "
      ]
     },
     "execution_count": 3,
     "metadata": {},
     "output_type": "execute_result"
    }
   ],
   "source": [
    "dfVar.head()"
   ]
  },
  {
   "cell_type": "code",
   "execution_count": 4,
   "id": "1b0af772-083c-4fba-be10-e29f00304708",
   "metadata": {},
   "outputs": [
    {
     "data": {
      "text/html": [
       "<div>\n",
       "<style scoped>\n",
       "    .dataframe tbody tr th:only-of-type {\n",
       "        vertical-align: middle;\n",
       "    }\n",
       "\n",
       "    .dataframe tbody tr th {\n",
       "        vertical-align: top;\n",
       "    }\n",
       "\n",
       "    .dataframe thead th {\n",
       "        text-align: right;\n",
       "    }\n",
       "</style>\n",
       "<table border=\"1\" class=\"dataframe\">\n",
       "  <thead>\n",
       "    <tr style=\"text-align: right;\">\n",
       "      <th></th>\n",
       "      <th>cve_ent</th>\n",
       "      <th>pct_pop_0_4_years_old</th>\n",
       "      <th>pct_pop_5_9_years_old</th>\n",
       "      <th>pct_pop_10_14_years_old</th>\n",
       "      <th>pct_pop_15_19_years_old</th>\n",
       "      <th>pct_pop_20_24_years_old</th>\n",
       "      <th>pct_pop_25_29_years_old</th>\n",
       "      <th>pct_pop_30_34_years_old</th>\n",
       "      <th>pct_pop_35_39_years_old</th>\n",
       "      <th>pct_pop_40_44_years_old</th>\n",
       "      <th>...</th>\n",
       "      <th>pct_pop_55_59_years_old</th>\n",
       "      <th>pct_pop_60_64_years_old</th>\n",
       "      <th>pct_pop_65_69_years_old</th>\n",
       "      <th>pct_pop_70_74_years_old</th>\n",
       "      <th>pct_pop_75_79_years_old</th>\n",
       "      <th>pct_pop_80_84_years_old</th>\n",
       "      <th>pct_pop_85_89_years_old</th>\n",
       "      <th>pct_pop_90_94_years_old</th>\n",
       "      <th>pct_pop_95_99_years_old</th>\n",
       "      <th>pct_pop_100_and_more_years_old</th>\n",
       "    </tr>\n",
       "  </thead>\n",
       "  <tbody>\n",
       "    <tr>\n",
       "      <th>0</th>\n",
       "      <td>1</td>\n",
       "      <td>8.673286</td>\n",
       "      <td>8.673286</td>\n",
       "      <td>9.041812</td>\n",
       "      <td>9.198646</td>\n",
       "      <td>8.853820</td>\n",
       "      <td>8.254783</td>\n",
       "      <td>7.446145</td>\n",
       "      <td>6.918624</td>\n",
       "      <td>6.439129</td>\n",
       "      <td>...</td>\n",
       "      <td>4.103134</td>\n",
       "      <td>3.367128</td>\n",
       "      <td>2.497011</td>\n",
       "      <td>1.783450</td>\n",
       "      <td>1.155764</td>\n",
       "      <td>0.710006</td>\n",
       "      <td>0.388670</td>\n",
       "      <td>0.167987</td>\n",
       "      <td>0.055484</td>\n",
       "      <td>0.007807</td>\n",
       "    </tr>\n",
       "    <tr>\n",
       "      <th>1</th>\n",
       "      <td>2</td>\n",
       "      <td>7.326291</td>\n",
       "      <td>7.326291</td>\n",
       "      <td>8.593104</td>\n",
       "      <td>8.683644</td>\n",
       "      <td>9.363724</td>\n",
       "      <td>9.030424</td>\n",
       "      <td>8.319119</td>\n",
       "      <td>8.035202</td>\n",
       "      <td>7.527399</td>\n",
       "      <td>...</td>\n",
       "      <td>4.639866</td>\n",
       "      <td>3.687122</td>\n",
       "      <td>2.605432</td>\n",
       "      <td>1.799928</td>\n",
       "      <td>1.124498</td>\n",
       "      <td>0.693395</td>\n",
       "      <td>0.342543</td>\n",
       "      <td>0.133650</td>\n",
       "      <td>0.041597</td>\n",
       "      <td>0.006933</td>\n",
       "    </tr>\n",
       "    <tr>\n",
       "      <th>2</th>\n",
       "      <td>3</td>\n",
       "      <td>7.761200</td>\n",
       "      <td>7.761200</td>\n",
       "      <td>8.408640</td>\n",
       "      <td>8.135746</td>\n",
       "      <td>8.294064</td>\n",
       "      <td>8.549437</td>\n",
       "      <td>8.422807</td>\n",
       "      <td>8.068393</td>\n",
       "      <td>7.380193</td>\n",
       "      <td>...</td>\n",
       "      <td>4.191707</td>\n",
       "      <td>3.367060</td>\n",
       "      <td>2.395155</td>\n",
       "      <td>1.558951</td>\n",
       "      <td>1.014778</td>\n",
       "      <td>0.577725</td>\n",
       "      <td>0.317631</td>\n",
       "      <td>0.116315</td>\n",
       "      <td>0.041257</td>\n",
       "      <td>0.006835</td>\n",
       "    </tr>\n",
       "    <tr>\n",
       "      <th>3</th>\n",
       "      <td>4</td>\n",
       "      <td>7.888633</td>\n",
       "      <td>7.888633</td>\n",
       "      <td>8.011857</td>\n",
       "      <td>7.609305</td>\n",
       "      <td>7.550941</td>\n",
       "      <td>7.275311</td>\n",
       "      <td>7.266417</td>\n",
       "      <td>7.023167</td>\n",
       "      <td>6.413043</td>\n",
       "      <td>...</td>\n",
       "      <td>4.077984</td>\n",
       "      <td>3.275779</td>\n",
       "      <td>2.578009</td>\n",
       "      <td>1.754817</td>\n",
       "      <td>1.190865</td>\n",
       "      <td>0.753135</td>\n",
       "      <td>0.441028</td>\n",
       "      <td>0.176691</td>\n",
       "      <td>0.070057</td>\n",
       "      <td>0.014891</td>\n",
       "    </tr>\n",
       "    <tr>\n",
       "      <th>4</th>\n",
       "      <td>7</td>\n",
       "      <td>10.019463</td>\n",
       "      <td>10.019463</td>\n",
       "      <td>10.176172</td>\n",
       "      <td>9.189237</td>\n",
       "      <td>8.106339</td>\n",
       "      <td>7.406210</td>\n",
       "      <td>6.911337</td>\n",
       "      <td>6.506791</td>\n",
       "      <td>5.744903</td>\n",
       "      <td>...</td>\n",
       "      <td>3.426569</td>\n",
       "      <td>2.769910</td>\n",
       "      <td>2.194920</td>\n",
       "      <td>1.498246</td>\n",
       "      <td>1.102163</td>\n",
       "      <td>0.667409</td>\n",
       "      <td>0.381110</td>\n",
       "      <td>0.154493</td>\n",
       "      <td>0.067273</td>\n",
       "      <td>0.025286</td>\n",
       "    </tr>\n",
       "  </tbody>\n",
       "</table>\n",
       "<p>5 rows × 22 columns</p>\n",
       "</div>"
      ],
      "text/plain": [
       "   cve_ent  pct_pop_0_4_years_old  pct_pop_5_9_years_old  \\\n",
       "0        1               8.673286               8.673286   \n",
       "1        2               7.326291               7.326291   \n",
       "2        3               7.761200               7.761200   \n",
       "3        4               7.888633               7.888633   \n",
       "4        7              10.019463              10.019463   \n",
       "\n",
       "   pct_pop_10_14_years_old  pct_pop_15_19_years_old  pct_pop_20_24_years_old  \\\n",
       "0                 9.041812                 9.198646                 8.853820   \n",
       "1                 8.593104                 8.683644                 9.363724   \n",
       "2                 8.408640                 8.135746                 8.294064   \n",
       "3                 8.011857                 7.609305                 7.550941   \n",
       "4                10.176172                 9.189237                 8.106339   \n",
       "\n",
       "   pct_pop_25_29_years_old  pct_pop_30_34_years_old  pct_pop_35_39_years_old  \\\n",
       "0                 8.254783                 7.446145                 6.918624   \n",
       "1                 9.030424                 8.319119                 8.035202   \n",
       "2                 8.549437                 8.422807                 8.068393   \n",
       "3                 7.275311                 7.266417                 7.023167   \n",
       "4                 7.406210                 6.911337                 6.506791   \n",
       "\n",
       "   pct_pop_40_44_years_old  ...  pct_pop_55_59_years_old  \\\n",
       "0                 6.439129  ...                 4.103134   \n",
       "1                 7.527399  ...                 4.639866   \n",
       "2                 7.380193  ...                 4.191707   \n",
       "3                 6.413043  ...                 4.077984   \n",
       "4                 5.744903  ...                 3.426569   \n",
       "\n",
       "   pct_pop_60_64_years_old  pct_pop_65_69_years_old  pct_pop_70_74_years_old  \\\n",
       "0                 3.367128                 2.497011                 1.783450   \n",
       "1                 3.687122                 2.605432                 1.799928   \n",
       "2                 3.367060                 2.395155                 1.558951   \n",
       "3                 3.275779                 2.578009                 1.754817   \n",
       "4                 2.769910                 2.194920                 1.498246   \n",
       "\n",
       "   pct_pop_75_79_years_old  pct_pop_80_84_years_old  pct_pop_85_89_years_old  \\\n",
       "0                 1.155764                 0.710006                 0.388670   \n",
       "1                 1.124498                 0.693395                 0.342543   \n",
       "2                 1.014778                 0.577725                 0.317631   \n",
       "3                 1.190865                 0.753135                 0.441028   \n",
       "4                 1.102163                 0.667409                 0.381110   \n",
       "\n",
       "   pct_pop_90_94_years_old  pct_pop_95_99_years_old  \\\n",
       "0                 0.167987                 0.055484   \n",
       "1                 0.133650                 0.041597   \n",
       "2                 0.116315                 0.041257   \n",
       "3                 0.176691                 0.070057   \n",
       "4                 0.154493                 0.067273   \n",
       "\n",
       "   pct_pop_100_and_more_years_old  \n",
       "0                        0.007807  \n",
       "1                        0.006933  \n",
       "2                        0.006835  \n",
       "3                        0.014891  \n",
       "4                        0.025286  \n",
       "\n",
       "[5 rows x 22 columns]"
      ]
     },
     "execution_count": 4,
     "metadata": {},
     "output_type": "execute_result"
    }
   ],
   "source": [
    "dfAges.head()"
   ]
  },
  {
   "cell_type": "code",
   "execution_count": 5,
   "id": "af445130-f6df-474d-8b11-b0c50f15fe6c",
   "metadata": {},
   "outputs": [
    {
     "data": {
      "text/html": [
       "<div>\n",
       "<style scoped>\n",
       "    .dataframe tbody tr th:only-of-type {\n",
       "        vertical-align: middle;\n",
       "    }\n",
       "\n",
       "    .dataframe tbody tr th {\n",
       "        vertical-align: top;\n",
       "    }\n",
       "\n",
       "    .dataframe thead th {\n",
       "        text-align: right;\n",
       "    }\n",
       "</style>\n",
       "<table border=\"1\" class=\"dataframe\">\n",
       "  <thead>\n",
       "    <tr style=\"text-align: right;\">\n",
       "      <th></th>\n",
       "      <th>cve_ent</th>\n",
       "      <th>state</th>\n",
       "      <th>retail_and_recreation_mobility</th>\n",
       "      <th>grocery_and_pharmacy_mobility</th>\n",
       "      <th>parks_percent_mobility</th>\n",
       "      <th>transit_stations_mobility</th>\n",
       "      <th>workplaces_mobility</th>\n",
       "      <th>residential_mobility</th>\n",
       "    </tr>\n",
       "  </thead>\n",
       "  <tbody>\n",
       "    <tr>\n",
       "      <th>0</th>\n",
       "      <td>1</td>\n",
       "      <td>AGUASCALIENTES</td>\n",
       "      <td>25.425819</td>\n",
       "      <td>-0.716763</td>\n",
       "      <td>26.267823</td>\n",
       "      <td>33.957611</td>\n",
       "      <td>17.951830</td>\n",
       "      <td>-9.001927</td>\n",
       "    </tr>\n",
       "    <tr>\n",
       "      <th>1</th>\n",
       "      <td>2</td>\n",
       "      <td>BAJA CALIFORNIA</td>\n",
       "      <td>23.980732</td>\n",
       "      <td>-4.487476</td>\n",
       "      <td>24.398844</td>\n",
       "      <td>19.418112</td>\n",
       "      <td>17.337187</td>\n",
       "      <td>-8.799615</td>\n",
       "    </tr>\n",
       "    <tr>\n",
       "      <th>2</th>\n",
       "      <td>3</td>\n",
       "      <td>BAJA CALIFORNIA SUR</td>\n",
       "      <td>29.959538</td>\n",
       "      <td>7.406551</td>\n",
       "      <td>29.190751</td>\n",
       "      <td>23.556840</td>\n",
       "      <td>23.728324</td>\n",
       "      <td>-9.028902</td>\n",
       "    </tr>\n",
       "    <tr>\n",
       "      <th>3</th>\n",
       "      <td>4</td>\n",
       "      <td>CAMPECHE</td>\n",
       "      <td>33.084778</td>\n",
       "      <td>6.949904</td>\n",
       "      <td>40.766859</td>\n",
       "      <td>30.210019</td>\n",
       "      <td>22.940270</td>\n",
       "      <td>-11.789981</td>\n",
       "    </tr>\n",
       "    <tr>\n",
       "      <th>4</th>\n",
       "      <td>5</td>\n",
       "      <td>COAHUILA</td>\n",
       "      <td>22.452794</td>\n",
       "      <td>0.635838</td>\n",
       "      <td>29.102119</td>\n",
       "      <td>23.630058</td>\n",
       "      <td>16.306358</td>\n",
       "      <td>-8.344894</td>\n",
       "    </tr>\n",
       "  </tbody>\n",
       "</table>\n",
       "</div>"
      ],
      "text/plain": [
       "   cve_ent                state  retail_and_recreation_mobility  \\\n",
       "0        1       AGUASCALIENTES                       25.425819   \n",
       "1        2      BAJA CALIFORNIA                       23.980732   \n",
       "2        3  BAJA CALIFORNIA SUR                       29.959538   \n",
       "3        4             CAMPECHE                       33.084778   \n",
       "4        5             COAHUILA                       22.452794   \n",
       "\n",
       "   grocery_and_pharmacy_mobility  parks_percent_mobility  \\\n",
       "0                      -0.716763               26.267823   \n",
       "1                      -4.487476               24.398844   \n",
       "2                       7.406551               29.190751   \n",
       "3                       6.949904               40.766859   \n",
       "4                       0.635838               29.102119   \n",
       "\n",
       "   transit_stations_mobility  workplaces_mobility  residential_mobility  \n",
       "0                  33.957611            17.951830             -9.001927  \n",
       "1                  19.418112            17.337187             -8.799615  \n",
       "2                  23.556840            23.728324             -9.028902  \n",
       "3                  30.210019            22.940270            -11.789981  \n",
       "4                  23.630058            16.306358             -8.344894  "
      ]
     },
     "execution_count": 5,
     "metadata": {},
     "output_type": "execute_result"
    }
   ],
   "source": [
    "dfMobility.head()"
   ]
  },
  {
   "cell_type": "code",
   "execution_count": 6,
   "id": "558eed6b-ec45-4f11-8d80-23e4d5f533ec",
   "metadata": {},
   "outputs": [
    {
     "data": {
      "text/html": [
       "<div>\n",
       "<style scoped>\n",
       "    .dataframe tbody tr th:only-of-type {\n",
       "        vertical-align: middle;\n",
       "    }\n",
       "\n",
       "    .dataframe tbody tr th {\n",
       "        vertical-align: top;\n",
       "    }\n",
       "\n",
       "    .dataframe thead th {\n",
       "        text-align: right;\n",
       "    }\n",
       "</style>\n",
       "<table border=\"1\" class=\"dataframe\">\n",
       "  <thead>\n",
       "    <tr style=\"text-align: right;\">\n",
       "      <th></th>\n",
       "      <th>Unnamed: 0</th>\n",
       "      <th>cve_ent</th>\n",
       "      <th>population/sqkm</th>\n",
       "    </tr>\n",
       "  </thead>\n",
       "  <tbody>\n",
       "    <tr>\n",
       "      <th>0</th>\n",
       "      <td>0</td>\n",
       "      <td>1</td>\n",
       "      <td>258.089437</td>\n",
       "    </tr>\n",
       "    <tr>\n",
       "      <th>1</th>\n",
       "      <td>1</td>\n",
       "      <td>2</td>\n",
       "      <td>49.442754</td>\n",
       "    </tr>\n",
       "    <tr>\n",
       "      <th>2</th>\n",
       "      <td>2</td>\n",
       "      <td>3</td>\n",
       "      <td>10.878742</td>\n",
       "    </tr>\n",
       "    <tr>\n",
       "      <th>3</th>\n",
       "      <td>3</td>\n",
       "      <td>4</td>\n",
       "      <td>17.476649</td>\n",
       "    </tr>\n",
       "    <tr>\n",
       "      <th>4</th>\n",
       "      <td>4</td>\n",
       "      <td>5</td>\n",
       "      <td>21.362540</td>\n",
       "    </tr>\n",
       "  </tbody>\n",
       "</table>\n",
       "</div>"
      ],
      "text/plain": [
       "   Unnamed: 0  cve_ent  population/sqkm\n",
       "0           0        1       258.089437\n",
       "1           1        2        49.442754\n",
       "2           2        3        10.878742\n",
       "3           3        4        17.476649\n",
       "4           4        5        21.362540"
      ]
     },
     "execution_count": 6,
     "metadata": {},
     "output_type": "execute_result"
    }
   ],
   "source": [
    "dfPopDens.head()"
   ]
  },
  {
   "cell_type": "code",
   "execution_count": 7,
   "id": "5dfbed9f-524c-4b36-bfbd-cdab21b9b14a",
   "metadata": {},
   "outputs": [
    {
     "data": {
      "text/html": [
       "<div>\n",
       "<style scoped>\n",
       "    .dataframe tbody tr th:only-of-type {\n",
       "        vertical-align: middle;\n",
       "    }\n",
       "\n",
       "    .dataframe tbody tr th {\n",
       "        vertical-align: top;\n",
       "    }\n",
       "\n",
       "    .dataframe thead th {\n",
       "        text-align: right;\n",
       "    }\n",
       "</style>\n",
       "<table border=\"1\" class=\"dataframe\">\n",
       "  <thead>\n",
       "    <tr style=\"text-align: right;\">\n",
       "      <th></th>\n",
       "      <th>cve_ent</th>\n",
       "      <th>state</th>\n",
       "      <th>pct_pop_obesity</th>\n",
       "      <th>pct_pop_hypertension</th>\n",
       "      <th>pct_pop_diabetes</th>\n",
       "    </tr>\n",
       "  </thead>\n",
       "  <tbody>\n",
       "    <tr>\n",
       "      <th>0</th>\n",
       "      <td>1</td>\n",
       "      <td>Aguascalientes</td>\n",
       "      <td>32.593387</td>\n",
       "      <td>14.700566</td>\n",
       "      <td>7.556478</td>\n",
       "    </tr>\n",
       "    <tr>\n",
       "      <th>1</th>\n",
       "      <td>2</td>\n",
       "      <td>Baja California</td>\n",
       "      <td>48.366995</td>\n",
       "      <td>21.007712</td>\n",
       "      <td>9.974848</td>\n",
       "    </tr>\n",
       "    <tr>\n",
       "      <th>2</th>\n",
       "      <td>3</td>\n",
       "      <td>Baja California Sur</td>\n",
       "      <td>42.849118</td>\n",
       "      <td>16.536911</td>\n",
       "      <td>8.369750</td>\n",
       "    </tr>\n",
       "    <tr>\n",
       "      <th>3</th>\n",
       "      <td>4</td>\n",
       "      <td>Campeche</td>\n",
       "      <td>44.903811</td>\n",
       "      <td>26.108154</td>\n",
       "      <td>14.007917</td>\n",
       "    </tr>\n",
       "    <tr>\n",
       "      <th>4</th>\n",
       "      <td>5</td>\n",
       "      <td>Coahuila de Zaragoza</td>\n",
       "      <td>37.606715</td>\n",
       "      <td>22.397551</td>\n",
       "      <td>12.343806</td>\n",
       "    </tr>\n",
       "  </tbody>\n",
       "</table>\n",
       "</div>"
      ],
      "text/plain": [
       "   cve_ent                 state  pct_pop_obesity  pct_pop_hypertension  \\\n",
       "0        1        Aguascalientes        32.593387             14.700566   \n",
       "1        2       Baja California        48.366995             21.007712   \n",
       "2        3   Baja California Sur        42.849118             16.536911   \n",
       "3        4              Campeche        44.903811             26.108154   \n",
       "4        5  Coahuila de Zaragoza        37.606715             22.397551   \n",
       "\n",
       "   pct_pop_diabetes  \n",
       "0          7.556478  \n",
       "1          9.974848  \n",
       "2          8.369750  \n",
       "3         14.007917  \n",
       "4         12.343806  "
      ]
     },
     "execution_count": 7,
     "metadata": {},
     "output_type": "execute_result"
    }
   ],
   "source": [
    "dfComorbidities.head()"
   ]
  },
  {
   "cell_type": "markdown",
   "id": "5b34cbc3-8c09-4ebc-9a67-59ce327ba43f",
   "metadata": {},
   "source": [
    "All the variables are merged into one dataframe"
   ]
  },
  {
   "cell_type": "code",
   "execution_count": 8,
   "id": "7c0a5728-5a32-4b37-bce1-80f23b9825a9",
   "metadata": {},
   "outputs": [],
   "source": [
    "dfAll = pd.merge(dfVar,dfAges,on=['cve_ent'])"
   ]
  },
  {
   "cell_type": "code",
   "execution_count": 9,
   "id": "91973c13-5268-43f1-b588-bb0b5cefaabb",
   "metadata": {},
   "outputs": [],
   "source": [
    "dfAll = pd.merge(dfAll,dfMobility,on=['cve_ent'])"
   ]
  },
  {
   "cell_type": "code",
   "execution_count": 10,
   "id": "7cb3e683-6a8c-483b-ba76-cb0f28233c4d",
   "metadata": {},
   "outputs": [],
   "source": [
    "dfAll = pd.merge(dfAll,dfPopDens,on=['cve_ent'])"
   ]
  },
  {
   "cell_type": "code",
   "execution_count": 11,
   "id": "79df4574-41a9-43f6-b7ce-18863900489f",
   "metadata": {},
   "outputs": [],
   "source": [
    "dfAll = pd.merge(dfAll,dfComorbidities,on=['cve_ent'])"
   ]
  },
  {
   "cell_type": "markdown",
   "id": "010a86e1-5e5e-440f-ab4d-7f8aaa4a9228",
   "metadata": {},
   "source": [
    "## Heatmap of health variables correlation with case/death rate "
   ]
  },
  {
   "cell_type": "markdown",
   "id": "e388598b-4af0-49e7-9773-6000ceae3219",
   "metadata": {},
   "source": [
    "All the variables related to health and the case/death rate are selected "
   ]
  },
  {
   "cell_type": "code",
   "execution_count": 12,
   "id": "4f212cab-5dae-4f99-9c6c-0b4385757b38",
   "metadata": {},
   "outputs": [],
   "source": [
    "dfHealth = dfAll[['case_rate', 'case_rate_last_60_days',\n",
    "       'death_rate', 'death_rate_last_60_days',\n",
    "       'pct_disability', 'pct_limitation', 'pct_mental_problem',\n",
    "       'pct_no_problems', 'pct_pop_obesity', 'pct_pop_hypertension',\n",
    "       'pct_pop_diabetes']].copy()"
   ]
  },
  {
   "cell_type": "markdown",
   "id": "a6f5bf3e-a382-484b-badc-9b931656ee80",
   "metadata": {},
   "source": [
    "The correlation between the health and the case/death rate is as following"
   ]
  },
  {
   "cell_type": "code",
   "execution_count": 13,
   "id": "c9b9f6eb-c338-4b66-b951-0b90fe7f6f72",
   "metadata": {},
   "outputs": [
    {
     "data": {
      "image/png": "[encoded data removed]",
      "text/plain": [
       "<Figure size 792x648 with 2 Axes>"
      ]
     },
     "metadata": {
      "needs_background": "light"
     },
     "output_type": "display_data"
    }
   ],
   "source": [
    "corr = dfHealth.corr()\n",
    "mask = np.triu(np.ones_like(corr, dtype=bool))\n",
    "f, ax = plt.subplots(figsize=(11, 9))\n",
    "cmap = sns.diverging_palette(230, 20, as_cmap=True)\n",
    "heatmap=sns.heatmap(corr, mask=mask, cmap=cmap, vmax=.3, center=0,\n",
    "            square=True, linewidths=.5, cbar_kws={\"shrink\": .5})\n",
    "heatmap = heatmap.get_figure()\n",
    "heatmap.savefig(\"../figures/Correlation_Health_state.png\", bbox_inches=\"tight\")"
   ]
  },
  {
   "cell_type": "markdown",
   "id": "5d63b1cb-a8b6-49fa-aa07-6a9bdad80bc2",
   "metadata": {},
   "source": [
    "The most significant correlations in the health area were people with mental problems, with no health problems and with comorbiditites such as obesity:\n",
    "\n",
    "We assume that there is a strong correlation in people with mental problems is because in the mental problems variables is consider depression which is a leading cause to immunosuppression meaning that this people were more suceptible to contract the infection and die from it due the low state that there defenses were. Well people with no health problems precisely because they do not have any issues they were able to keep transiting meaning that they were more exposed to the virus. \n",
    "\n",
    "In the comorbodities we assume this people have a deteriorate health condition which makes they more suceptible to contract the infection and die from it. It is also necessary to remark that the obesity has the stronger correlation because of 2 reasons that we assume, the first its because theres a high percentage of obesity in the country making it the top 3 country with the highest obese population ([OECD](https://www.oecd.org/health/obesity-update.htm)), the second reason is because due that this comorbiditite not only implies a high density of body fat but also implies a cardiopulmonary deteriorate condition which could lead to the development of other diseases making the person weaker to the infection."
   ]
  },
  {
   "cell_type": "markdown",
   "id": "ff7ac27f-65f1-44ce-a898-668549767d9c",
   "metadata": {},
   "source": [
    "## Heatmap of Age variables correlation with case/death rate"
   ]
  },
  {
   "cell_type": "markdown",
   "id": "bb66a05f-d645-4072-a816-466eed841c18",
   "metadata": {},
   "source": [
    "All the variables related to age and the case/death rate are selected"
   ]
  },
  {
   "cell_type": "code",
   "execution_count": 14,
   "id": "17a30899-90f7-4502-a4f5-3bb08cedb9e1",
   "metadata": {},
   "outputs": [],
   "source": [
    "dfAge = dfAll[['case_rate', 'case_rate_last_60_days',\n",
    "       'death_rate', 'death_rate_last_60_days',\n",
    "       'pct_pop_0_4_years_old', 'pct_pop_5_9_years_old',\n",
    "       'pct_pop_10_14_years_old', 'pct_pop_15_19_years_old',\n",
    "       'pct_pop_20_24_years_old', 'pct_pop_25_29_years_old',\n",
    "       'pct_pop_30_34_years_old', 'pct_pop_35_39_years_old',\n",
    "       'pct_pop_40_44_years_old', 'pct_pop_45_49_years_old',\n",
    "       'pct_pop_50_54_years_old', 'pct_pop_55_59_years_old',\n",
    "       'pct_pop_60_64_years_old', 'pct_pop_65_69_years_old',\n",
    "       'pct_pop_70_74_years_old', 'pct_pop_75_79_years_old',\n",
    "       'pct_pop_80_84_years_old', 'pct_pop_85_89_years_old',\n",
    "       'pct_pop_90_94_years_old', 'pct_pop_95_99_years_old',\n",
    "       'pct_pop_100_and_more_years_old']].copy()"
   ]
  },
  {
   "cell_type": "markdown",
   "id": "6721a349-a691-4028-8666-161691cb1ed1",
   "metadata": {},
   "source": [
    "The correlation between the age and the case/death rate is as following"
   ]
  },
  {
   "cell_type": "code",
   "execution_count": 15,
   "id": "1bc3095f-0423-4fdc-98db-416580fab42c",
   "metadata": {},
   "outputs": [
    {
     "data": {
      "image/png": "[encoded data removed]",
      "text/plain": [
       "<Figure size 792x648 with 2 Axes>"
      ]
     },
     "metadata": {
      "needs_background": "light"
     },
     "output_type": "display_data"
    }
   ],
   "source": [
    "corr = dfAge.corr()\n",
    "mask = np.triu(np.ones_like(corr, dtype=bool))\n",
    "f, ax = plt.subplots(figsize=(11, 9))\n",
    "cmap = sns.diverging_palette(230, 20, as_cmap=True)\n",
    "heatmap=sns.heatmap(corr, mask=mask, cmap=cmap, vmax=.3, center=0,\n",
    "            square=True, linewidths=.5, cbar_kws={\"shrink\": .5})\n",
    "heatmap = heatmap.get_figure()\n",
    "heatmap.savefig(\"../figures/Correlation_Age_state.png\", bbox_inches=\"tight\")"
   ]
  },
  {
   "cell_type": "markdown",
   "id": "ac2ea287-fb75-4965-8aab-6363f56c88f9",
   "metadata": {},
   "source": [
    "We can see that the correlation between people who are 0 to 19 years old is negative this is due the fact that their age limit them to transit so they were more isolated, it also affects that this age group did not transit in the pandemic since the goverment established online school modality, in the case of people who are 20 to 59 years old they could transit so they were more in contact with the virus, finally people 50 or more years old were also vulnerable to the infection but due their age, which comes with health deterioration, and the death rate they were more suceptible to die that is why their is a positive correlation, but still mentioned the above in the last 60 days that positive correlation behaviour has change into a negative this is due the vaccine plan that the goverment of Mexico implment in which the elderly (50 or more years old) would recive the proper COVID-19 vaccination ([GOBIERNO DE MEXICO](https://coronavirus.gob.mx/wp-content/uploads/2021/05/11May2021_PNVx_COVID.pdf)) this dropped the both case and death rate correlation on this ranges of age.\n",
    "\n",
    "NEEDD TO UPDATE"
   ]
  },
  {
   "cell_type": "markdown",
   "id": "ad581734-97f7-4eba-94d1-8474ed936a1f",
   "metadata": {},
   "source": [
    "## Heatmap of Socioeconomic and Education variables correlation with case/death rate"
   ]
  },
  {
   "cell_type": "markdown",
   "id": "7c9b9e1a-eccf-4a34-a58a-6e56417414a7",
   "metadata": {},
   "source": [
    "All the variables related to socioeconomic and education factors and the case/death rate are selected"
   ]
  },
  {
   "cell_type": "code",
   "execution_count": 16,
   "id": "8589353c-9499-43c7-8b4c-9da568936c5d",
   "metadata": {},
   "outputs": [],
   "source": [
    "dfSocioeconomicEducation = dfAll[['case_rate', 'case_rate_last_60_days',\n",
    "       'death_rate', 'death_rate_last_60_days','pct_no_med_insurance',\n",
    "       'pct_med_insurance','average_years_finish','average_household_size', \n",
    "       'pct_household_tics','pct_household_no_tics']].copy()"
   ]
  },
  {
   "cell_type": "markdown",
   "id": "35a4434f-f02b-4bdc-90a2-7a8bca4fc3d1",
   "metadata": {},
   "source": [
    "The correlation between the socioeconomic and education factors and the case/death rate is as following"
   ]
  },
  {
   "cell_type": "code",
   "execution_count": 17,
   "id": "a19605e3-f9fc-47cb-a8df-41da7f59306d",
   "metadata": {},
   "outputs": [
    {
     "data": {
      "image/png": "[encoded data removed]",
      "text/plain": [
       "<Figure size 792x648 with 2 Axes>"
      ]
     },
     "metadata": {
      "needs_background": "light"
     },
     "output_type": "display_data"
    }
   ],
   "source": [
    "corr = dfSocioeconomicEducation.corr()\n",
    "mask = np.triu(np.ones_like(corr, dtype=bool))\n",
    "f, ax = plt.subplots(figsize=(11, 9))\n",
    "cmap = sns.diverging_palette(230, 20, as_cmap=True)\n",
    "heatmap=sns.heatmap(corr, mask=mask, cmap=cmap, vmax=.3, center=0,\n",
    "            square=True, linewidths=.5, cbar_kws={\"shrink\": .5})\n",
    "heatmap = heatmap.get_figure()\n",
    "heatmap.savefig(\"../figures/Correlation_SocioEconomic_state.png\", bbox_inches=\"tight\")"
   ]
  },
  {
   "cell_type": "markdown",
   "id": "d93a2a8b-f275-48b9-9c6a-b65eec62c2c9",
   "metadata": {},
   "source": [
    "The correlation between people who has medical medical insurance and household with technologies of information and communication (TIC's) is positve due that those people and household are located in high transit areas such as cities making them more suceptible to the virus, well with people who do not has medical insurance or TIC's vicerversa because this people transit in rural areas making them less suceptible. The previous assuption also applies to the average years of education finished because states with higher averages are the ones with more urban areas.\n",
    "\n",
    "In the case of the household size their is not that much of a positive correlation due to the recommendations to prevent the contraction of the virus in ones household that were followed ([IMSS](http://www.imss.gob.mx/prensa/archivo/202006/382#:~:text=Mantener%20la%20sana%20distancia%20de,el%20retorno%20a%20las%20actividades)), and also because in the residential areas we assume a low transit to this recommendations."
   ]
  },
  {
   "cell_type": "markdown",
   "id": "82d44995-45c6-4752-9721-30d9a094b0b3",
   "metadata": {},
   "source": [
    "## Heatmap of population variables correlation with case/death rate"
   ]
  },
  {
   "cell_type": "markdown",
   "id": "744ee4f5-9b2b-44af-80ea-dc172963bf13",
   "metadata": {},
   "source": [
    "All the variables related to population factors and the case/death rate are selected"
   ]
  },
  {
   "cell_type": "code",
   "execution_count": 18,
   "id": "1855b521-4da2-4aa4-8b97-19a2550aee18",
   "metadata": {},
   "outputs": [],
   "source": [
    "dfPopulation = dfAll[['case_rate','case_rate_last_60_days',\n",
    "       'death_rate', 'death_rate_last_60_days',\n",
    "       'retail_and_recreation_mobility', \n",
    "        'grocery_and_pharmacy_mobility',\n",
    "        'parks_percent_mobility',\n",
    "        'transit_stations_mobility',\n",
    "        'workplaces_mobility',\n",
    "        'residential_mobility',\n",
    "       'population/sqkm']].copy()"
   ]
  },
  {
   "cell_type": "markdown",
   "id": "922334c1-42df-47b0-919e-227034cbcce6",
   "metadata": {},
   "source": [
    "The correlation between the population factors and the case/death rate is as following"
   ]
  },
  {
   "cell_type": "code",
   "execution_count": 19,
   "id": "e60caa36-3888-464a-9829-cb4f62acefc4",
   "metadata": {
    "tags": []
   },
   "outputs": [
    {
     "data": {
      "image/png": "[encoded data removed]",
      "text/plain": [
       "<Figure size 792x648 with 2 Axes>"
      ]
     },
     "metadata": {
      "needs_background": "light"
     },
     "output_type": "display_data"
    }
   ],
   "source": [
    "corr = dfPopulation.corr()\n",
    "mask = np.triu(np.ones_like(corr, dtype=bool))\n",
    "f, ax = plt.subplots(figsize=(11, 9))\n",
    "cmap = sns.diverging_palette(230, 20, as_cmap=True)\n",
    "heatmap=sns.heatmap(corr, mask=mask, cmap=cmap, vmax=.3, center=0,\n",
    "            square=True, linewidths=.5, cbar_kws={\"shrink\": .5})\n",
    "heatmap = heatmap.get_figure()\n",
    "heatmap.savefig(\"../figures/Correlation_Population_state.png\", bbox_inches=\"tight\")"
   ]
  },
  {
   "cell_type": "markdown",
   "id": "f14cb465-161a-4630-b084-3b550f0649d1",
   "metadata": {},
   "source": [
    "The correlation between all the mobilities except the residential one are positive this is due that even with all the recommendations that the goverment proposed in the pandemic those areas were still transited meaning that in those areas were centers to contract the virus, meanwhile in the residential area there was not that much transit due to the fear of the general population to infect people close to them where they live.\n",
    "\n",
    "In the case of the population density (population/sqkm) the correlation was positve because in the areas with higher population density the transit was also high meaning that the probability to contract the virus and also die from it is also high, meaning that the population density can be the decisive factor when it comes to include the mobility and to locate urban and rural areas."
   ]
  },
  {
   "cell_type": "markdown",
   "id": "54078f9a-16f0-4394-a587-da68bbef3a66",
   "metadata": {},
   "source": [
    "The variables and the region codes are selected of the dataframe for future storage"
   ]
  },
  {
   "cell_type": "code",
   "execution_count": 20,
   "id": "c953b17b-da78-462c-aa5b-a9be35ffefa7",
   "metadata": {
    "tags": []
   },
   "outputs": [],
   "source": [
    "dfFinal = dfAll[['cve_ent', 'case_rate', 'case_rate_last_60_days',\n",
    "       'death_rate', 'death_rate_last_60_days',\n",
    "       'pct_disability', 'pct_limitation', 'pct_mental_problem',\n",
    "       'pct_no_problems', 'pct_no_med_insurance','pct_med_insurance',\n",
    "        'pct_pop_obesity', 'pct_pop_hypertension',\n",
    "       'pct_pop_diabetes',\n",
    "       'pct_pop_0_4_years_old', 'pct_pop_5_9_years_old',\n",
    "       'pct_pop_10_14_years_old', 'pct_pop_15_19_years_old',\n",
    "       'pct_pop_20_24_years_old', 'pct_pop_25_29_years_old',\n",
    "       'pct_pop_30_34_years_old', 'pct_pop_35_39_years_old',\n",
    "       'pct_pop_40_44_years_old', 'pct_pop_45_49_years_old',\n",
    "       'pct_pop_50_54_years_old', 'pct_pop_55_59_years_old',\n",
    "       'pct_pop_60_64_years_old', 'pct_pop_65_69_years_old',\n",
    "       'pct_pop_70_74_years_old', 'pct_pop_75_79_years_old',\n",
    "       'pct_pop_80_84_years_old', 'pct_pop_85_89_years_old',\n",
    "       'pct_pop_90_94_years_old', 'pct_pop_95_99_years_old',\n",
    "       'pct_pop_100_and_more_years_old',\n",
    "       'average_years_finish','average_household_size', 'pct_household_tics','pct_household_no_tics', \n",
    "       'retail_and_recreation_mobility', \n",
    "       'grocery_and_pharmacy_mobility',\n",
    "       'parks_percent_mobility',\n",
    "       'transit_stations_mobility',\n",
    "       'workplaces_mobility',\n",
    "       'residential_mobility',\n",
    "       'population/sqkm']].copy()"
   ]
  },
  {
   "cell_type": "markdown",
   "id": "25a7084e-6f91-41f1-81fe-81fd0a09151a",
   "metadata": {},
   "source": [
    "The dataframe is stored"
   ]
  },
  {
   "cell_type": "code",
   "execution_count": 21,
   "id": "c4129d43-108e-4e61-b0f6-43c1acda8341",
   "metadata": {},
   "outputs": [],
   "source": [
    "dfFinal.to_csv('../data/week3analyzesStates.csv',index=False)"
   ]
  }
 ],
 "metadata": {
  "kernelspec": {
   "display_name": "Python 3",
   "language": "python",
   "name": "python3"
  },
  "language_info": {
   "codemirror_mode": {
    "name": "ipython",
    "version": 3
   },
   "file_extension": ".py",
   "mimetype": "text/x-python",
   "name": "python",
   "nbconvert_exporter": "python",
   "pygments_lexer": "ipython3",
   "version": "3.9.5"
  }
 },
 "nbformat": 4,
 "nbformat_minor": 5
}
